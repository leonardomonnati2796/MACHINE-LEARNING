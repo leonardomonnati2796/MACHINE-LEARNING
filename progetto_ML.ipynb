{
 "cells": [
  {
   "cell_type": "markdown",
   "id": "ba99b733",
   "metadata": {},
   "source": [
    "## Installazioni\n",
    "\n",
    "Qualora non fossero già presenti sul dispositivo preposto ad eseguire questo file, occorre installare i seguenti packages "
   ]
  },
  {
   "cell_type": "code",
   "execution_count": 46,
   "id": "3ed20ba8",
   "metadata": {},
   "outputs": [],
   "source": [
    "#!pip install -U imbalanced-learn\n",
    "#!pip install imblearn\n",
    "#!pip install imblearn\n",
    "#!pip install -c glemaitre imbalanced-learn\n",
    "#!pip install imblearn==0.0\n",
    "\n",
    "#!pip uninstall scikit-learn -y --quiet\n",
    "#!pip install -U scikit-learn --quiet\n",
    "\n",
    "#!pip install python-dotenv --quiet\n",
    "#!pip install sklearn-genetic --quiet\n",
    "#!pip install tabulate"
   ]
  },
  {
   "cell_type": "markdown",
   "id": "2af56556",
   "metadata": {},
   "source": [
    "Il set di dati preso in questione include 61069 ipotetici funghi con cappello basati su 173 specie (353 funghi\n",
    "per specie). Ogni fungo è identificato come sicuramente commestibile, decisamente velenoso o di\n",
    "commestibilità sconosciuta e sconsigliata (quest'ultima classe è combinata con la classe velenosa).\n",
    "gli attributi del set sono i seguenti:\n",
    "                                           \n",
    "Una classe binaria divisa in commestibile=e e velenosa=p (con quest'ultima contenente anche funghi di commestibilità sconosciuta).\n",
    "Venti variabili rimanenti (n: nominale, m: metrico)\n",
    "1. diametro del tappo (m): numero float in cm\n",
    "2. forma del cappuccio (n): campana=b, conica=c, convessa=x, piatta=f,affondato=s, sferico=p, altri=o\n",
    "3. superficie della calotta (n): fibrosa=i, scanalature=g, squamosa=y, liscia=s,lucido=h, coriaceo=l, setoso=k, appiccicoso=t,rugoso=w, carnoso=e\n",
    "4. colore del cappuccio (n): marrone=n, buff=b, grigio=g, verde=r, rosa=p,viola=u, rosso=e, bianco=w, giallo=y, blu=l,arancione=o, nero=k\n",
    "5. fa-lividi-emorragia (n): lividi-o-emorragia=t,no=f\n",
    "6. attacco branchiale (n): adnato=a, annesso=x, decorrente=d, libero=e,sinuate=s, pori=p, nessuno=f, sconosciuto=?\n",
    "7. spaziatura branchiale (n): vicino=c, lontano=d, none=f\n",
    "8. gill-color (n): vedi cap-color + none=f\n",
    "9. altezza stelo (m): numero galleggiante in cm\n",
    "10. stelo-larghezza (m): numero galleggiante in mm\n",
    "11. radice-gambo (n): bulbosa=b, gonfia=s, mazza=c, coppa=u, uguale=e,rizomorfi=z, radicati=r\n",
    "12. stem-surface (n): vedi cap-surface + none=f\n",
    "13. stem-color (n): vedi cap-color + none=f\n",
    "14. velo-tipo (n): parziale=p, universale=u\n",
    "15. colore-velo (n): vedi colore-berretto + nessuno=f\n",
    "16. anello-ha (n): anello=t, nessuno=f\n",
    "17. tipo ad anello (n): ragnatela=c, evanescente=e, svasato=r, scanalato=g,grande=l, pendente=p, guaina=s, zona=z, squamoso=y, mobile=m, nessuno=f, sconosciuto=?\n",
    "18. spore-print-color (n): vedi colore cappuccio\n",
    "19. habitat (n): erbe=g, foglie=l, prati=m, sentieri=p, brughiere=h,urbano=u, rifiuti=w, bosco=d\n",
    "20. stagione (n): primavera=s, estate=u, autunno=a, inverno=s\n",
    "                                                          \n",
    "il dataset è reperibile dal seguente link :http://archive.ics.uci.edu/ml/datasets/Secondary+Mushroom+Dataset\n",
    "                                                          \n",
    "Le metriche di valutazione da utilizzare sono: \n",
    "\n",
    "Accuracy: $$\\frac{\\text{# oggetti classificati correttamente}}{\\text{# oggetti}}$$\n",
    "\n",
    "Precision class $i$: $$\\frac{\\text{# oggetti della classe $i$ classificati correttamente}}{\\text{# oggetti classificati come classe $i$}}$$\n",
    "\n",
    "Recall class $i$: $$\\frac{\\text{# oggetti della classe $i$ classificati correttamente}}{\\text{# oggetti della classe $i$}}$$\n",
    "\n",
    "F-score class $i$: $$\\frac{\\text{Precision classe $i$} \\times \\text{Recall classe $i$}}{\\text{Precision classe $i$}+\\text{Recall classe $i$}}$$\n",
    "\n",
    "                                                          "
   ]
  },
  {
   "cell_type": "code",
   "execution_count": 47,
   "id": "48cae12a",
   "metadata": {},
   "outputs": [],
   "source": [
    "import pandas as pd\n",
    "import sklearn\n",
    "import numpy as np\n",
    "import io\n",
    "import datetime\n",
    "from tabulate import tabulate\n",
    "\n",
    "from sklearn.metrics import log_loss,f1_score,confusion_matrix,accuracy_score, classification_report,precision_score,recall_score\n",
    "\n",
    "from sklearn.feature_selection import mutual_info_classif,SelectKBest\n",
    "\n",
    "from sklearn.linear_model import LogisticRegressionCV, LogisticRegression\n",
    "from sklearn.preprocessing import LabelEncoder\n",
    "import seaborn as sns\n",
    "\n",
    "from sklearn.decomposition import PCA\n",
    "\n",
    "from sklearn.preprocessing import StandardScaler, MinMaxScaler, MaxAbsScaler, PowerTransformer, QuantileTransformer\n",
    "\n",
    "\n",
    "from sklearn.ensemble import ExtraTreesClassifier\n",
    "from imblearn.under_sampling import RandomUnderSampler, TomekLinks\n",
    "from imblearn.over_sampling import RandomOverSampler, SMOTE\n",
    "from imblearn.combine import SMOTETomek \n",
    "\n",
    "from sklearn.svm import SVC\n",
    "from sklearn.tree import DecisionTreeClassifier\n",
    "from sklearn.ensemble import RandomForestClassifier\n",
    "from sklearn.naive_bayes import MultinomialNB,GaussianNB\n",
    "from sklearn.ensemble import GradientBoostingClassifier\n",
    "from sklearn.neural_network import MLPClassifier\n",
    "from sklearn.discriminant_analysis import LinearDiscriminantAnalysis, QuadraticDiscriminantAnalysis\n",
    "\n",
    "from sklearn.experimental import enable_halving_search_cv\n",
    "from sklearn.model_selection import HalvingGridSearchCV,GridSearchCV,RandomizedSearchCV\n",
    "\n",
    "from sklearn.neighbors import KNeighborsClassifier\n",
    "\n",
    "import matplotlib.pyplot as plt\n",
    "from sklearn import datasets\n",
    "import plotly.express as px"
   ]
  },
  {
   "cell_type": "markdown",
   "id": "b1312e82",
   "metadata": {},
   "source": [
    "Per inziare lo studio si è caricando sul notebook il dataset per convertirlo in dataframe. Alcuni valori del dataframe sono stati stampati in output tramite le funzioni head() e describe(), al fine di analizzarne il contenuto (le funzioni stampano le prime x righe (ne sono state scelte 15)"
   ]
  },
  {
   "cell_type": "code",
   "execution_count": 48,
   "id": "82872a0f",
   "metadata": {},
   "outputs": [
    {
     "data": {
      "text/html": [
       "<div>\n",
       "<style scoped>\n",
       "    .dataframe tbody tr th:only-of-type {\n",
       "        vertical-align: middle;\n",
       "    }\n",
       "\n",
       "    .dataframe tbody tr th {\n",
       "        vertical-align: top;\n",
       "    }\n",
       "\n",
       "    .dataframe thead th {\n",
       "        text-align: right;\n",
       "    }\n",
       "</style>\n",
       "<table border=\"1\" class=\"dataframe\">\n",
       "  <thead>\n",
       "    <tr style=\"text-align: right;\">\n",
       "      <th></th>\n",
       "      <th>class</th>\n",
       "      <th>cap-diameter</th>\n",
       "      <th>cap-shape</th>\n",
       "      <th>cap-surface</th>\n",
       "      <th>cap-color</th>\n",
       "      <th>does-bruise-or-bleed</th>\n",
       "      <th>gill-attachment</th>\n",
       "      <th>gill-spacing</th>\n",
       "      <th>gill-color</th>\n",
       "      <th>stem-height</th>\n",
       "      <th>...</th>\n",
       "      <th>stem-root</th>\n",
       "      <th>stem-surface</th>\n",
       "      <th>stem-color</th>\n",
       "      <th>veil-type</th>\n",
       "      <th>veil-color</th>\n",
       "      <th>has-ring</th>\n",
       "      <th>ring-type</th>\n",
       "      <th>spore-print-color</th>\n",
       "      <th>habitat</th>\n",
       "      <th>season</th>\n",
       "    </tr>\n",
       "  </thead>\n",
       "  <tbody>\n",
       "    <tr>\n",
       "      <th>0</th>\n",
       "      <td>p</td>\n",
       "      <td>15.26</td>\n",
       "      <td>x</td>\n",
       "      <td>g</td>\n",
       "      <td>o</td>\n",
       "      <td>f</td>\n",
       "      <td>e</td>\n",
       "      <td>NaN</td>\n",
       "      <td>w</td>\n",
       "      <td>16.95</td>\n",
       "      <td>...</td>\n",
       "      <td>s</td>\n",
       "      <td>y</td>\n",
       "      <td>w</td>\n",
       "      <td>u</td>\n",
       "      <td>w</td>\n",
       "      <td>t</td>\n",
       "      <td>g</td>\n",
       "      <td>NaN</td>\n",
       "      <td>d</td>\n",
       "      <td>w</td>\n",
       "    </tr>\n",
       "    <tr>\n",
       "      <th>1</th>\n",
       "      <td>p</td>\n",
       "      <td>16.60</td>\n",
       "      <td>x</td>\n",
       "      <td>g</td>\n",
       "      <td>o</td>\n",
       "      <td>f</td>\n",
       "      <td>e</td>\n",
       "      <td>NaN</td>\n",
       "      <td>w</td>\n",
       "      <td>17.99</td>\n",
       "      <td>...</td>\n",
       "      <td>s</td>\n",
       "      <td>y</td>\n",
       "      <td>w</td>\n",
       "      <td>u</td>\n",
       "      <td>w</td>\n",
       "      <td>t</td>\n",
       "      <td>g</td>\n",
       "      <td>NaN</td>\n",
       "      <td>d</td>\n",
       "      <td>u</td>\n",
       "    </tr>\n",
       "    <tr>\n",
       "      <th>2</th>\n",
       "      <td>p</td>\n",
       "      <td>14.07</td>\n",
       "      <td>x</td>\n",
       "      <td>g</td>\n",
       "      <td>o</td>\n",
       "      <td>f</td>\n",
       "      <td>e</td>\n",
       "      <td>NaN</td>\n",
       "      <td>w</td>\n",
       "      <td>17.80</td>\n",
       "      <td>...</td>\n",
       "      <td>s</td>\n",
       "      <td>y</td>\n",
       "      <td>w</td>\n",
       "      <td>u</td>\n",
       "      <td>w</td>\n",
       "      <td>t</td>\n",
       "      <td>g</td>\n",
       "      <td>NaN</td>\n",
       "      <td>d</td>\n",
       "      <td>w</td>\n",
       "    </tr>\n",
       "    <tr>\n",
       "      <th>3</th>\n",
       "      <td>p</td>\n",
       "      <td>14.17</td>\n",
       "      <td>f</td>\n",
       "      <td>h</td>\n",
       "      <td>e</td>\n",
       "      <td>f</td>\n",
       "      <td>e</td>\n",
       "      <td>NaN</td>\n",
       "      <td>w</td>\n",
       "      <td>15.77</td>\n",
       "      <td>...</td>\n",
       "      <td>s</td>\n",
       "      <td>y</td>\n",
       "      <td>w</td>\n",
       "      <td>u</td>\n",
       "      <td>w</td>\n",
       "      <td>t</td>\n",
       "      <td>p</td>\n",
       "      <td>NaN</td>\n",
       "      <td>d</td>\n",
       "      <td>w</td>\n",
       "    </tr>\n",
       "    <tr>\n",
       "      <th>4</th>\n",
       "      <td>p</td>\n",
       "      <td>14.64</td>\n",
       "      <td>x</td>\n",
       "      <td>h</td>\n",
       "      <td>o</td>\n",
       "      <td>f</td>\n",
       "      <td>e</td>\n",
       "      <td>NaN</td>\n",
       "      <td>w</td>\n",
       "      <td>16.53</td>\n",
       "      <td>...</td>\n",
       "      <td>s</td>\n",
       "      <td>y</td>\n",
       "      <td>w</td>\n",
       "      <td>u</td>\n",
       "      <td>w</td>\n",
       "      <td>t</td>\n",
       "      <td>p</td>\n",
       "      <td>NaN</td>\n",
       "      <td>d</td>\n",
       "      <td>w</td>\n",
       "    </tr>\n",
       "    <tr>\n",
       "      <th>5</th>\n",
       "      <td>p</td>\n",
       "      <td>15.34</td>\n",
       "      <td>x</td>\n",
       "      <td>g</td>\n",
       "      <td>o</td>\n",
       "      <td>f</td>\n",
       "      <td>e</td>\n",
       "      <td>NaN</td>\n",
       "      <td>w</td>\n",
       "      <td>17.84</td>\n",
       "      <td>...</td>\n",
       "      <td>s</td>\n",
       "      <td>y</td>\n",
       "      <td>w</td>\n",
       "      <td>u</td>\n",
       "      <td>w</td>\n",
       "      <td>t</td>\n",
       "      <td>p</td>\n",
       "      <td>NaN</td>\n",
       "      <td>d</td>\n",
       "      <td>u</td>\n",
       "    </tr>\n",
       "    <tr>\n",
       "      <th>6</th>\n",
       "      <td>p</td>\n",
       "      <td>14.85</td>\n",
       "      <td>f</td>\n",
       "      <td>h</td>\n",
       "      <td>o</td>\n",
       "      <td>f</td>\n",
       "      <td>e</td>\n",
       "      <td>NaN</td>\n",
       "      <td>w</td>\n",
       "      <td>17.71</td>\n",
       "      <td>...</td>\n",
       "      <td>s</td>\n",
       "      <td>y</td>\n",
       "      <td>w</td>\n",
       "      <td>u</td>\n",
       "      <td>w</td>\n",
       "      <td>t</td>\n",
       "      <td>g</td>\n",
       "      <td>NaN</td>\n",
       "      <td>d</td>\n",
       "      <td>w</td>\n",
       "    </tr>\n",
       "    <tr>\n",
       "      <th>7</th>\n",
       "      <td>p</td>\n",
       "      <td>14.86</td>\n",
       "      <td>x</td>\n",
       "      <td>h</td>\n",
       "      <td>e</td>\n",
       "      <td>f</td>\n",
       "      <td>e</td>\n",
       "      <td>NaN</td>\n",
       "      <td>w</td>\n",
       "      <td>17.03</td>\n",
       "      <td>...</td>\n",
       "      <td>s</td>\n",
       "      <td>y</td>\n",
       "      <td>w</td>\n",
       "      <td>u</td>\n",
       "      <td>w</td>\n",
       "      <td>t</td>\n",
       "      <td>p</td>\n",
       "      <td>NaN</td>\n",
       "      <td>d</td>\n",
       "      <td>u</td>\n",
       "    </tr>\n",
       "    <tr>\n",
       "      <th>8</th>\n",
       "      <td>p</td>\n",
       "      <td>12.85</td>\n",
       "      <td>f</td>\n",
       "      <td>g</td>\n",
       "      <td>o</td>\n",
       "      <td>f</td>\n",
       "      <td>e</td>\n",
       "      <td>NaN</td>\n",
       "      <td>w</td>\n",
       "      <td>17.27</td>\n",
       "      <td>...</td>\n",
       "      <td>s</td>\n",
       "      <td>y</td>\n",
       "      <td>w</td>\n",
       "      <td>u</td>\n",
       "      <td>w</td>\n",
       "      <td>t</td>\n",
       "      <td>p</td>\n",
       "      <td>NaN</td>\n",
       "      <td>d</td>\n",
       "      <td>a</td>\n",
       "    </tr>\n",
       "    <tr>\n",
       "      <th>9</th>\n",
       "      <td>p</td>\n",
       "      <td>13.55</td>\n",
       "      <td>f</td>\n",
       "      <td>g</td>\n",
       "      <td>e</td>\n",
       "      <td>f</td>\n",
       "      <td>e</td>\n",
       "      <td>NaN</td>\n",
       "      <td>w</td>\n",
       "      <td>16.04</td>\n",
       "      <td>...</td>\n",
       "      <td>s</td>\n",
       "      <td>y</td>\n",
       "      <td>w</td>\n",
       "      <td>u</td>\n",
       "      <td>w</td>\n",
       "      <td>t</td>\n",
       "      <td>p</td>\n",
       "      <td>NaN</td>\n",
       "      <td>d</td>\n",
       "      <td>w</td>\n",
       "    </tr>\n",
       "    <tr>\n",
       "      <th>10</th>\n",
       "      <td>p</td>\n",
       "      <td>14.17</td>\n",
       "      <td>f</td>\n",
       "      <td>h</td>\n",
       "      <td>e</td>\n",
       "      <td>f</td>\n",
       "      <td>e</td>\n",
       "      <td>NaN</td>\n",
       "      <td>w</td>\n",
       "      <td>17.86</td>\n",
       "      <td>...</td>\n",
       "      <td>s</td>\n",
       "      <td>y</td>\n",
       "      <td>w</td>\n",
       "      <td>u</td>\n",
       "      <td>w</td>\n",
       "      <td>t</td>\n",
       "      <td>p</td>\n",
       "      <td>NaN</td>\n",
       "      <td>d</td>\n",
       "      <td>a</td>\n",
       "    </tr>\n",
       "    <tr>\n",
       "      <th>11</th>\n",
       "      <td>p</td>\n",
       "      <td>13.40</td>\n",
       "      <td>x</td>\n",
       "      <td>h</td>\n",
       "      <td>o</td>\n",
       "      <td>f</td>\n",
       "      <td>e</td>\n",
       "      <td>NaN</td>\n",
       "      <td>w</td>\n",
       "      <td>17.95</td>\n",
       "      <td>...</td>\n",
       "      <td>s</td>\n",
       "      <td>y</td>\n",
       "      <td>w</td>\n",
       "      <td>u</td>\n",
       "      <td>w</td>\n",
       "      <td>t</td>\n",
       "      <td>p</td>\n",
       "      <td>NaN</td>\n",
       "      <td>d</td>\n",
       "      <td>u</td>\n",
       "    </tr>\n",
       "    <tr>\n",
       "      <th>12</th>\n",
       "      <td>p</td>\n",
       "      <td>17.37</td>\n",
       "      <td>x</td>\n",
       "      <td>h</td>\n",
       "      <td>o</td>\n",
       "      <td>f</td>\n",
       "      <td>e</td>\n",
       "      <td>NaN</td>\n",
       "      <td>w</td>\n",
       "      <td>18.10</td>\n",
       "      <td>...</td>\n",
       "      <td>s</td>\n",
       "      <td>y</td>\n",
       "      <td>w</td>\n",
       "      <td>u</td>\n",
       "      <td>w</td>\n",
       "      <td>t</td>\n",
       "      <td>g</td>\n",
       "      <td>NaN</td>\n",
       "      <td>d</td>\n",
       "      <td>u</td>\n",
       "    </tr>\n",
       "    <tr>\n",
       "      <th>13</th>\n",
       "      <td>p</td>\n",
       "      <td>16.56</td>\n",
       "      <td>x</td>\n",
       "      <td>h</td>\n",
       "      <td>o</td>\n",
       "      <td>f</td>\n",
       "      <td>e</td>\n",
       "      <td>NaN</td>\n",
       "      <td>w</td>\n",
       "      <td>18.89</td>\n",
       "      <td>...</td>\n",
       "      <td>s</td>\n",
       "      <td>y</td>\n",
       "      <td>w</td>\n",
       "      <td>u</td>\n",
       "      <td>w</td>\n",
       "      <td>t</td>\n",
       "      <td>p</td>\n",
       "      <td>NaN</td>\n",
       "      <td>d</td>\n",
       "      <td>u</td>\n",
       "    </tr>\n",
       "    <tr>\n",
       "      <th>14</th>\n",
       "      <td>p</td>\n",
       "      <td>15.37</td>\n",
       "      <td>x</td>\n",
       "      <td>h</td>\n",
       "      <td>e</td>\n",
       "      <td>f</td>\n",
       "      <td>e</td>\n",
       "      <td>NaN</td>\n",
       "      <td>w</td>\n",
       "      <td>18.19</td>\n",
       "      <td>...</td>\n",
       "      <td>s</td>\n",
       "      <td>y</td>\n",
       "      <td>w</td>\n",
       "      <td>u</td>\n",
       "      <td>w</td>\n",
       "      <td>t</td>\n",
       "      <td>g</td>\n",
       "      <td>NaN</td>\n",
       "      <td>d</td>\n",
       "      <td>a</td>\n",
       "    </tr>\n",
       "  </tbody>\n",
       "</table>\n",
       "<p>15 rows × 21 columns</p>\n",
       "</div>"
      ],
      "text/plain": [
       "   class  cap-diameter cap-shape cap-surface cap-color does-bruise-or-bleed  \\\n",
       "0      p         15.26         x           g         o                    f   \n",
       "1      p         16.60         x           g         o                    f   \n",
       "2      p         14.07         x           g         o                    f   \n",
       "3      p         14.17         f           h         e                    f   \n",
       "4      p         14.64         x           h         o                    f   \n",
       "5      p         15.34         x           g         o                    f   \n",
       "6      p         14.85         f           h         o                    f   \n",
       "7      p         14.86         x           h         e                    f   \n",
       "8      p         12.85         f           g         o                    f   \n",
       "9      p         13.55         f           g         e                    f   \n",
       "10     p         14.17         f           h         e                    f   \n",
       "11     p         13.40         x           h         o                    f   \n",
       "12     p         17.37         x           h         o                    f   \n",
       "13     p         16.56         x           h         o                    f   \n",
       "14     p         15.37         x           h         e                    f   \n",
       "\n",
       "   gill-attachment gill-spacing gill-color  stem-height  ...  stem-root  \\\n",
       "0                e          NaN          w        16.95  ...          s   \n",
       "1                e          NaN          w        17.99  ...          s   \n",
       "2                e          NaN          w        17.80  ...          s   \n",
       "3                e          NaN          w        15.77  ...          s   \n",
       "4                e          NaN          w        16.53  ...          s   \n",
       "5                e          NaN          w        17.84  ...          s   \n",
       "6                e          NaN          w        17.71  ...          s   \n",
       "7                e          NaN          w        17.03  ...          s   \n",
       "8                e          NaN          w        17.27  ...          s   \n",
       "9                e          NaN          w        16.04  ...          s   \n",
       "10               e          NaN          w        17.86  ...          s   \n",
       "11               e          NaN          w        17.95  ...          s   \n",
       "12               e          NaN          w        18.10  ...          s   \n",
       "13               e          NaN          w        18.89  ...          s   \n",
       "14               e          NaN          w        18.19  ...          s   \n",
       "\n",
       "   stem-surface stem-color veil-type veil-color has-ring ring-type  \\\n",
       "0             y          w         u          w        t         g   \n",
       "1             y          w         u          w        t         g   \n",
       "2             y          w         u          w        t         g   \n",
       "3             y          w         u          w        t         p   \n",
       "4             y          w         u          w        t         p   \n",
       "5             y          w         u          w        t         p   \n",
       "6             y          w         u          w        t         g   \n",
       "7             y          w         u          w        t         p   \n",
       "8             y          w         u          w        t         p   \n",
       "9             y          w         u          w        t         p   \n",
       "10            y          w         u          w        t         p   \n",
       "11            y          w         u          w        t         p   \n",
       "12            y          w         u          w        t         g   \n",
       "13            y          w         u          w        t         p   \n",
       "14            y          w         u          w        t         g   \n",
       "\n",
       "   spore-print-color habitat season  \n",
       "0                NaN       d      w  \n",
       "1                NaN       d      u  \n",
       "2                NaN       d      w  \n",
       "3                NaN       d      w  \n",
       "4                NaN       d      w  \n",
       "5                NaN       d      u  \n",
       "6                NaN       d      w  \n",
       "7                NaN       d      u  \n",
       "8                NaN       d      a  \n",
       "9                NaN       d      w  \n",
       "10               NaN       d      a  \n",
       "11               NaN       d      u  \n",
       "12               NaN       d      u  \n",
       "13               NaN       d      u  \n",
       "14               NaN       d      a  \n",
       "\n",
       "[15 rows x 21 columns]"
      ]
     },
     "execution_count": 48,
     "metadata": {},
     "output_type": "execute_result"
    }
   ],
   "source": [
    "ms= pd.read_csv('./secondary_data.csv')\n",
    "ms.head(15)"
   ]
  },
  {
   "cell_type": "markdown",
   "id": "33a6ac0d",
   "metadata": {},
   "source": [
    "attraverso l'ausilio della funzione describe() si evince che solamente tre features sono numeriche "
   ]
  },
  {
   "cell_type": "code",
   "execution_count": 49,
   "id": "1513bfcf",
   "metadata": {},
   "outputs": [
    {
     "data": {
      "text/html": [
       "<div>\n",
       "<style scoped>\n",
       "    .dataframe tbody tr th:only-of-type {\n",
       "        vertical-align: middle;\n",
       "    }\n",
       "\n",
       "    .dataframe tbody tr th {\n",
       "        vertical-align: top;\n",
       "    }\n",
       "\n",
       "    .dataframe thead th {\n",
       "        text-align: right;\n",
       "    }\n",
       "</style>\n",
       "<table border=\"1\" class=\"dataframe\">\n",
       "  <thead>\n",
       "    <tr style=\"text-align: right;\">\n",
       "      <th></th>\n",
       "      <th>cap-diameter</th>\n",
       "      <th>stem-height</th>\n",
       "      <th>stem-width</th>\n",
       "    </tr>\n",
       "  </thead>\n",
       "  <tbody>\n",
       "    <tr>\n",
       "      <th>count</th>\n",
       "      <td>61069.000000</td>\n",
       "      <td>61069.000000</td>\n",
       "      <td>61069.000000</td>\n",
       "    </tr>\n",
       "    <tr>\n",
       "      <th>mean</th>\n",
       "      <td>6.733854</td>\n",
       "      <td>6.581538</td>\n",
       "      <td>12.149410</td>\n",
       "    </tr>\n",
       "    <tr>\n",
       "      <th>std</th>\n",
       "      <td>5.264845</td>\n",
       "      <td>3.370017</td>\n",
       "      <td>10.035955</td>\n",
       "    </tr>\n",
       "    <tr>\n",
       "      <th>min</th>\n",
       "      <td>0.380000</td>\n",
       "      <td>0.000000</td>\n",
       "      <td>0.000000</td>\n",
       "    </tr>\n",
       "    <tr>\n",
       "      <th>25%</th>\n",
       "      <td>3.480000</td>\n",
       "      <td>4.640000</td>\n",
       "      <td>5.210000</td>\n",
       "    </tr>\n",
       "    <tr>\n",
       "      <th>50%</th>\n",
       "      <td>5.860000</td>\n",
       "      <td>5.950000</td>\n",
       "      <td>10.190000</td>\n",
       "    </tr>\n",
       "    <tr>\n",
       "      <th>75%</th>\n",
       "      <td>8.540000</td>\n",
       "      <td>7.740000</td>\n",
       "      <td>16.570000</td>\n",
       "    </tr>\n",
       "    <tr>\n",
       "      <th>max</th>\n",
       "      <td>62.340000</td>\n",
       "      <td>33.920000</td>\n",
       "      <td>103.910000</td>\n",
       "    </tr>\n",
       "  </tbody>\n",
       "</table>\n",
       "</div>"
      ],
      "text/plain": [
       "       cap-diameter   stem-height    stem-width\n",
       "count  61069.000000  61069.000000  61069.000000\n",
       "mean       6.733854      6.581538     12.149410\n",
       "std        5.264845      3.370017     10.035955\n",
       "min        0.380000      0.000000      0.000000\n",
       "25%        3.480000      4.640000      5.210000\n",
       "50%        5.860000      5.950000     10.190000\n",
       "75%        8.540000      7.740000     16.570000\n",
       "max       62.340000     33.920000    103.910000"
      ]
     },
     "execution_count": 49,
     "metadata": {},
     "output_type": "execute_result"
    }
   ],
   "source": [
    "ms.describe()"
   ]
  },
  {
   "cell_type": "markdown",
   "id": "76a809b6",
   "metadata": {},
   "source": [
    "si procede dunque con il valutare quanti elementi sono presenti in ogni classe. il dataset si presenta bilanciato. procediamo con eliminare gli oggetti ridondanti del dataset al fine di minimizzare la computazione senza perdere qualità informativa ."
   ]
  },
  {
   "cell_type": "code",
   "execution_count": 50,
   "id": "ab856931",
   "metadata": {},
   "outputs": [
    {
     "data": {
      "text/plain": [
       "p    33888\n",
       "e    27181\n",
       "Name: class, dtype: int64"
      ]
     },
     "execution_count": 50,
     "metadata": {},
     "output_type": "execute_result"
    }
   ],
   "source": [
    "ms['class'].value_counts()"
   ]
  },
  {
   "cell_type": "code",
   "execution_count": 51,
   "id": "33dce744",
   "metadata": {},
   "outputs": [
    {
     "data": {
      "text/plain": [
       "p    33742\n",
       "e    27181\n",
       "Name: class, dtype: int64"
      ]
     },
     "execution_count": 51,
     "metadata": {},
     "output_type": "execute_result"
    }
   ],
   "source": [
    "ms = ms.drop_duplicates() \n",
    "ms['class'].value_counts()"
   ]
  },
  {
   "cell_type": "code",
   "execution_count": 52,
   "id": "ee560cb4",
   "metadata": {},
   "outputs": [
    {
     "data": {
      "image/png": "[encoded data removed]",
      "text/plain": [
       "<Figure size 720x720 with 1 Axes>"
      ]
     },
     "metadata": {},
     "output_type": "display_data"
    }
   ],
   "source": [
    "col = ['green','blue']\n",
    "lab = ['P','E']\n",
    "valori = ms['class'].value_counts()/ms['class'].shape[0]\n",
    "\n",
    "fig1, ax1 = plt.subplots(figsize=(10,10))\n",
    "ax1.pie(valori, labels=lab , colors = col, autopct='%1.1f%%', textprops={'fontsize': 15},\n",
    "        shadow=True, startangle=90)\n",
    "ax1.axis('equal')\n",
    "ax1.legend(lab)\n",
    "ax1.set_title('Mushrooms', size=30)\n",
    "\n",
    "\n",
    "plt.show()"
   ]
  },
  {
   "cell_type": "markdown",
   "id": "eba3932f",
   "metadata": {},
   "source": [
    "# Preprocessing\n",
    "\n",
    "Per prima cosa è opportuno fare del preprocessing sul Dataset perché è noto che gli algoritmi di apprendimento beneficiano di una rielaborazione dei dati. Il preprocessing è a sua volta suddiviso nei seguenti passi:\n",
    "\n",
    "-Feature Selection\n",
    "\n",
    "-Gestione degli outliers\n",
    "\n",
    "-Scaling dei dati\n",
    "\n",
    "\n",
    "Attraverso la funzione info() si nota che esistono diversi attributi classificati come Null e che le restanti features sono di tipo object. Le colonne 11,14,15 e 18 hanno meno del 20% di valori non nulli. Si procede quindi con la loro eliminazione"
   ]
  },
  {
   "cell_type": "code",
   "execution_count": 53,
   "id": "efc6fcd1",
   "metadata": {
    "scrolled": false
   },
   "outputs": [
    {
     "name": "stdout",
     "output_type": "stream",
     "text": [
      "<class 'pandas.core.frame.DataFrame'>\n",
      "Int64Index: 60923 entries, 0 to 61068\n",
      "Data columns (total 21 columns):\n",
      " #   Column                Non-Null Count  Dtype  \n",
      "---  ------                --------------  -----  \n",
      " 0   class                 60923 non-null  object \n",
      " 1   cap-diameter          60923 non-null  float64\n",
      " 2   cap-shape             60923 non-null  object \n",
      " 3   cap-surface           46803 non-null  object \n",
      " 4   cap-color             60923 non-null  object \n",
      " 5   does-bruise-or-bleed  60923 non-null  object \n",
      " 6   gill-attachment       51068 non-null  object \n",
      " 7   gill-spacing          35861 non-null  object \n",
      " 8   gill-color            60923 non-null  object \n",
      " 9   stem-height           60923 non-null  float64\n",
      " 10  stem-width            60923 non-null  float64\n",
      " 11  stem-root             9387 non-null   object \n",
      " 12  stem-surface          22801 non-null  object \n",
      " 13  stem-color            60923 non-null  object \n",
      " 14  veil-type             3177 non-null   object \n",
      " 15  veil-color            7413 non-null   object \n",
      " 16  has-ring              60923 non-null  object \n",
      " 17  ring-type             58452 non-null  object \n",
      " 18  spore-print-color     6326 non-null   object \n",
      " 19  habitat               60923 non-null  object \n",
      " 20  season                60923 non-null  object \n",
      "dtypes: float64(3), object(18)\n",
      "memory usage: 10.2+ MB\n"
     ]
    }
   ],
   "source": [
    "ms.info()"
   ]
  },
  {
   "cell_type": "code",
   "execution_count": 54,
   "id": "d42a0906",
   "metadata": {},
   "outputs": [],
   "source": [
    "for i in [18,15,14,11]:\n",
    "    ms = ms.drop(ms.columns[i], axis = 1)"
   ]
  },
  {
   "cell_type": "code",
   "execution_count": 55,
   "id": "45c34c44",
   "metadata": {},
   "outputs": [
    {
     "data": {
      "text/html": [
       "<div>\n",
       "<style scoped>\n",
       "    .dataframe tbody tr th:only-of-type {\n",
       "        vertical-align: middle;\n",
       "    }\n",
       "\n",
       "    .dataframe tbody tr th {\n",
       "        vertical-align: top;\n",
       "    }\n",
       "\n",
       "    .dataframe thead th {\n",
       "        text-align: right;\n",
       "    }\n",
       "</style>\n",
       "<table border=\"1\" class=\"dataframe\">\n",
       "  <thead>\n",
       "    <tr style=\"text-align: right;\">\n",
       "      <th></th>\n",
       "      <th>class</th>\n",
       "      <th>cap-diameter</th>\n",
       "      <th>cap-shape</th>\n",
       "      <th>cap-surface</th>\n",
       "      <th>cap-color</th>\n",
       "      <th>does-bruise-or-bleed</th>\n",
       "      <th>gill-attachment</th>\n",
       "      <th>gill-spacing</th>\n",
       "      <th>gill-color</th>\n",
       "      <th>stem-height</th>\n",
       "      <th>stem-width</th>\n",
       "      <th>stem-surface</th>\n",
       "      <th>stem-color</th>\n",
       "      <th>has-ring</th>\n",
       "      <th>ring-type</th>\n",
       "      <th>habitat</th>\n",
       "      <th>season</th>\n",
       "    </tr>\n",
       "  </thead>\n",
       "  <tbody>\n",
       "    <tr>\n",
       "      <th>0</th>\n",
       "      <td>p</td>\n",
       "      <td>15.26</td>\n",
       "      <td>x</td>\n",
       "      <td>g</td>\n",
       "      <td>o</td>\n",
       "      <td>f</td>\n",
       "      <td>e</td>\n",
       "      <td>NaN</td>\n",
       "      <td>w</td>\n",
       "      <td>16.95</td>\n",
       "      <td>17.09</td>\n",
       "      <td>y</td>\n",
       "      <td>w</td>\n",
       "      <td>t</td>\n",
       "      <td>g</td>\n",
       "      <td>d</td>\n",
       "      <td>w</td>\n",
       "    </tr>\n",
       "    <tr>\n",
       "      <th>1</th>\n",
       "      <td>p</td>\n",
       "      <td>16.60</td>\n",
       "      <td>x</td>\n",
       "      <td>g</td>\n",
       "      <td>o</td>\n",
       "      <td>f</td>\n",
       "      <td>e</td>\n",
       "      <td>NaN</td>\n",
       "      <td>w</td>\n",
       "      <td>17.99</td>\n",
       "      <td>18.19</td>\n",
       "      <td>y</td>\n",
       "      <td>w</td>\n",
       "      <td>t</td>\n",
       "      <td>g</td>\n",
       "      <td>d</td>\n",
       "      <td>u</td>\n",
       "    </tr>\n",
       "    <tr>\n",
       "      <th>2</th>\n",
       "      <td>p</td>\n",
       "      <td>14.07</td>\n",
       "      <td>x</td>\n",
       "      <td>g</td>\n",
       "      <td>o</td>\n",
       "      <td>f</td>\n",
       "      <td>e</td>\n",
       "      <td>NaN</td>\n",
       "      <td>w</td>\n",
       "      <td>17.80</td>\n",
       "      <td>17.74</td>\n",
       "      <td>y</td>\n",
       "      <td>w</td>\n",
       "      <td>t</td>\n",
       "      <td>g</td>\n",
       "      <td>d</td>\n",
       "      <td>w</td>\n",
       "    </tr>\n",
       "    <tr>\n",
       "      <th>3</th>\n",
       "      <td>p</td>\n",
       "      <td>14.17</td>\n",
       "      <td>f</td>\n",
       "      <td>h</td>\n",
       "      <td>e</td>\n",
       "      <td>f</td>\n",
       "      <td>e</td>\n",
       "      <td>NaN</td>\n",
       "      <td>w</td>\n",
       "      <td>15.77</td>\n",
       "      <td>15.98</td>\n",
       "      <td>y</td>\n",
       "      <td>w</td>\n",
       "      <td>t</td>\n",
       "      <td>p</td>\n",
       "      <td>d</td>\n",
       "      <td>w</td>\n",
       "    </tr>\n",
       "    <tr>\n",
       "      <th>4</th>\n",
       "      <td>p</td>\n",
       "      <td>14.64</td>\n",
       "      <td>x</td>\n",
       "      <td>h</td>\n",
       "      <td>o</td>\n",
       "      <td>f</td>\n",
       "      <td>e</td>\n",
       "      <td>NaN</td>\n",
       "      <td>w</td>\n",
       "      <td>16.53</td>\n",
       "      <td>17.20</td>\n",
       "      <td>y</td>\n",
       "      <td>w</td>\n",
       "      <td>t</td>\n",
       "      <td>p</td>\n",
       "      <td>d</td>\n",
       "      <td>w</td>\n",
       "    </tr>\n",
       "    <tr>\n",
       "      <th>...</th>\n",
       "      <td>...</td>\n",
       "      <td>...</td>\n",
       "      <td>...</td>\n",
       "      <td>...</td>\n",
       "      <td>...</td>\n",
       "      <td>...</td>\n",
       "      <td>...</td>\n",
       "      <td>...</td>\n",
       "      <td>...</td>\n",
       "      <td>...</td>\n",
       "      <td>...</td>\n",
       "      <td>...</td>\n",
       "      <td>...</td>\n",
       "      <td>...</td>\n",
       "      <td>...</td>\n",
       "      <td>...</td>\n",
       "      <td>...</td>\n",
       "    </tr>\n",
       "    <tr>\n",
       "      <th>61064</th>\n",
       "      <td>p</td>\n",
       "      <td>1.18</td>\n",
       "      <td>s</td>\n",
       "      <td>s</td>\n",
       "      <td>y</td>\n",
       "      <td>f</td>\n",
       "      <td>f</td>\n",
       "      <td>f</td>\n",
       "      <td>f</td>\n",
       "      <td>3.93</td>\n",
       "      <td>6.22</td>\n",
       "      <td>NaN</td>\n",
       "      <td>y</td>\n",
       "      <td>f</td>\n",
       "      <td>f</td>\n",
       "      <td>d</td>\n",
       "      <td>a</td>\n",
       "    </tr>\n",
       "    <tr>\n",
       "      <th>61065</th>\n",
       "      <td>p</td>\n",
       "      <td>1.27</td>\n",
       "      <td>f</td>\n",
       "      <td>s</td>\n",
       "      <td>y</td>\n",
       "      <td>f</td>\n",
       "      <td>f</td>\n",
       "      <td>f</td>\n",
       "      <td>f</td>\n",
       "      <td>3.18</td>\n",
       "      <td>5.43</td>\n",
       "      <td>NaN</td>\n",
       "      <td>y</td>\n",
       "      <td>f</td>\n",
       "      <td>f</td>\n",
       "      <td>d</td>\n",
       "      <td>a</td>\n",
       "    </tr>\n",
       "    <tr>\n",
       "      <th>61066</th>\n",
       "      <td>p</td>\n",
       "      <td>1.27</td>\n",
       "      <td>s</td>\n",
       "      <td>s</td>\n",
       "      <td>y</td>\n",
       "      <td>f</td>\n",
       "      <td>f</td>\n",
       "      <td>f</td>\n",
       "      <td>f</td>\n",
       "      <td>3.86</td>\n",
       "      <td>6.37</td>\n",
       "      <td>NaN</td>\n",
       "      <td>y</td>\n",
       "      <td>f</td>\n",
       "      <td>f</td>\n",
       "      <td>d</td>\n",
       "      <td>u</td>\n",
       "    </tr>\n",
       "    <tr>\n",
       "      <th>61067</th>\n",
       "      <td>p</td>\n",
       "      <td>1.24</td>\n",
       "      <td>f</td>\n",
       "      <td>s</td>\n",
       "      <td>y</td>\n",
       "      <td>f</td>\n",
       "      <td>f</td>\n",
       "      <td>f</td>\n",
       "      <td>f</td>\n",
       "      <td>3.56</td>\n",
       "      <td>5.44</td>\n",
       "      <td>NaN</td>\n",
       "      <td>y</td>\n",
       "      <td>f</td>\n",
       "      <td>f</td>\n",
       "      <td>d</td>\n",
       "      <td>u</td>\n",
       "    </tr>\n",
       "    <tr>\n",
       "      <th>61068</th>\n",
       "      <td>p</td>\n",
       "      <td>1.17</td>\n",
       "      <td>s</td>\n",
       "      <td>s</td>\n",
       "      <td>y</td>\n",
       "      <td>f</td>\n",
       "      <td>f</td>\n",
       "      <td>f</td>\n",
       "      <td>f</td>\n",
       "      <td>3.25</td>\n",
       "      <td>5.45</td>\n",
       "      <td>NaN</td>\n",
       "      <td>y</td>\n",
       "      <td>f</td>\n",
       "      <td>f</td>\n",
       "      <td>d</td>\n",
       "      <td>u</td>\n",
       "    </tr>\n",
       "  </tbody>\n",
       "</table>\n",
       "<p>60923 rows × 17 columns</p>\n",
       "</div>"
      ],
      "text/plain": [
       "      class  cap-diameter cap-shape cap-surface cap-color  \\\n",
       "0         p         15.26         x           g         o   \n",
       "1         p         16.60         x           g         o   \n",
       "2         p         14.07         x           g         o   \n",
       "3         p         14.17         f           h         e   \n",
       "4         p         14.64         x           h         o   \n",
       "...     ...           ...       ...         ...       ...   \n",
       "61064     p          1.18         s           s         y   \n",
       "61065     p          1.27         f           s         y   \n",
       "61066     p          1.27         s           s         y   \n",
       "61067     p          1.24         f           s         y   \n",
       "61068     p          1.17         s           s         y   \n",
       "\n",
       "      does-bruise-or-bleed gill-attachment gill-spacing gill-color  \\\n",
       "0                        f               e          NaN          w   \n",
       "1                        f               e          NaN          w   \n",
       "2                        f               e          NaN          w   \n",
       "3                        f               e          NaN          w   \n",
       "4                        f               e          NaN          w   \n",
       "...                    ...             ...          ...        ...   \n",
       "61064                    f               f            f          f   \n",
       "61065                    f               f            f          f   \n",
       "61066                    f               f            f          f   \n",
       "61067                    f               f            f          f   \n",
       "61068                    f               f            f          f   \n",
       "\n",
       "       stem-height  stem-width stem-surface stem-color has-ring ring-type  \\\n",
       "0            16.95       17.09            y          w        t         g   \n",
       "1            17.99       18.19            y          w        t         g   \n",
       "2            17.80       17.74            y          w        t         g   \n",
       "3            15.77       15.98            y          w        t         p   \n",
       "4            16.53       17.20            y          w        t         p   \n",
       "...            ...         ...          ...        ...      ...       ...   \n",
       "61064         3.93        6.22          NaN          y        f         f   \n",
       "61065         3.18        5.43          NaN          y        f         f   \n",
       "61066         3.86        6.37          NaN          y        f         f   \n",
       "61067         3.56        5.44          NaN          y        f         f   \n",
       "61068         3.25        5.45          NaN          y        f         f   \n",
       "\n",
       "      habitat season  \n",
       "0           d      w  \n",
       "1           d      u  \n",
       "2           d      w  \n",
       "3           d      w  \n",
       "4           d      w  \n",
       "...       ...    ...  \n",
       "61064       d      a  \n",
       "61065       d      a  \n",
       "61066       d      u  \n",
       "61067       d      u  \n",
       "61068       d      u  \n",
       "\n",
       "[60923 rows x 17 columns]"
      ]
     },
     "execution_count": 55,
     "metadata": {},
     "output_type": "execute_result"
    }
   ],
   "source": [
    "ms"
   ]
  },
  {
   "cell_type": "markdown",
   "id": "d5f871e9",
   "metadata": {},
   "source": [
    "Esistono altri valori Null, quindi per ogni colonna che li contiene, la funzione value_counts() conta quante volte è contenuto ogni elmento, per poi andare a sostituire il valore Null relativo alla colonna in questione con il piu frequente in essa contenuto.Per il dataset in questione questa operazione risulta come forzatura,ma è stato scelto comunque di usarla al fine didattico per permettere l'esecuzione di classificatori tipo SVM"
   ]
  },
  {
   "cell_type": "code",
   "execution_count": 56,
   "id": "ee447ae4",
   "metadata": {},
   "outputs": [
    {
     "data": {
      "text/plain": [
       "t    8184\n",
       "s    7580\n",
       "y    6341\n",
       "h    4974\n",
       "g    4722\n",
       "d    4432\n",
       "e    2584\n",
       "k    2303\n",
       "i    2225\n",
       "w    2150\n",
       "l    1308\n",
       "Name: cap-surface, dtype: int64"
      ]
     },
     "execution_count": 56,
     "metadata": {},
     "output_type": "execute_result"
    }
   ],
   "source": [
    "ms['cap-surface'].value_counts()"
   ]
  },
  {
   "cell_type": "code",
   "execution_count": 57,
   "id": "8d697045",
   "metadata": {},
   "outputs": [
    {
     "data": {
      "text/plain": [
       "class                   0\n",
       "cap-diameter            0\n",
       "cap-shape               0\n",
       "cap-surface             0\n",
       "cap-color               0\n",
       "does-bruise-or-bleed    0\n",
       "gill-attachment         0\n",
       "gill-spacing            0\n",
       "gill-color              0\n",
       "stem-height             0\n",
       "stem-width              0\n",
       "stem-surface            0\n",
       "stem-color              0\n",
       "has-ring                0\n",
       "ring-type               0\n",
       "habitat                 0\n",
       "season                  0\n",
       "dtype: int64"
      ]
     },
     "execution_count": 57,
     "metadata": {},
     "output_type": "execute_result"
    }
   ],
   "source": [
    "for i in [3,6,7,11,14]:\n",
    "    ms[ms.columns[i]]= ms[ms.columns[i]].fillna(ms[ms.columns[i]].value_counts().index[0])\n",
    "    \n",
    "ms.isnull().sum()"
   ]
  },
  {
   "cell_type": "code",
   "execution_count": 58,
   "id": "34b284ac",
   "metadata": {},
   "outputs": [
    {
     "data": {
      "text/plain": [
       "t    22304\n",
       "s     7580\n",
       "y     6341\n",
       "h     4974\n",
       "g     4722\n",
       "d     4432\n",
       "e     2584\n",
       "k     2303\n",
       "i     2225\n",
       "w     2150\n",
       "l     1308\n",
       "Name: cap-surface, dtype: int64"
      ]
     },
     "execution_count": 58,
     "metadata": {},
     "output_type": "execute_result"
    }
   ],
   "source": [
    "ms['cap-surface'].value_counts()"
   ]
  },
  {
   "cell_type": "markdown",
   "id": "be02ba9b",
   "metadata": {},
   "source": [
    "La funzione LabelEncoder() converte i valori di tipo stringa in valori numerici che sono più pratici da analizzare "
   ]
  },
  {
   "cell_type": "code",
   "execution_count": 59,
   "id": "ac896581",
   "metadata": {},
   "outputs": [
    {
     "data": {
      "text/html": [
       "<div>\n",
       "<style scoped>\n",
       "    .dataframe tbody tr th:only-of-type {\n",
       "        vertical-align: middle;\n",
       "    }\n",
       "\n",
       "    .dataframe tbody tr th {\n",
       "        vertical-align: top;\n",
       "    }\n",
       "\n",
       "    .dataframe thead th {\n",
       "        text-align: right;\n",
       "    }\n",
       "</style>\n",
       "<table border=\"1\" class=\"dataframe\">\n",
       "  <thead>\n",
       "    <tr style=\"text-align: right;\">\n",
       "      <th></th>\n",
       "      <th>class</th>\n",
       "      <th>cap-diameter</th>\n",
       "      <th>cap-shape</th>\n",
       "      <th>cap-surface</th>\n",
       "      <th>cap-color</th>\n",
       "      <th>does-bruise-or-bleed</th>\n",
       "      <th>gill-attachment</th>\n",
       "      <th>gill-spacing</th>\n",
       "      <th>gill-color</th>\n",
       "      <th>stem-height</th>\n",
       "      <th>stem-width</th>\n",
       "      <th>stem-surface</th>\n",
       "      <th>stem-color</th>\n",
       "      <th>has-ring</th>\n",
       "      <th>ring-type</th>\n",
       "      <th>habitat</th>\n",
       "      <th>season</th>\n",
       "    </tr>\n",
       "  </thead>\n",
       "  <tbody>\n",
       "    <tr>\n",
       "      <th>count</th>\n",
       "      <td>60923.000000</td>\n",
       "      <td>60923.000000</td>\n",
       "      <td>60923.000000</td>\n",
       "      <td>60923.000000</td>\n",
       "      <td>60923.000000</td>\n",
       "      <td>60923.000000</td>\n",
       "      <td>60923.000000</td>\n",
       "      <td>60923.000000</td>\n",
       "      <td>60923.000000</td>\n",
       "      <td>60923.000000</td>\n",
       "      <td>60923.000000</td>\n",
       "      <td>60923.000000</td>\n",
       "      <td>60923.000000</td>\n",
       "      <td>60923.000000</td>\n",
       "      <td>60923.000000</td>\n",
       "      <td>60923.000000</td>\n",
       "      <td>60923.000000</td>\n",
       "    </tr>\n",
       "    <tr>\n",
       "      <th>mean</th>\n",
       "      <td>0.553847</td>\n",
       "      <td>6.741957</td>\n",
       "      <td>4.044039</td>\n",
       "      <td>6.064458</td>\n",
       "      <td>6.150813</td>\n",
       "      <td>0.173826</td>\n",
       "      <td>2.109335</td>\n",
       "      <td>0.239532</td>\n",
       "      <td>7.347340</td>\n",
       "      <td>6.597202</td>\n",
       "      <td>12.178484</td>\n",
       "      <td>4.817983</td>\n",
       "      <td>8.444331</td>\n",
       "      <td>0.248954</td>\n",
       "      <td>1.451078</td>\n",
       "      <td>0.625215</td>\n",
       "      <td>1.052115</td>\n",
       "    </tr>\n",
       "    <tr>\n",
       "      <th>std</th>\n",
       "      <td>0.497096</td>\n",
       "      <td>5.268435</td>\n",
       "      <td>2.140562</td>\n",
       "      <td>3.066892</td>\n",
       "      <td>3.169221</td>\n",
       "      <td>0.378963</td>\n",
       "      <td>2.206416</td>\n",
       "      <td>0.542436</td>\n",
       "      <td>3.181149</td>\n",
       "      <td>3.358757</td>\n",
       "      <td>10.030361</td>\n",
       "      <td>1.251903</td>\n",
       "      <td>3.206965</td>\n",
       "      <td>0.432410</td>\n",
       "      <td>1.469892</td>\n",
       "      <td>1.267027</td>\n",
       "      <td>1.100313</td>\n",
       "    </tr>\n",
       "    <tr>\n",
       "      <th>min</th>\n",
       "      <td>0.000000</td>\n",
       "      <td>0.380000</td>\n",
       "      <td>0.000000</td>\n",
       "      <td>0.000000</td>\n",
       "      <td>0.000000</td>\n",
       "      <td>0.000000</td>\n",
       "      <td>0.000000</td>\n",
       "      <td>0.000000</td>\n",
       "      <td>0.000000</td>\n",
       "      <td>0.000000</td>\n",
       "      <td>0.000000</td>\n",
       "      <td>0.000000</td>\n",
       "      <td>0.000000</td>\n",
       "      <td>0.000000</td>\n",
       "      <td>0.000000</td>\n",
       "      <td>0.000000</td>\n",
       "      <td>0.000000</td>\n",
       "    </tr>\n",
       "    <tr>\n",
       "      <th>25%</th>\n",
       "      <td>0.000000</td>\n",
       "      <td>3.490000</td>\n",
       "      <td>2.000000</td>\n",
       "      <td>3.000000</td>\n",
       "      <td>5.000000</td>\n",
       "      <td>0.000000</td>\n",
       "      <td>0.000000</td>\n",
       "      <td>0.000000</td>\n",
       "      <td>5.000000</td>\n",
       "      <td>4.650000</td>\n",
       "      <td>5.250000</td>\n",
       "      <td>5.000000</td>\n",
       "      <td>6.000000</td>\n",
       "      <td>0.000000</td>\n",
       "      <td>1.000000</td>\n",
       "      <td>0.000000</td>\n",
       "      <td>0.000000</td>\n",
       "    </tr>\n",
       "    <tr>\n",
       "      <th>50%</th>\n",
       "      <td>1.000000</td>\n",
       "      <td>5.880000</td>\n",
       "      <td>5.000000</td>\n",
       "      <td>8.000000</td>\n",
       "      <td>5.000000</td>\n",
       "      <td>0.000000</td>\n",
       "      <td>1.000000</td>\n",
       "      <td>0.000000</td>\n",
       "      <td>7.000000</td>\n",
       "      <td>5.960000</td>\n",
       "      <td>10.220000</td>\n",
       "      <td>5.000000</td>\n",
       "      <td>11.000000</td>\n",
       "      <td>0.000000</td>\n",
       "      <td>1.000000</td>\n",
       "      <td>0.000000</td>\n",
       "      <td>1.000000</td>\n",
       "    </tr>\n",
       "    <tr>\n",
       "      <th>75%</th>\n",
       "      <td>1.000000</td>\n",
       "      <td>8.550000</td>\n",
       "      <td>6.000000</td>\n",
       "      <td>8.000000</td>\n",
       "      <td>10.000000</td>\n",
       "      <td>0.000000</td>\n",
       "      <td>4.000000</td>\n",
       "      <td>0.000000</td>\n",
       "      <td>10.000000</td>\n",
       "      <td>7.750000</td>\n",
       "      <td>16.580000</td>\n",
       "      <td>5.000000</td>\n",
       "      <td>11.000000</td>\n",
       "      <td>0.000000</td>\n",
       "      <td>1.000000</td>\n",
       "      <td>1.000000</td>\n",
       "      <td>2.000000</td>\n",
       "    </tr>\n",
       "    <tr>\n",
       "      <th>max</th>\n",
       "      <td>1.000000</td>\n",
       "      <td>62.340000</td>\n",
       "      <td>6.000000</td>\n",
       "      <td>10.000000</td>\n",
       "      <td>11.000000</td>\n",
       "      <td>1.000000</td>\n",
       "      <td>6.000000</td>\n",
       "      <td>2.000000</td>\n",
       "      <td>11.000000</td>\n",
       "      <td>33.920000</td>\n",
       "      <td>103.910000</td>\n",
       "      <td>7.000000</td>\n",
       "      <td>12.000000</td>\n",
       "      <td>1.000000</td>\n",
       "      <td>7.000000</td>\n",
       "      <td>7.000000</td>\n",
       "      <td>3.000000</td>\n",
       "    </tr>\n",
       "  </tbody>\n",
       "</table>\n",
       "</div>"
      ],
      "text/plain": [
       "              class  cap-diameter     cap-shape   cap-surface     cap-color  \\\n",
       "count  60923.000000  60923.000000  60923.000000  60923.000000  60923.000000   \n",
       "mean       0.553847      6.741957      4.044039      6.064458      6.150813   \n",
       "std        0.497096      5.268435      2.140562      3.066892      3.169221   \n",
       "min        0.000000      0.380000      0.000000      0.000000      0.000000   \n",
       "25%        0.000000      3.490000      2.000000      3.000000      5.000000   \n",
       "50%        1.000000      5.880000      5.000000      8.000000      5.000000   \n",
       "75%        1.000000      8.550000      6.000000      8.000000     10.000000   \n",
       "max        1.000000     62.340000      6.000000     10.000000     11.000000   \n",
       "\n",
       "       does-bruise-or-bleed  gill-attachment  gill-spacing    gill-color  \\\n",
       "count          60923.000000     60923.000000  60923.000000  60923.000000   \n",
       "mean               0.173826         2.109335      0.239532      7.347340   \n",
       "std                0.378963         2.206416      0.542436      3.181149   \n",
       "min                0.000000         0.000000      0.000000      0.000000   \n",
       "25%                0.000000         0.000000      0.000000      5.000000   \n",
       "50%                0.000000         1.000000      0.000000      7.000000   \n",
       "75%                0.000000         4.000000      0.000000     10.000000   \n",
       "max                1.000000         6.000000      2.000000     11.000000   \n",
       "\n",
       "        stem-height    stem-width  stem-surface    stem-color      has-ring  \\\n",
       "count  60923.000000  60923.000000  60923.000000  60923.000000  60923.000000   \n",
       "mean       6.597202     12.178484      4.817983      8.444331      0.248954   \n",
       "std        3.358757     10.030361      1.251903      3.206965      0.432410   \n",
       "min        0.000000      0.000000      0.000000      0.000000      0.000000   \n",
       "25%        4.650000      5.250000      5.000000      6.000000      0.000000   \n",
       "50%        5.960000     10.220000      5.000000     11.000000      0.000000   \n",
       "75%        7.750000     16.580000      5.000000     11.000000      0.000000   \n",
       "max       33.920000    103.910000      7.000000     12.000000      1.000000   \n",
       "\n",
       "          ring-type       habitat        season  \n",
       "count  60923.000000  60923.000000  60923.000000  \n",
       "mean       1.451078      0.625215      1.052115  \n",
       "std        1.469892      1.267027      1.100313  \n",
       "min        0.000000      0.000000      0.000000  \n",
       "25%        1.000000      0.000000      0.000000  \n",
       "50%        1.000000      0.000000      1.000000  \n",
       "75%        1.000000      1.000000      2.000000  \n",
       "max        7.000000      7.000000      3.000000  "
      ]
     },
     "execution_count": 59,
     "metadata": {},
     "output_type": "execute_result"
    }
   ],
   "source": [
    "labelencoder=LabelEncoder()\n",
    "for column in ms.columns:\n",
    "    if column != 'cap-diameter' and column != 'stem-height' and column != 'stem-width':\n",
    "        ms[column] = labelencoder.fit_transform(ms[column])\n",
    "        \n",
    "ms.describe()"
   ]
  },
  {
   "cell_type": "code",
   "execution_count": 60,
   "id": "358335e8",
   "metadata": {},
   "outputs": [
    {
     "data": {
      "text/plain": [
       "1    33742\n",
       "0    27181\n",
       "Name: class, dtype: int64"
      ]
     },
     "execution_count": 60,
     "metadata": {},
     "output_type": "execute_result"
    }
   ],
   "source": [
    "ms['class'].value_counts()\n"
   ]
  },
  {
   "cell_type": "markdown",
   "id": "6c082526",
   "metadata": {},
   "source": [
    "si evince che attraverso la label encoder la classe poisonable ora è indicizzata con il valore 1, mentre la classe editable con il valore 0.\n",
    "\n",
    "Poiché il Dataset è generato da un primary ridotto, sembra un csv ordinato e quindi lasciandolo in questo stato risulterebbe scomodo per le seguenti analisi. Dunque, al fine di avere una situazione piu realistica, si sfrutta la funzione shuffle() per mischiare i vari elementi del Dataset. Esso viene poi diviso in training set e test set"
   ]
  },
  {
   "cell_type": "code",
   "execution_count": 61,
   "id": "2ff386a3",
   "metadata": {},
   "outputs": [],
   "source": [
    "a=int(0.2*ms['class'].count())\n",
    "b=ms['class'].count()-a\n",
    "\n",
    "mst = sklearn.utils.shuffle(ms)\n",
    "np.random.shuffle(mst.values)\n",
    "\n",
    "ms_train=mst.iloc[:b]\n",
    "ms_test=mst.iloc[-a:]"
   ]
  },
  {
   "cell_type": "markdown",
   "id": "9d6e1979",
   "metadata": {},
   "source": [
    "## Gestione degli outliers\n",
    "\n",
    "Gli outliers sono valori anomali e dannosi per i classificatori in quanto ne peggiorano le performance.\n",
    "\n",
    "Per Dataset di grandi dimensioni la presenza di outliers è da dare per scontata. Dai grafici, infatti, si può osservare la presenza di valori anomali che vanno gestiti in fase di preprocessing.\n",
    "\n",
    "Per questa fase sono stati scelte solamente le 3 colonne con valori reali dal momento che, per le altre con valori discreti, non ha senso parlare di outliers visto che si tratta di variaili categoriche."
   ]
  },
  {
   "cell_type": "code",
   "execution_count": 62,
   "id": "7c1eab5c",
   "metadata": {
    "scrolled": false
   },
   "outputs": [
    {
     "data": {
      "image/png": "[encoded data removed]",
      "text/plain": [
       "<Figure size 1080x504 with 4 Axes>"
      ]
     },
     "metadata": {
      "needs_background": "light"
     },
     "output_type": "display_data"
    }
   ],
   "source": [
    "fig, axes = plt.subplots(2,2, figsize=(15,7))\n",
    "fig.suptitle(\"grafico outliers per la feature cap-diameter\")\n",
    "\n",
    "sns.histplot(ax = axes[0,0], x=ms_train['cap-diameter'])\n",
    "axes[0,0].set_title(\"istogramma prima dell'eliminazione\")\n",
    "\n",
    "sns.boxenplot(ax=axes[0,1], x=ms_train['cap-diameter'])\n",
    "axes[0,1].set_title(\"boxplot prima dell'eliminazione\")\n",
    "\n",
    "limite_superiore =ms_train['cap-diameter'].quantile(0.99)\n",
    "limite_inferiore = ms_train['cap-diameter'].quantile(0.01)\n",
    "msn_train = ms_train[(ms_train['cap-diameter'] <= limite_superiore) & (ms_train['cap-diameter'] >= limite_inferiore)]\n",
    "\n",
    "sns.histplot(ax=axes[1,0], x=msn_train['cap-diameter'])\n",
    "axes[1,0].set_title(\"istogramma dopo l'eliminazione\")\n",
    "\n",
    "sns.boxenplot(ax=axes[1,1], x=msn_train['cap-diameter'])\n",
    "axes[1,1].set_title(\"boxplot dopo l'eliminazione\")\n",
    "\n",
    "plt.subplots_adjust(left=0.1, bottom=0.1, right=0.9, top=0.9, wspace=0.2, hspace=0.4)\n",
    "\n",
    "plt.show()"
   ]
  },
  {
   "cell_type": "code",
   "execution_count": 63,
   "id": "f05755c0",
   "metadata": {},
   "outputs": [
    {
     "data": {
      "image/png": "[encoded data removed]",
      "text/plain": [
       "<Figure size 1080x504 with 4 Axes>"
      ]
     },
     "metadata": {
      "needs_background": "light"
     },
     "output_type": "display_data"
    }
   ],
   "source": [
    "fig, axes = plt.subplots(2,2, figsize=(15,7))\n",
    "fig.suptitle(\"grafico outliers per la feature stem-height\")\n",
    "\n",
    "sns.histplot(ax = axes[0,0], x=msn_train['stem-height'])\n",
    "axes[0,0].set_title(\"istogramma prima dell'eliminazione\")\n",
    "\n",
    "sns.boxenplot(ax=axes[0,1], x=msn_train['stem-height'])\n",
    "axes[0,1].set_title(\"boxplot prima dell'eliminazione\")\n",
    "\n",
    "limite_superiore =msn_train['stem-height'].quantile(0.99)\n",
    "limite_inferiore = msn_train['stem-height'].quantile(0.01)\n",
    "msc_train = msn_train[(msn_train['stem-height'] <= limite_superiore) & (msn_train['stem-height'] >= limite_inferiore)]\n",
    "\n",
    "sns.histplot(ax=axes[1,0], x=msc_train['stem-height'])\n",
    "axes[1,0].set_title(\"istogramma dopo l'eliminazione\")\n",
    "\n",
    "sns.boxenplot(ax=axes[1,1], x=msc_train['stem-height'])\n",
    "axes[1,1].set_title(\"boxplot dopo l'eliminazione\")\n",
    "\n",
    "plt.subplots_adjust(left=0.1, bottom=0.1, right=0.9, top=0.9, wspace=0.2, hspace=0.4)\n",
    "\n",
    "plt.show()"
   ]
  },
  {
   "cell_type": "code",
   "execution_count": 64,
   "id": "73cc0862",
   "metadata": {},
   "outputs": [
    {
     "data": {
      "image/png": "[encoded data removed]",
      "text/plain": [
       "<Figure size 1080x504 with 4 Axes>"
      ]
     },
     "metadata": {
      "needs_background": "light"
     },
     "output_type": "display_data"
    }
   ],
   "source": [
    "fig, axes = plt.subplots(2,2, figsize=(15,7))\n",
    "fig.suptitle(\"grafico outliers per la feature stem-width\")\n",
    "\n",
    "sns.histplot(ax = axes[0,0], x=msc_train['stem-width'])\n",
    "axes[0,0].set_title(\"istogramma prima dell'eliminazione\")\n",
    "\n",
    "sns.boxenplot(ax=axes[0,1], x=msc_train['stem-width'])\n",
    "axes[0,1].set_title(\"boxplot prima dell'eliminazione\")\n",
    "\n",
    "limite_superiore =msc_train['stem-width'].quantile(0.99)\n",
    "limite_inferiore = msc_train['stem-width'].quantile(0.01)\n",
    "msd_train = msc_train[(msc_train['stem-width'] <= limite_superiore) & (msc_train['stem-width'] >= limite_inferiore)]\n",
    "\n",
    "sns.histplot(ax=axes[1,0], x=msd_train['stem-width'])\n",
    "axes[1,0].set_title(\"istogramma dopo l'eliminazione\")\n",
    "\n",
    "sns.boxenplot(ax=axes[1,1], x=msd_train['stem-width'])\n",
    "axes[1,1].set_title(\"boxplot dopo l'eliminazione\")\n",
    "\n",
    "plt.subplots_adjust(left=0.1, bottom=0.1, right=0.9, top=0.9, wspace=0.2, hspace=0.4)\n",
    "\n",
    "plt.show()"
   ]
  },
  {
   "cell_type": "code",
   "execution_count": 65,
   "id": "053aa0b8",
   "metadata": {},
   "outputs": [],
   "source": [
    "y_train=msd_train.iloc[:,0]\n",
    "x_train=msd_train.iloc[:,1:]\n",
    "\n",
    "y_test=ms_test.iloc[:,0]\n",
    "x_test=ms_test.iloc[:,1:]\n",
    "\n",
    "features=[\"cap-diameter\" , \"cap-shape\", \"cap-surface\", \"cap-color\", \"does-bruise-or-bleed\", \"gill-attachment\", \"gill-spacing\",\n",
    "         \"gill-color\", \"stem-height\", \"stem-width\", \"stem-surface\", \"stem-color\", \"has-ring\", \"ring-type\", \"habitat\", \"season\" ]\n",
    "\n",
    "\n",
    "classes =[\"0\", \"1\"]"
   ]
  },
  {
   "cell_type": "markdown",
   "id": "c93a7650",
   "metadata": {},
   "source": [
    "# Feature Selection\n",
    "\n",
    "La feature selection è una tecnica statistica che ha come obiettivo la riduzione del numero di colonne di un dataset. \n",
    "Ridurre la dimensionalità dei dati porta a diversi benefici tra i quali un minor tempo computazionale e in generale un miglioramento delle performance dei modelli.\n",
    "In questo caso, però, il dataset non possiede una grande quantità di features (alcune delle quali sono già state eliminate a causa della sovrabbondanza di volori Null), pertanto tale tecnica non porterà ad una notevole riduzione computazionale, o a gradi camiamenti a livello predittivo.\n",
    "Per la feature selection verrano utilizzate le seguenti tecniche:\n",
    "\n",
    "1. Mutua Informazione\n",
    "\n",
    "2. Matrice di Correlazione\n",
    "\n",
    "3. Decisional Tree Classifier\n",
    "\n",
    "\n",
    "## Mutua informazione\n",
    "\n",
    "La *Mutua informazione* $I(X,Y)$ è un valore positivo che misura l'indipendenza di due variabili aleatorie.\n",
    "\n",
    "L'utilizzo della Mutua informazione per la feature selection consiste nello scartare le feature che hanno un coefficiente di **mi** piccolo in quanto non mostrano relazione di dipendenza con il target."
   ]
  },
  {
   "cell_type": "code",
   "execution_count": 66,
   "id": "dfdbb377",
   "metadata": {},
   "outputs": [
    {
     "data": {
      "text/plain": [
       "array([0.0213059 , 0.02557076, 0.02562578, 0.02962577, 0.0022134 ,\n",
       "       0.0234958 , 0.00730683, 0.01905629, 0.03167459, 0.05450138,\n",
       "       0.04645839, 0.04501285, 0.00218161, 0.02714099, 0.01689127,\n",
       "       0.00896985])"
      ]
     },
     "execution_count": 66,
     "metadata": {},
     "output_type": "execute_result"
    }
   ],
   "source": [
    "mui=mutual_info_classif(x_train, y_train)\n",
    "mui"
   ]
  },
  {
   "cell_type": "code",
   "execution_count": 67,
   "id": "d8f035d6",
   "metadata": {},
   "outputs": [
    {
     "data": {
      "text/plain": [
       "['stem-width',\n",
       " 'stem-surface',\n",
       " 'stem-color',\n",
       " 'stem-height',\n",
       " 'cap-color',\n",
       " 'ring-type',\n",
       " 'cap-surface',\n",
       " 'cap-shape',\n",
       " 'gill-attachment',\n",
       " 'cap-diameter',\n",
       " 'gill-color',\n",
       " 'habitat',\n",
       " 'season',\n",
       " 'gill-spacing',\n",
       " 'does-bruise-or-bleed',\n",
       " 'has-ring']"
      ]
     },
     "execution_count": 67,
     "metadata": {},
     "output_type": "execute_result"
    }
   ],
   "source": [
    "ordered_terms = np.flip(np.argsort(mui),0)\n",
    "#ordered_terms[:10]\n",
    "fe=[]\n",
    "for i in ordered_terms:\n",
    "    fe.append(features[i])\n",
    "    \n",
    "fe"
   ]
  },
  {
   "cell_type": "markdown",
   "id": "72fa8ca5",
   "metadata": {},
   "source": [
    "osservando la mutua informazione, si nota che alcuni valori tendono molto velocemente a 0. Risultano quindi superflue le colonne relative a tali valori, portando cosi alla riduzione dello spazio dimensionale del dataset. "
   ]
  },
  {
   "cell_type": "code",
   "execution_count": 68,
   "id": "b03d523b",
   "metadata": {},
   "outputs": [
    {
     "data": {
      "image/png": "[encoded data removed]",
      "text/plain": [
       "<Figure size 1152x576 with 1 Axes>"
      ]
     },
     "metadata": {
      "needs_background": "light"
     },
     "output_type": "display_data"
    }
   ],
   "source": [
    "k=16\n",
    "colors = ['#008fd5', '#fc4f30', '#e5ae38']# facecolor=colors[2], edgecolor=colors[2]\n",
    "fig=plt.figure(figsize=(16,8))\n",
    "plt.bar(range(k),mui[ordered_terms], alpha=0.9,facecolor=colors[2], edgecolor=colors[2] , lw=2)\n",
    "plt.xticks(range(k), fe,rotation = 45)\n",
    "plt.title(r\"Mutual information\")\n",
    "\n",
    "plt.show()"
   ]
  },
  {
   "cell_type": "code",
   "execution_count": 69,
   "id": "920e09f9",
   "metadata": {},
   "outputs": [],
   "source": [
    "model = SelectKBest(mutual_info_classif, k=12)\n",
    "model.fit(x_train, y_train)\n",
    "\n",
    "x_train_mi = model.transform(x_train) ##applicazione della FS ai dati\n",
    "x_test_mi = model.transform(x_test)"
   ]
  },
  {
   "cell_type": "markdown",
   "id": "abc4ac0a",
   "metadata": {},
   "source": [
    "### Matrice di Correlazione\n",
    "\n",
    "La matrice di correlazione è una tabella quadrata, ossia con lo stesso numero di righe e di colonne, che mostra i coefficienti di correlazione tra coppie di variabili. Si tratta, in definitiva, di un prospetto che permette di valutare, nell’insieme, il grado di interdipendenza di una serie di grandezze.\n",
    "La tabella è simmetrica e si divide in tre parti, che ora andremo ad esaminare.\n",
    "\n",
    "La diagonale\n",
    "\n",
    "La linea diagonale taglia il prospetto andando dall’alto a sinistra al basso a destra. Essa racchiude il grado di correlazione di una grandezza con se stessa. Per questo motivo i valori che vi si trovano sono pari ad uno. Spesso la diagonale è lasciata vuota, a causa della sua scarsa utilità pratica.\n",
    "\n",
    "I triangoli\n",
    "\n",
    "Al di sopra ed al di sotto della diagonale abbiamo le coppie dei coefficienti di correlazione. Poiché il grado di dipendenza tra la variabile “A” e la grandezza “B” è il medesimo se si inverte l’ordine, le due parti della tabella avranno gli stessi valori.\n",
    "\n",
    "Il prospetto, pertanto, può essere letto considerando solo una delle due metà. Per tale ragione la matrice è simmetrica.\n",
    "\n",
    "L'utilizzo della matrice di correlazione per la feature selection consiste in due fasi:\n",
    "\n",
    "1. Eliminare le feature non correlate a sufficienza con il target.\n",
    "\n",
    "2. Eliminare le feature troppo correlate fra loro."
   ]
  },
  {
   "cell_type": "code",
   "execution_count": 70,
   "id": "0d9b25a0",
   "metadata": {},
   "outputs": [
    {
     "data": {
      "image/png": "[encoded data removed]",
      "text/plain": [
       "<Figure size 1008x864 with 2 Axes>"
      ]
     },
     "metadata": {
      "needs_background": "light"
     },
     "output_type": "display_data"
    }
   ],
   "source": [
    "plt.figure(figsize=(14,12))\n",
    "sns.heatmap(msd_train.corr(),linewidths=.1,cmap=\"Purples\", annot=True, annot_kws={\"size\": 7})\n",
    "plt.yticks(rotation=0);"
   ]
  },
  {
   "cell_type": "markdown",
   "id": "7472cfbd",
   "metadata": {},
   "source": [
    "Dalla matrice si evidenzia la presenza di una forte correlazione tra due fueatures: cap-diameter e stem-width. Essendo quest'ultima quella meno correlata con la classe, è opportuno eliminarla."
   ]
  },
  {
   "cell_type": "code",
   "execution_count": 71,
   "id": "e04b515f",
   "metadata": {},
   "outputs": [
    {
     "data": {
      "text/html": [
       "<div>\n",
       "<style scoped>\n",
       "    .dataframe tbody tr th:only-of-type {\n",
       "        vertical-align: middle;\n",
       "    }\n",
       "\n",
       "    .dataframe tbody tr th {\n",
       "        vertical-align: top;\n",
       "    }\n",
       "\n",
       "    .dataframe thead th {\n",
       "        text-align: right;\n",
       "    }\n",
       "</style>\n",
       "<table border=\"1\" class=\"dataframe\">\n",
       "  <thead>\n",
       "    <tr style=\"text-align: right;\">\n",
       "      <th></th>\n",
       "      <th>cap-diameter</th>\n",
       "      <th>cap-shape</th>\n",
       "      <th>cap-surface</th>\n",
       "      <th>cap-color</th>\n",
       "      <th>does-bruise-or-bleed</th>\n",
       "      <th>gill-attachment</th>\n",
       "      <th>gill-spacing</th>\n",
       "      <th>gill-color</th>\n",
       "      <th>stem-height</th>\n",
       "      <th>stem-surface</th>\n",
       "      <th>stem-color</th>\n",
       "      <th>has-ring</th>\n",
       "      <th>ring-type</th>\n",
       "      <th>habitat</th>\n",
       "      <th>season</th>\n",
       "    </tr>\n",
       "  </thead>\n",
       "  <tbody>\n",
       "    <tr>\n",
       "      <th>12895</th>\n",
       "      <td>0.72</td>\n",
       "      <td>6</td>\n",
       "      <td>2</td>\n",
       "      <td>11</td>\n",
       "      <td>0</td>\n",
       "      <td>0</td>\n",
       "      <td>0</td>\n",
       "      <td>11</td>\n",
       "      <td>3.36</td>\n",
       "      <td>5</td>\n",
       "      <td>11</td>\n",
       "      <td>0</td>\n",
       "      <td>1</td>\n",
       "      <td>0</td>\n",
       "      <td>2</td>\n",
       "    </tr>\n",
       "    <tr>\n",
       "      <th>16765</th>\n",
       "      <td>8.13</td>\n",
       "      <td>2</td>\n",
       "      <td>2</td>\n",
       "      <td>5</td>\n",
       "      <td>0</td>\n",
       "      <td>5</td>\n",
       "      <td>0</td>\n",
       "      <td>5</td>\n",
       "      <td>9.94</td>\n",
       "      <td>3</td>\n",
       "      <td>6</td>\n",
       "      <td>0</td>\n",
       "      <td>1</td>\n",
       "      <td>0</td>\n",
       "      <td>0</td>\n",
       "    </tr>\n",
       "    <tr>\n",
       "      <th>60273</th>\n",
       "      <td>6.82</td>\n",
       "      <td>3</td>\n",
       "      <td>8</td>\n",
       "      <td>5</td>\n",
       "      <td>0</td>\n",
       "      <td>3</td>\n",
       "      <td>2</td>\n",
       "      <td>2</td>\n",
       "      <td>2.95</td>\n",
       "      <td>1</td>\n",
       "      <td>6</td>\n",
       "      <td>0</td>\n",
       "      <td>1</td>\n",
       "      <td>0</td>\n",
       "      <td>1</td>\n",
       "    </tr>\n",
       "    <tr>\n",
       "      <th>35649</th>\n",
       "      <td>10.22</td>\n",
       "      <td>6</td>\n",
       "      <td>10</td>\n",
       "      <td>5</td>\n",
       "      <td>0</td>\n",
       "      <td>0</td>\n",
       "      <td>0</td>\n",
       "      <td>5</td>\n",
       "      <td>11.51</td>\n",
       "      <td>7</td>\n",
       "      <td>12</td>\n",
       "      <td>1</td>\n",
       "      <td>1</td>\n",
       "      <td>0</td>\n",
       "      <td>0</td>\n",
       "    </tr>\n",
       "    <tr>\n",
       "      <th>17256</th>\n",
       "      <td>5.90</td>\n",
       "      <td>6</td>\n",
       "      <td>8</td>\n",
       "      <td>11</td>\n",
       "      <td>0</td>\n",
       "      <td>5</td>\n",
       "      <td>1</td>\n",
       "      <td>11</td>\n",
       "      <td>5.70</td>\n",
       "      <td>3</td>\n",
       "      <td>12</td>\n",
       "      <td>0</td>\n",
       "      <td>1</td>\n",
       "      <td>0</td>\n",
       "      <td>0</td>\n",
       "    </tr>\n",
       "    <tr>\n",
       "      <th>...</th>\n",
       "      <td>...</td>\n",
       "      <td>...</td>\n",
       "      <td>...</td>\n",
       "      <td>...</td>\n",
       "      <td>...</td>\n",
       "      <td>...</td>\n",
       "      <td>...</td>\n",
       "      <td>...</td>\n",
       "      <td>...</td>\n",
       "      <td>...</td>\n",
       "      <td>...</td>\n",
       "      <td>...</td>\n",
       "      <td>...</td>\n",
       "      <td>...</td>\n",
       "      <td>...</td>\n",
       "    </tr>\n",
       "    <tr>\n",
       "      <th>8189</th>\n",
       "      <td>3.35</td>\n",
       "      <td>6</td>\n",
       "      <td>8</td>\n",
       "      <td>5</td>\n",
       "      <td>0</td>\n",
       "      <td>6</td>\n",
       "      <td>0</td>\n",
       "      <td>7</td>\n",
       "      <td>7.74</td>\n",
       "      <td>5</td>\n",
       "      <td>8</td>\n",
       "      <td>0</td>\n",
       "      <td>1</td>\n",
       "      <td>0</td>\n",
       "      <td>0</td>\n",
       "    </tr>\n",
       "    <tr>\n",
       "      <th>17614</th>\n",
       "      <td>7.73</td>\n",
       "      <td>6</td>\n",
       "      <td>0</td>\n",
       "      <td>10</td>\n",
       "      <td>0</td>\n",
       "      <td>5</td>\n",
       "      <td>0</td>\n",
       "      <td>10</td>\n",
       "      <td>8.11</td>\n",
       "      <td>5</td>\n",
       "      <td>11</td>\n",
       "      <td>0</td>\n",
       "      <td>1</td>\n",
       "      <td>4</td>\n",
       "      <td>1</td>\n",
       "    </tr>\n",
       "    <tr>\n",
       "      <th>29644</th>\n",
       "      <td>3.53</td>\n",
       "      <td>2</td>\n",
       "      <td>9</td>\n",
       "      <td>6</td>\n",
       "      <td>1</td>\n",
       "      <td>1</td>\n",
       "      <td>0</td>\n",
       "      <td>5</td>\n",
       "      <td>3.81</td>\n",
       "      <td>5</td>\n",
       "      <td>6</td>\n",
       "      <td>0</td>\n",
       "      <td>1</td>\n",
       "      <td>0</td>\n",
       "      <td>2</td>\n",
       "    </tr>\n",
       "    <tr>\n",
       "      <th>43956</th>\n",
       "      <td>12.27</td>\n",
       "      <td>2</td>\n",
       "      <td>10</td>\n",
       "      <td>10</td>\n",
       "      <td>0</td>\n",
       "      <td>2</td>\n",
       "      <td>0</td>\n",
       "      <td>4</td>\n",
       "      <td>18.89</td>\n",
       "      <td>5</td>\n",
       "      <td>11</td>\n",
       "      <td>1</td>\n",
       "      <td>0</td>\n",
       "      <td>1</td>\n",
       "      <td>1</td>\n",
       "    </tr>\n",
       "    <tr>\n",
       "      <th>25194</th>\n",
       "      <td>16.39</td>\n",
       "      <td>2</td>\n",
       "      <td>8</td>\n",
       "      <td>3</td>\n",
       "      <td>0</td>\n",
       "      <td>0</td>\n",
       "      <td>1</td>\n",
       "      <td>11</td>\n",
       "      <td>5.42</td>\n",
       "      <td>5</td>\n",
       "      <td>11</td>\n",
       "      <td>0</td>\n",
       "      <td>1</td>\n",
       "      <td>0</td>\n",
       "      <td>3</td>\n",
       "    </tr>\n",
       "  </tbody>\n",
       "</table>\n",
       "<p>12184 rows × 15 columns</p>\n",
       "</div>"
      ],
      "text/plain": [
       "       cap-diameter  cap-shape  cap-surface  cap-color  does-bruise-or-bleed  \\\n",
       "12895          0.72          6            2         11                     0   \n",
       "16765          8.13          2            2          5                     0   \n",
       "60273          6.82          3            8          5                     0   \n",
       "35649         10.22          6           10          5                     0   \n",
       "17256          5.90          6            8         11                     0   \n",
       "...             ...        ...          ...        ...                   ...   \n",
       "8189           3.35          6            8          5                     0   \n",
       "17614          7.73          6            0         10                     0   \n",
       "29644          3.53          2            9          6                     1   \n",
       "43956         12.27          2           10         10                     0   \n",
       "25194         16.39          2            8          3                     0   \n",
       "\n",
       "       gill-attachment  gill-spacing  gill-color  stem-height  stem-surface  \\\n",
       "12895                0             0          11         3.36             5   \n",
       "16765                5             0           5         9.94             3   \n",
       "60273                3             2           2         2.95             1   \n",
       "35649                0             0           5        11.51             7   \n",
       "17256                5             1          11         5.70             3   \n",
       "...                ...           ...         ...          ...           ...   \n",
       "8189                 6             0           7         7.74             5   \n",
       "17614                5             0          10         8.11             5   \n",
       "29644                1             0           5         3.81             5   \n",
       "43956                2             0           4        18.89             5   \n",
       "25194                0             1          11         5.42             5   \n",
       "\n",
       "       stem-color  has-ring  ring-type  habitat  season  \n",
       "12895          11         0          1        0       2  \n",
       "16765           6         0          1        0       0  \n",
       "60273           6         0          1        0       1  \n",
       "35649          12         1          1        0       0  \n",
       "17256          12         0          1        0       0  \n",
       "...           ...       ...        ...      ...     ...  \n",
       "8189            8         0          1        0       0  \n",
       "17614          11         0          1        4       1  \n",
       "29644           6         0          1        0       2  \n",
       "43956          11         1          0        1       1  \n",
       "25194          11         0          1        0       3  \n",
       "\n",
       "[12184 rows x 15 columns]"
      ]
     },
     "execution_count": 71,
     "metadata": {},
     "output_type": "execute_result"
    }
   ],
   "source": [
    "x_train_mc = x_train.drop(x_train.columns[9], axis = 1)\n",
    "x_test_mc = x_test.drop(x_test.columns[9], axis = 1)\n",
    "x_test_mc"
   ]
  },
  {
   "cell_type": "markdown",
   "id": "7de5e609",
   "metadata": {},
   "source": [
    "### Decision Tree\n",
    "\n",
    "\n",
    "Questa tecnica di feature selection sfrutta la costruzione di alberi di decisione caratterizzati da una particolare splitting rule.\n",
    "\n",
    "Viene selezionato un sottoinsieme di attributi, e per ognuno di essi vengono generate randomicamente delle soglie tra le quali poi, solo la migliore verrà scelta come effettiva regola di suddivisione. In questo modo la varianza del modello viene ridotto pagando però come prezzo un aumento, se pur lieve, del bias.\n",
    "\n",
    "Andiamo a selezionare i k attributi di importanza più alta quindi."
   ]
  },
  {
   "cell_type": "code",
   "execution_count": 72,
   "id": "058ed663",
   "metadata": {},
   "outputs": [
    {
     "data": {
      "text/html": [
       "<style>#sk-container-id-5 {color: black;background-color: white;}#sk-container-id-5 pre{padding: 0;}#sk-container-id-5 div.sk-toggleable {background-color: white;}#sk-container-id-5 label.sk-toggleable__label {cursor: pointer;display: block;width: 100%;margin-bottom: 0;padding: 0.3em;box-sizing: border-box;text-align: center;}#sk-container-id-5 label.sk-toggleable__label-arrow:before {content: \"▸\";float: left;margin-right: 0.25em;color: #696969;}#sk-container-id-5 label.sk-toggleable__label-arrow:hover:before {color: black;}#sk-container-id-5 div.sk-estimator:hover label.sk-toggleable__label-arrow:before {color: black;}#sk-container-id-5 div.sk-toggleable__content {max-height: 0;max-width: 0;overflow: hidden;text-align: left;background-color: #f0f8ff;}#sk-container-id-5 div.sk-toggleable__content pre {margin: 0.2em;color: black;border-radius: 0.25em;background-color: #f0f8ff;}#sk-container-id-5 input.sk-toggleable__control:checked~div.sk-toggleable__content {max-height: 200px;max-width: 100%;overflow: auto;}#sk-container-id-5 input.sk-toggleable__control:checked~label.sk-toggleable__label-arrow:before {content: \"▾\";}#sk-container-id-5 div.sk-estimator input.sk-toggleable__control:checked~label.sk-toggleable__label {background-color: #d4ebff;}#sk-container-id-5 div.sk-label input.sk-toggleable__control:checked~label.sk-toggleable__label {background-color: #d4ebff;}#sk-container-id-5 input.sk-hidden--visually {border: 0;clip: rect(1px 1px 1px 1px);clip: rect(1px, 1px, 1px, 1px);height: 1px;margin: -1px;overflow: hidden;padding: 0;position: absolute;width: 1px;}#sk-container-id-5 div.sk-estimator {font-family: monospace;background-color: #f0f8ff;border: 1px dotted black;border-radius: 0.25em;box-sizing: border-box;margin-bottom: 0.5em;}#sk-container-id-5 div.sk-estimator:hover {background-color: #d4ebff;}#sk-container-id-5 div.sk-parallel-item::after {content: \"\";width: 100%;border-bottom: 1px solid gray;flex-grow: 1;}#sk-container-id-5 div.sk-label:hover label.sk-toggleable__label {background-color: #d4ebff;}#sk-container-id-5 div.sk-serial::before {content: \"\";position: absolute;border-left: 1px solid gray;box-sizing: border-box;top: 0;bottom: 0;left: 50%;z-index: 0;}#sk-container-id-5 div.sk-serial {display: flex;flex-direction: column;align-items: center;background-color: white;padding-right: 0.2em;padding-left: 0.2em;position: relative;}#sk-container-id-5 div.sk-item {position: relative;z-index: 1;}#sk-container-id-5 div.sk-parallel {display: flex;align-items: stretch;justify-content: center;background-color: white;position: relative;}#sk-container-id-5 div.sk-item::before, #sk-container-id-5 div.sk-parallel-item::before {content: \"\";position: absolute;border-left: 1px solid gray;box-sizing: border-box;top: 0;bottom: 0;left: 50%;z-index: -1;}#sk-container-id-5 div.sk-parallel-item {display: flex;flex-direction: column;z-index: 1;position: relative;background-color: white;}#sk-container-id-5 div.sk-parallel-item:first-child::after {align-self: flex-end;width: 50%;}#sk-container-id-5 div.sk-parallel-item:last-child::after {align-self: flex-start;width: 50%;}#sk-container-id-5 div.sk-parallel-item:only-child::after {width: 0;}#sk-container-id-5 div.sk-dashed-wrapped {border: 1px dashed gray;margin: 0 0.4em 0.5em 0.4em;box-sizing: border-box;padding-bottom: 0.4em;background-color: white;}#sk-container-id-5 div.sk-label label {font-family: monospace;font-weight: bold;display: inline-block;line-height: 1.2em;}#sk-container-id-5 div.sk-label-container {text-align: center;}#sk-container-id-5 div.sk-container {/* jupyter's `normalize.less` sets `[hidden] { display: none; }` but bootstrap.min.css set `[hidden] { display: none !important; }` so we also need the `!important` here to be able to override the default hidden behavior on the sphinx rendered scikit-learn.org. See: https://github.com/scikit-learn/scikit-learn/issues/21755 */display: inline-block !important;position: relative;}#sk-container-id-5 div.sk-text-repr-fallback {display: none;}</style><div id=\"sk-container-id-5\" class=\"sk-top-container\"><div class=\"sk-text-repr-fallback\"><pre>DecisionTreeClassifier()</pre><b>In a Jupyter environment, please rerun this cell to show the HTML representation or trust the notebook. <br />On GitHub, the HTML representation is unable to render, please try loading this page with nbviewer.org.</b></div><div class=\"sk-container\" hidden><div class=\"sk-item\"><div class=\"sk-estimator sk-toggleable\"><input class=\"sk-toggleable__control sk-hidden--visually\" id=\"sk-estimator-id-5\" type=\"checkbox\" checked><label for=\"sk-estimator-id-5\" class=\"sk-toggleable__label sk-toggleable__label-arrow\">DecisionTreeClassifier</label><div class=\"sk-toggleable__content\"><pre>DecisionTreeClassifier()</pre></div></div></div></div></div>"
      ],
      "text/plain": [
       "DecisionTreeClassifier()"
      ]
     },
     "execution_count": 72,
     "metadata": {},
     "output_type": "execute_result"
    }
   ],
   "source": [
    "dt = DecisionTreeClassifier()\n",
    "dt.fit(x_train, y_train)"
   ]
  },
  {
   "cell_type": "code",
   "execution_count": 73,
   "id": "8ded2abc",
   "metadata": {},
   "outputs": [
    {
     "data": {
      "image/png": "[encoded data removed]",
      "text/plain": [
       "<Figure size 1152x576 with 1 Axes>"
      ]
     },
     "metadata": {
      "needs_background": "light"
     },
     "output_type": "display_data"
    }
   ],
   "source": [
    "features_list = x_train.columns.values\n",
    "feature_importance = dt.feature_importances_\n",
    "sorted_id = np.argsort(feature_importance)\n",
    "sorted_idx = sorted_id[::-1]\n",
    "\n",
    "plt.figure(figsize=(16,8))\n",
    "plt.bar(range(len(sorted_idx)), feature_importance[sorted_idx], align='center', color =\"brown\")\n",
    "plt.xticks(range(len(sorted_idx)), features_list[sorted_idx],rotation=45)\n",
    "plt.ylabel('Feature Importance')\n",
    "plt.draw()\n",
    "plt.show()"
   ]
  },
  {
   "cell_type": "code",
   "execution_count": 74,
   "id": "27f67891",
   "metadata": {},
   "outputs": [],
   "source": [
    "k=8\n",
    "x_train_dt=x_train\n",
    "x_test_dt=x_test    \n",
    "for i in range(k):\n",
    "    x_train_dt = x_train_dt.drop(features[sorted_id[i]], axis = 1)\n",
    "    x_test_dt = x_test_dt.drop(features[sorted_id[i]], axis = 1)"
   ]
  },
  {
   "cell_type": "code",
   "execution_count": 75,
   "id": "9602a7b7",
   "metadata": {},
   "outputs": [
    {
     "data": {
      "text/html": [
       "<div>\n",
       "<style scoped>\n",
       "    .dataframe tbody tr th:only-of-type {\n",
       "        vertical-align: middle;\n",
       "    }\n",
       "\n",
       "    .dataframe tbody tr th {\n",
       "        vertical-align: top;\n",
       "    }\n",
       "\n",
       "    .dataframe thead th {\n",
       "        text-align: right;\n",
       "    }\n",
       "</style>\n",
       "<table border=\"1\" class=\"dataframe\">\n",
       "  <thead>\n",
       "    <tr style=\"text-align: right;\">\n",
       "      <th></th>\n",
       "      <th>cap-surface</th>\n",
       "      <th>does-bruise-or-bleed</th>\n",
       "      <th>gill-attachment</th>\n",
       "      <th>gill-color</th>\n",
       "      <th>stem-height</th>\n",
       "      <th>stem-width</th>\n",
       "      <th>stem-color</th>\n",
       "      <th>ring-type</th>\n",
       "    </tr>\n",
       "  </thead>\n",
       "  <tbody>\n",
       "    <tr>\n",
       "      <th>33070</th>\n",
       "      <td>4</td>\n",
       "      <td>0</td>\n",
       "      <td>0</td>\n",
       "      <td>7</td>\n",
       "      <td>4.55</td>\n",
       "      <td>2.41</td>\n",
       "      <td>11</td>\n",
       "      <td>1</td>\n",
       "    </tr>\n",
       "    <tr>\n",
       "      <th>31771</th>\n",
       "      <td>5</td>\n",
       "      <td>0</td>\n",
       "      <td>5</td>\n",
       "      <td>7</td>\n",
       "      <td>3.99</td>\n",
       "      <td>2.78</td>\n",
       "      <td>6</td>\n",
       "      <td>1</td>\n",
       "    </tr>\n",
       "    <tr>\n",
       "      <th>53746</th>\n",
       "      <td>7</td>\n",
       "      <td>0</td>\n",
       "      <td>1</td>\n",
       "      <td>11</td>\n",
       "      <td>5.57</td>\n",
       "      <td>31.25</td>\n",
       "      <td>6</td>\n",
       "      <td>1</td>\n",
       "    </tr>\n",
       "    <tr>\n",
       "      <th>1883</th>\n",
       "      <td>8</td>\n",
       "      <td>0</td>\n",
       "      <td>2</td>\n",
       "      <td>10</td>\n",
       "      <td>6.44</td>\n",
       "      <td>12.98</td>\n",
       "      <td>11</td>\n",
       "      <td>2</td>\n",
       "    </tr>\n",
       "    <tr>\n",
       "      <th>36640</th>\n",
       "      <td>7</td>\n",
       "      <td>0</td>\n",
       "      <td>0</td>\n",
       "      <td>11</td>\n",
       "      <td>7.37</td>\n",
       "      <td>7.47</td>\n",
       "      <td>12</td>\n",
       "      <td>7</td>\n",
       "    </tr>\n",
       "    <tr>\n",
       "      <th>...</th>\n",
       "      <td>...</td>\n",
       "      <td>...</td>\n",
       "      <td>...</td>\n",
       "      <td>...</td>\n",
       "      <td>...</td>\n",
       "      <td>...</td>\n",
       "      <td>...</td>\n",
       "      <td>...</td>\n",
       "    </tr>\n",
       "    <tr>\n",
       "      <th>18535</th>\n",
       "      <td>10</td>\n",
       "      <td>0</td>\n",
       "      <td>5</td>\n",
       "      <td>11</td>\n",
       "      <td>5.59</td>\n",
       "      <td>15.74</td>\n",
       "      <td>12</td>\n",
       "      <td>1</td>\n",
       "    </tr>\n",
       "    <tr>\n",
       "      <th>34764</th>\n",
       "      <td>2</td>\n",
       "      <td>0</td>\n",
       "      <td>0</td>\n",
       "      <td>5</td>\n",
       "      <td>5.64</td>\n",
       "      <td>2.78</td>\n",
       "      <td>6</td>\n",
       "      <td>1</td>\n",
       "    </tr>\n",
       "    <tr>\n",
       "      <th>35793</th>\n",
       "      <td>8</td>\n",
       "      <td>0</td>\n",
       "      <td>0</td>\n",
       "      <td>5</td>\n",
       "      <td>4.18</td>\n",
       "      <td>6.05</td>\n",
       "      <td>7</td>\n",
       "      <td>7</td>\n",
       "    </tr>\n",
       "    <tr>\n",
       "      <th>46391</th>\n",
       "      <td>8</td>\n",
       "      <td>0</td>\n",
       "      <td>6</td>\n",
       "      <td>10</td>\n",
       "      <td>6.28</td>\n",
       "      <td>3.72</td>\n",
       "      <td>11</td>\n",
       "      <td>1</td>\n",
       "    </tr>\n",
       "    <tr>\n",
       "      <th>14129</th>\n",
       "      <td>8</td>\n",
       "      <td>0</td>\n",
       "      <td>0</td>\n",
       "      <td>5</td>\n",
       "      <td>6.89</td>\n",
       "      <td>6.52</td>\n",
       "      <td>3</td>\n",
       "      <td>3</td>\n",
       "    </tr>\n",
       "  </tbody>\n",
       "</table>\n",
       "<p>46838 rows × 8 columns</p>\n",
       "</div>"
      ],
      "text/plain": [
       "       cap-surface  does-bruise-or-bleed  gill-attachment  gill-color  \\\n",
       "33070            4                     0                0           7   \n",
       "31771            5                     0                5           7   \n",
       "53746            7                     0                1          11   \n",
       "1883             8                     0                2          10   \n",
       "36640            7                     0                0          11   \n",
       "...            ...                   ...              ...         ...   \n",
       "18535           10                     0                5          11   \n",
       "34764            2                     0                0           5   \n",
       "35793            8                     0                0           5   \n",
       "46391            8                     0                6          10   \n",
       "14129            8                     0                0           5   \n",
       "\n",
       "       stem-height  stem-width  stem-color  ring-type  \n",
       "33070         4.55        2.41          11          1  \n",
       "31771         3.99        2.78           6          1  \n",
       "53746         5.57       31.25           6          1  \n",
       "1883          6.44       12.98          11          2  \n",
       "36640         7.37        7.47          12          7  \n",
       "...            ...         ...         ...        ...  \n",
       "18535         5.59       15.74          12          1  \n",
       "34764         5.64        2.78           6          1  \n",
       "35793         4.18        6.05           7          7  \n",
       "46391         6.28        3.72          11          1  \n",
       "14129         6.89        6.52           3          3  \n",
       "\n",
       "[46838 rows x 8 columns]"
      ]
     },
     "execution_count": 75,
     "metadata": {},
     "output_type": "execute_result"
    }
   ],
   "source": [
    "x_train_dt"
   ]
  },
  {
   "cell_type": "markdown",
   "id": "5663dd5f",
   "metadata": {},
   "source": [
    "## FEATURES EXTRACTION\n",
    "\n",
    "La features extraction serve anch'essa a ridurre la dimensionalità del dataset ma, contrariamente alla selection, essa permette di mappare le features del dataset originale in un altro spazio di dimensione minore.\n",
    "\n",
    "### Principal Component Analysis (PCA) \n",
    "la PCA è una riduzione della dimensionalità lineare: si effettua una trasformazione lineare delle variabili, che proietta quelle originarie in un nuovo sistema cartesiano, di dimensioni uguali o inferiori a quello originale, nel quale le variabili vengono ordinate in ordine decrescente di varianza. Pertanto, la variabile con maggiore varianza viene proiettata sul primo asse, la seconda sul secondo asse e così via.  \n",
    "Quando nel dataset c’è una forte correlazione tra i dati, si utilizza PCA per ridurre la dimensionalità, in modo da trasformare il dataset di partenza in un dataset di dimensioni inferiori, senza perdere però informazioni importanti. \n",
    "Utilizzando tale tecnica, il dataset originale, che potrebbe avere molte variabili, viene ad essere interpretato solo da poche variabili, dette componenti principali, che diventano il nuovo insieme di variabili, ottenuto dall'insieme iniziale. Le componenti principali sono calcolate in modo tale che le nuove variabili ottenute siano altamente significative e indipendenti l'una dall'altra.\n",
    "\n",
    "Mappando i dati in uno spazio più piccolo, la PCA cerca di mantenere la varianza dei dati originali, in modo tale da garantire stime più accurate con uno sforzo computazionale inferiore da parte del modello. \n",
    "\n",
    "In particolare si mappano i dati in uno spazio dimensionale $d^I$ definito dagli autovettori relativi ai massimi autovalori che garantiscono quindi maggiore varianza.\n"
   ]
  },
  {
   "cell_type": "code",
   "execution_count": 76,
   "id": "ea5e39ce",
   "metadata": {},
   "outputs": [
    {
     "data": {
      "image/png": "[encoded data removed]",
      "text/plain": [
       "<Figure size 432x288 with 1 Axes>"
      ]
     },
     "metadata": {
      "needs_background": "light"
     },
     "output_type": "display_data"
    }
   ],
   "source": [
    "pca = PCA(n_components=16)\n",
    "x_train_pca=pca.fit_transform(x_train) \n",
    "x_test_pca=pca.transform(x_test)\n",
    "plt.plot(np.cumsum(pca.explained_variance_ratio_))\n",
    "plt.xlabel('number of components')\n",
    "plt.ylabel('cumulative explained variance')\n",
    "plt.show()"
   ]
  },
  {
   "cell_type": "markdown",
   "id": "607dbd65",
   "metadata": {},
   "source": [
    "si evince come con 10 features è possibile ottenere circa il 95% dell'informazione, pertanto con la PCA si è deciso di fare features extraction per ridurre la complessità del dataset."
   ]
  },
  {
   "cell_type": "code",
   "execution_count": 77,
   "id": "7b4a65ae",
   "metadata": {},
   "outputs": [],
   "source": [
    "pca = PCA(n_components=10)\n",
    "x_train_pca=pca.fit_transform(x_train) \n",
    "x_test_pca=pca.transform(x_test)\n"
   ]
  },
  {
   "cell_type": "markdown",
   "id": "0c8eb2cc",
   "metadata": {},
   "source": [
    "si procede ora con l'esaminare i vari classificatori,e dopo aver settato i parametri in maniera corretta attraverso la tecnica di cross validation, si andrà a riconsocere il classificatore più idoneo per la risoluzione del problema in questione"
   ]
  },
  {
   "cell_type": "markdown",
   "id": "086cfa12",
   "metadata": {},
   "source": [
    "# CLASSIFICAZIONE\n",
    "Un fattore importante nelle prestazioni dei modelli sono gli iper-parametri dei classificatori, in quanto possono influenzare in modo significativo le prestazioni di un modello.  \n",
    "Per ognuno dei classificatori si cercano i valori ottimali per gli iper-parametri di un modello utilizzando una HalvingGridSearchCV. \n",
    "Per far ciò,viene definito un dizionario, chiamato “param_grid”, in cui va inserito un determinato iper-parametro dello specifico classificatore insieme ai valori che può assumere. HalvingGridSearchCV, al contrario della GridSearchCV che prova tutte le varie combinazioni dei valori passati nella param_grid, adotta un approccio chiamato *dimezzamento successivo*. Alla prima iterazione, addestra tutti i candidati su una piccola parte dei dati di training e seleziona i migliori. Alle iterazioni successive, solo tali candidati vengono addestrati nuovamente su una porzione maggiore di dati. In questo modo, si evita di procedere con il test di tutte le combinazioni possibili di iperparametri e si riduce il tempo computazionale per fare CV. Esso poi valuta il modello per ogni combinazione utilizzando il metodo della k-fold Cross Validation, avente un valore di cv pari a 5.  \n",
    "\n",
    "è evidente, dalle caratteristiche del datset in questione, che i classificatori lineari non otterranno dei buoni risultati nell'ambito della predizione.\n",
    "In seguito verrano elencati alcuni di essi al fine di dimostrare quanto appena detto.\n",
    "\n",
    "Tra le metriche utilizzate per la scelta del miglior classificatore una elevata rilevanza, oltre che all'F1-score, è stata data alla Recall della classe poisonus. Questo perchè un falso positivo e un falso negativo in questa situazione hanno importanza diversa. è meglio cioè classificare correttamente tutti i funghi velenosi a scapito di altri edibili mal classificati, piuttosto che il contrario.  "
   ]
  },
  {
   "cell_type": "code",
   "execution_count": 78,
   "id": "8cb8bf6f",
   "metadata": {},
   "outputs": [],
   "source": [
    "target_names = ['class E', 'class P']"
   ]
  },
  {
   "cell_type": "markdown",
   "id": "721774b4",
   "metadata": {},
   "source": [
    "#  SVC\n",
    "\n",
    "Un classificatore SVM, o classificatore di macchine vettoriali di supporto, è un tipo di algoritmo di apprendimento automatico che può essere utilizzato per analizzare e classificare i dati. Un SVC è un algoritmo di apprendimento automatico supervisionato che può essere utilizzato sia per attività di classificazione che di regressione. Tale classificatore funziona trovando l'iperpiano, nello spazio N-dimensionale dei dati, che massimizza il margine tra le due classi. Esso è un potente strumento per l'apprendimento automatico ed è stato ampiamente utilizzato in molte attività come il riconoscimento delle cifre scritte a mano, il riconoscimento delle espressioni facciali e la classificazione del testo. Support vector machine presenta molti vantaggi rispetto ad altri algoritmi di apprendimento automatico, come la robustezza al rumore e la capacità di gestire set di dati di grandi dimensioni.\n",
    "SVM può essere utilizzato per risolvere problemi non lineari utilizzando le funzioni del kernel. Ad esempio, il popolare kernel RBF (usato in questo progetto) può essere utilizzato per mappare i punti dati in uno spazio dimensionale superiore in modo che diventino separabili linearmente. Una volta mappati i punti dati, SVM troverà l'iperpiano ottimale in questo nuovo spazio che può separare i punti dati in due classi."
   ]
  },
  {
   "cell_type": "code",
   "execution_count": 33,
   "id": "8f329a0a",
   "metadata": {},
   "outputs": [
    {
     "data": {
      "text/html": [
       "<style>#sk-container-id-2 {color: black;background-color: white;}#sk-container-id-2 pre{padding: 0;}#sk-container-id-2 div.sk-toggleable {background-color: white;}#sk-container-id-2 label.sk-toggleable__label {cursor: pointer;display: block;width: 100%;margin-bottom: 0;padding: 0.3em;box-sizing: border-box;text-align: center;}#sk-container-id-2 label.sk-toggleable__label-arrow:before {content: \"▸\";float: left;margin-right: 0.25em;color: #696969;}#sk-container-id-2 label.sk-toggleable__label-arrow:hover:before {color: black;}#sk-container-id-2 div.sk-estimator:hover label.sk-toggleable__label-arrow:before {color: black;}#sk-container-id-2 div.sk-toggleable__content {max-height: 0;max-width: 0;overflow: hidden;text-align: left;background-color: #f0f8ff;}#sk-container-id-2 div.sk-toggleable__content pre {margin: 0.2em;color: black;border-radius: 0.25em;background-color: #f0f8ff;}#sk-container-id-2 input.sk-toggleable__control:checked~div.sk-toggleable__content {max-height: 200px;max-width: 100%;overflow: auto;}#sk-container-id-2 input.sk-toggleable__control:checked~label.sk-toggleable__label-arrow:before {content: \"▾\";}#sk-container-id-2 div.sk-estimator input.sk-toggleable__control:checked~label.sk-toggleable__label {background-color: #d4ebff;}#sk-container-id-2 div.sk-label input.sk-toggleable__control:checked~label.sk-toggleable__label {background-color: #d4ebff;}#sk-container-id-2 input.sk-hidden--visually {border: 0;clip: rect(1px 1px 1px 1px);clip: rect(1px, 1px, 1px, 1px);height: 1px;margin: -1px;overflow: hidden;padding: 0;position: absolute;width: 1px;}#sk-container-id-2 div.sk-estimator {font-family: monospace;background-color: #f0f8ff;border: 1px dotted black;border-radius: 0.25em;box-sizing: border-box;margin-bottom: 0.5em;}#sk-container-id-2 div.sk-estimator:hover {background-color: #d4ebff;}#sk-container-id-2 div.sk-parallel-item::after {content: \"\";width: 100%;border-bottom: 1px solid gray;flex-grow: 1;}#sk-container-id-2 div.sk-label:hover label.sk-toggleable__label {background-color: #d4ebff;}#sk-container-id-2 div.sk-serial::before {content: \"\";position: absolute;border-left: 1px solid gray;box-sizing: border-box;top: 0;bottom: 0;left: 50%;z-index: 0;}#sk-container-id-2 div.sk-serial {display: flex;flex-direction: column;align-items: center;background-color: white;padding-right: 0.2em;padding-left: 0.2em;position: relative;}#sk-container-id-2 div.sk-item {position: relative;z-index: 1;}#sk-container-id-2 div.sk-parallel {display: flex;align-items: stretch;justify-content: center;background-color: white;position: relative;}#sk-container-id-2 div.sk-item::before, #sk-container-id-2 div.sk-parallel-item::before {content: \"\";position: absolute;border-left: 1px solid gray;box-sizing: border-box;top: 0;bottom: 0;left: 50%;z-index: -1;}#sk-container-id-2 div.sk-parallel-item {display: flex;flex-direction: column;z-index: 1;position: relative;background-color: white;}#sk-container-id-2 div.sk-parallel-item:first-child::after {align-self: flex-end;width: 50%;}#sk-container-id-2 div.sk-parallel-item:last-child::after {align-self: flex-start;width: 50%;}#sk-container-id-2 div.sk-parallel-item:only-child::after {width: 0;}#sk-container-id-2 div.sk-dashed-wrapped {border: 1px dashed gray;margin: 0 0.4em 0.5em 0.4em;box-sizing: border-box;padding-bottom: 0.4em;background-color: white;}#sk-container-id-2 div.sk-label label {font-family: monospace;font-weight: bold;display: inline-block;line-height: 1.2em;}#sk-container-id-2 div.sk-label-container {text-align: center;}#sk-container-id-2 div.sk-container {/* jupyter's `normalize.less` sets `[hidden] { display: none; }` but bootstrap.min.css set `[hidden] { display: none !important; }` so we also need the `!important` here to be able to override the default hidden behavior on the sphinx rendered scikit-learn.org. See: https://github.com/scikit-learn/scikit-learn/issues/21755 */display: inline-block !important;position: relative;}#sk-container-id-2 div.sk-text-repr-fallback {display: none;}</style><div id=\"sk-container-id-2\" class=\"sk-top-container\"><div class=\"sk-text-repr-fallback\"><pre>SVC(C=1.2, decision_function_shape=&#x27;ovo&#x27;, probability=True)</pre><b>In a Jupyter environment, please rerun this cell to show the HTML representation or trust the notebook. <br />On GitHub, the HTML representation is unable to render, please try loading this page with nbviewer.org.</b></div><div class=\"sk-container\" hidden><div class=\"sk-item\"><div class=\"sk-estimator sk-toggleable\"><input class=\"sk-toggleable__control sk-hidden--visually\" id=\"sk-estimator-id-2\" type=\"checkbox\" checked><label for=\"sk-estimator-id-2\" class=\"sk-toggleable__label sk-toggleable__label-arrow\">SVC</label><div class=\"sk-toggleable__content\"><pre>SVC(C=1.2, decision_function_shape=&#x27;ovo&#x27;, probability=True)</pre></div></div></div></div></div>"
      ],
      "text/plain": [
       "SVC(C=1.2, decision_function_shape='ovo', probability=True)"
      ]
     },
     "execution_count": 33,
     "metadata": {},
     "output_type": "execute_result"
    }
   ],
   "source": [
    "model = SVC(C=1.2, probability=True, decision_function_shape = 'ovo') # ovo perché multiclasse\n",
    "model.fit(x_train,y_train)"
   ]
  },
  {
   "cell_type": "code",
   "execution_count": null,
   "id": "f9eab937",
   "metadata": {},
   "outputs": [],
   "source": [
    "# Model Training\n",
    "model = SVC()\n",
    "\n",
    "param_grid = {\n",
    "    'C': np.arange(0.2,3.0, 0.1)\n",
    "}\n",
    "\n",
    "clf7 = HalvingGridSearchCV(estimator = model, cv=5, param_grid=param_grid, scoring='f1_macro')\n",
    "clf7.fit(x_train,y_train)\n",
    "\n",
    "print(clf7.best_params_)\n"
   ]
  },
  {
   "cell_type": "code",
   "execution_count": 34,
   "id": "18139b42",
   "metadata": {},
   "outputs": [
    {
     "name": "stdout",
     "output_type": "stream",
     "text": [
      "              precision    recall  f1-score   support\n",
      "\n",
      "     class E       0.95      0.93      0.94      5513\n",
      "     class P       0.94      0.96      0.95      6671\n",
      "\n",
      "    accuracy                           0.94     12184\n",
      "   macro avg       0.94      0.94      0.94     12184\n",
      "weighted avg       0.94      0.94      0.94     12184\n",
      "\n"
     ]
    },
    {
     "data": {
      "image/png": "[encoded data removed]",
      "text/plain": [
       "<Figure size 360x288 with 2 Axes>"
      ]
     },
     "metadata": {
      "needs_background": "light"
     },
     "output_type": "display_data"
    }
   ],
   "source": [
    "y_pred = model.predict(x_test)\n",
    "P = model.predict_proba(x_test)\n",
    "\n",
    "F1_SVC = f1_score(y_test, y_pred, average='macro')\n",
    "AC_SVC = accuracy_score(y_test, y_pred)\n",
    "RC_SVC= recall_score(y_test, y_pred,average=None)\n",
    "\n",
    "print(classification_report(y_test, y_pred, target_names=target_names))\n",
    "\n",
    "cm = confusion_matrix(y_test, y_pred)\n",
    "\n",
    "# Stampiamo la matrice di confusione\n",
    "plt.figure(figsize = (5,4))\n",
    "sns.heatmap(cm, annot = True, xticklabels=classes,yticklabels=classes)\n",
    "plt.xlabel('Predicted')\n",
    "plt.ylabel('Truth')\n",
    "plt.show()"
   ]
  },
  {
   "cell_type": "markdown",
   "id": "16964bb3",
   "metadata": {},
   "source": [
    "## Logistic Regression\n",
    "\n",
    "La regressione logistica fa parte della famiglia degli approcci discriminativi in cui si assume direttamente che la probabilità condizionata $P(C_k | x)$ sia un generalized linear model (GLM). Con una stima ML (massima likelyhood) si derivano così direttamente i coefficienti del modello.\n",
    "Da una combinazione lineare delle features si passa alla probabilità condizionata di appartenenza ad ua classe tramite la funzione sigmoide applicata ad essa.\n",
    "\n",
    "$$ \\sigma_ w (x) =  \\frac{\\mathrm{1} }{\\mathrm{1} + e^- w^Tx }  $$ \n",
    "\n",
    "Per giungere ai parametri del modello si stima quindi che gli elementi target del training set possano essere modellati tramite una distribuzione di Bernoulli:\n",
    "\n",
    "$$P(t_i|x_i, w ) = p_i ^{t_i} (1-p_i)^{1-t_i}$$"
   ]
  },
  {
   "cell_type": "code",
   "execution_count": 90,
   "id": "04af1294",
   "metadata": {},
   "outputs": [
    {
     "data": {
      "text/html": [
       "<style>#sk-container-id-10 {color: black;background-color: white;}#sk-container-id-10 pre{padding: 0;}#sk-container-id-10 div.sk-toggleable {background-color: white;}#sk-container-id-10 label.sk-toggleable__label {cursor: pointer;display: block;width: 100%;margin-bottom: 0;padding: 0.3em;box-sizing: border-box;text-align: center;}#sk-container-id-10 label.sk-toggleable__label-arrow:before {content: \"▸\";float: left;margin-right: 0.25em;color: #696969;}#sk-container-id-10 label.sk-toggleable__label-arrow:hover:before {color: black;}#sk-container-id-10 div.sk-estimator:hover label.sk-toggleable__label-arrow:before {color: black;}#sk-container-id-10 div.sk-toggleable__content {max-height: 0;max-width: 0;overflow: hidden;text-align: left;background-color: #f0f8ff;}#sk-container-id-10 div.sk-toggleable__content pre {margin: 0.2em;color: black;border-radius: 0.25em;background-color: #f0f8ff;}#sk-container-id-10 input.sk-toggleable__control:checked~div.sk-toggleable__content {max-height: 200px;max-width: 100%;overflow: auto;}#sk-container-id-10 input.sk-toggleable__control:checked~label.sk-toggleable__label-arrow:before {content: \"▾\";}#sk-container-id-10 div.sk-estimator input.sk-toggleable__control:checked~label.sk-toggleable__label {background-color: #d4ebff;}#sk-container-id-10 div.sk-label input.sk-toggleable__control:checked~label.sk-toggleable__label {background-color: #d4ebff;}#sk-container-id-10 input.sk-hidden--visually {border: 0;clip: rect(1px 1px 1px 1px);clip: rect(1px, 1px, 1px, 1px);height: 1px;margin: -1px;overflow: hidden;padding: 0;position: absolute;width: 1px;}#sk-container-id-10 div.sk-estimator {font-family: monospace;background-color: #f0f8ff;border: 1px dotted black;border-radius: 0.25em;box-sizing: border-box;margin-bottom: 0.5em;}#sk-container-id-10 div.sk-estimator:hover {background-color: #d4ebff;}#sk-container-id-10 div.sk-parallel-item::after {content: \"\";width: 100%;border-bottom: 1px solid gray;flex-grow: 1;}#sk-container-id-10 div.sk-label:hover label.sk-toggleable__label {background-color: #d4ebff;}#sk-container-id-10 div.sk-serial::before {content: \"\";position: absolute;border-left: 1px solid gray;box-sizing: border-box;top: 0;bottom: 0;left: 50%;z-index: 0;}#sk-container-id-10 div.sk-serial {display: flex;flex-direction: column;align-items: center;background-color: white;padding-right: 0.2em;padding-left: 0.2em;position: relative;}#sk-container-id-10 div.sk-item {position: relative;z-index: 1;}#sk-container-id-10 div.sk-parallel {display: flex;align-items: stretch;justify-content: center;background-color: white;position: relative;}#sk-container-id-10 div.sk-item::before, #sk-container-id-10 div.sk-parallel-item::before {content: \"\";position: absolute;border-left: 1px solid gray;box-sizing: border-box;top: 0;bottom: 0;left: 50%;z-index: -1;}#sk-container-id-10 div.sk-parallel-item {display: flex;flex-direction: column;z-index: 1;position: relative;background-color: white;}#sk-container-id-10 div.sk-parallel-item:first-child::after {align-self: flex-end;width: 50%;}#sk-container-id-10 div.sk-parallel-item:last-child::after {align-self: flex-start;width: 50%;}#sk-container-id-10 div.sk-parallel-item:only-child::after {width: 0;}#sk-container-id-10 div.sk-dashed-wrapped {border: 1px dashed gray;margin: 0 0.4em 0.5em 0.4em;box-sizing: border-box;padding-bottom: 0.4em;background-color: white;}#sk-container-id-10 div.sk-label label {font-family: monospace;font-weight: bold;display: inline-block;line-height: 1.2em;}#sk-container-id-10 div.sk-label-container {text-align: center;}#sk-container-id-10 div.sk-container {/* jupyter's `normalize.less` sets `[hidden] { display: none; }` but bootstrap.min.css set `[hidden] { display: none !important; }` so we also need the `!important` here to be able to override the default hidden behavior on the sphinx rendered scikit-learn.org. See: https://github.com/scikit-learn/scikit-learn/issues/21755 */display: inline-block !important;position: relative;}#sk-container-id-10 div.sk-text-repr-fallback {display: none;}</style><div id=\"sk-container-id-10\" class=\"sk-top-container\"><div class=\"sk-text-repr-fallback\"><pre>LogisticRegression(max_iter=800)</pre><b>In a Jupyter environment, please rerun this cell to show the HTML representation or trust the notebook. <br />On GitHub, the HTML representation is unable to render, please try loading this page with nbviewer.org.</b></div><div class=\"sk-container\" hidden><div class=\"sk-item\"><div class=\"sk-estimator sk-toggleable\"><input class=\"sk-toggleable__control sk-hidden--visually\" id=\"sk-estimator-id-10\" type=\"checkbox\" checked><label for=\"sk-estimator-id-10\" class=\"sk-toggleable__label sk-toggleable__label-arrow\">LogisticRegression</label><div class=\"sk-toggleable__content\"><pre>LogisticRegression(max_iter=800)</pre></div></div></div></div></div>"
      ],
      "text/plain": [
       "LogisticRegression(max_iter=800)"
      ]
     },
     "execution_count": 90,
     "metadata": {},
     "output_type": "execute_result"
    }
   ],
   "source": [
    "model = LogisticRegression( max_iter=800);\n",
    "model.fit(x_train, y_train)"
   ]
  },
  {
   "cell_type": "code",
   "execution_count": 80,
   "id": "6824d71c",
   "metadata": {},
   "outputs": [
    {
     "name": "stdout",
     "output_type": "stream",
     "text": [
      "{'max_iter': 800}\n"
     ]
    }
   ],
   "source": [
    "# Model Training\n",
    "model = LogisticRegression()\n",
    "\n",
    "param_grid = {\n",
    "    'max_iter': ( 400, 500, 600, 700, 800, 900, 1000)\n",
    "}\n",
    "\n",
    "clf7 = HalvingGridSearchCV(estimator = model, cv=5, param_grid=param_grid, scoring='f1_macro')\n",
    "clf7.fit(x_train,y_train)\n",
    "\n",
    "print(clf7.best_params_)\n"
   ]
  },
  {
   "cell_type": "code",
   "execution_count": 92,
   "id": "78738a64",
   "metadata": {},
   "outputs": [
    {
     "name": "stdout",
     "output_type": "stream",
     "text": [
      "              precision    recall  f1-score   support\n",
      "\n",
      "     class E       0.60      0.49      0.54      5398\n",
      "     class P       0.65      0.74      0.69      6786\n",
      "\n",
      "    accuracy                           0.63     12184\n",
      "   macro avg       0.62      0.62      0.62     12184\n",
      "weighted avg       0.63      0.63      0.62     12184\n",
      "\n"
     ]
    },
    {
     "data": {
      "image/png": "[encoded data removed]",
      "text/plain": [
       "<Figure size 360x288 with 2 Axes>"
      ]
     },
     "metadata": {
      "needs_background": "light"
     },
     "output_type": "display_data"
    }
   ],
   "source": [
    "y_pred = model.predict(x_test)\n",
    "Predict = model.predict_proba(x_test)\n",
    "\n",
    "F1_LogReg = f1_score(y_test, y_pred, average='macro')\n",
    "AC_LogReg = accuracy_score(y_test, y_pred)\n",
    "RC_LogReg = recall_score(y_test, y_pred,average=None)\n",
    "\n",
    "print(classification_report(y_test, y_pred, target_names=target_names))\n",
    "\n",
    "\n",
    "cm = confusion_matrix(y_test, y_pred)\n",
    "\n",
    "# Stampiamo la matrice di confusione\n",
    "plt.figure(figsize = (5,4))\n",
    "sns.heatmap(cm, annot = True, xticklabels= classes    ,yticklabels=  classes )\n",
    "plt.xlabel('Predicted')\n",
    "plt.ylabel('Truth')\n",
    "plt.show()"
   ]
  },
  {
   "cell_type": "markdown",
   "id": "82a3b6a0",
   "metadata": {},
   "source": [
    "# Gaussian Naive Bayes\n",
    "Naive Bayes è un algoritmo probabilistico di apprendimento automatico che può essere utilizzato in diverse attività di classificazione. Le applicazioni tipiche di Naive Bayes sono la classificazione dei documenti, il filtraggio dello spam, la previsione e così via. Questo algoritmo si basa sulle scoperte di Thomas Bayes e da qui il suo nome.\n",
    "\n",
    "Il nome \"Naïve\" viene utilizzato perché l'algoritmo utilizza nel suo modello una ipotesi semplificativa. Eventuali modifiche al valore di una feature non influiscono direttamente sul valore di qualsiasi altra featuresdell'algoritmo. Esse sono, cioè, una volta stabilita l'appartenenza ad una specifica classe, indipendenti l'una dalle altre, semplificando così notevolmente la predizione."
   ]
  },
  {
   "cell_type": "code",
   "execution_count": 88,
   "id": "f9e8bf4e",
   "metadata": {},
   "outputs": [
    {
     "data": {
      "text/html": [
       "<style>#sk-container-id-9 {color: black;background-color: white;}#sk-container-id-9 pre{padding: 0;}#sk-container-id-9 div.sk-toggleable {background-color: white;}#sk-container-id-9 label.sk-toggleable__label {cursor: pointer;display: block;width: 100%;margin-bottom: 0;padding: 0.3em;box-sizing: border-box;text-align: center;}#sk-container-id-9 label.sk-toggleable__label-arrow:before {content: \"▸\";float: left;margin-right: 0.25em;color: #696969;}#sk-container-id-9 label.sk-toggleable__label-arrow:hover:before {color: black;}#sk-container-id-9 div.sk-estimator:hover label.sk-toggleable__label-arrow:before {color: black;}#sk-container-id-9 div.sk-toggleable__content {max-height: 0;max-width: 0;overflow: hidden;text-align: left;background-color: #f0f8ff;}#sk-container-id-9 div.sk-toggleable__content pre {margin: 0.2em;color: black;border-radius: 0.25em;background-color: #f0f8ff;}#sk-container-id-9 input.sk-toggleable__control:checked~div.sk-toggleable__content {max-height: 200px;max-width: 100%;overflow: auto;}#sk-container-id-9 input.sk-toggleable__control:checked~label.sk-toggleable__label-arrow:before {content: \"▾\";}#sk-container-id-9 div.sk-estimator input.sk-toggleable__control:checked~label.sk-toggleable__label {background-color: #d4ebff;}#sk-container-id-9 div.sk-label input.sk-toggleable__control:checked~label.sk-toggleable__label {background-color: #d4ebff;}#sk-container-id-9 input.sk-hidden--visually {border: 0;clip: rect(1px 1px 1px 1px);clip: rect(1px, 1px, 1px, 1px);height: 1px;margin: -1px;overflow: hidden;padding: 0;position: absolute;width: 1px;}#sk-container-id-9 div.sk-estimator {font-family: monospace;background-color: #f0f8ff;border: 1px dotted black;border-radius: 0.25em;box-sizing: border-box;margin-bottom: 0.5em;}#sk-container-id-9 div.sk-estimator:hover {background-color: #d4ebff;}#sk-container-id-9 div.sk-parallel-item::after {content: \"\";width: 100%;border-bottom: 1px solid gray;flex-grow: 1;}#sk-container-id-9 div.sk-label:hover label.sk-toggleable__label {background-color: #d4ebff;}#sk-container-id-9 div.sk-serial::before {content: \"\";position: absolute;border-left: 1px solid gray;box-sizing: border-box;top: 0;bottom: 0;left: 50%;z-index: 0;}#sk-container-id-9 div.sk-serial {display: flex;flex-direction: column;align-items: center;background-color: white;padding-right: 0.2em;padding-left: 0.2em;position: relative;}#sk-container-id-9 div.sk-item {position: relative;z-index: 1;}#sk-container-id-9 div.sk-parallel {display: flex;align-items: stretch;justify-content: center;background-color: white;position: relative;}#sk-container-id-9 div.sk-item::before, #sk-container-id-9 div.sk-parallel-item::before {content: \"\";position: absolute;border-left: 1px solid gray;box-sizing: border-box;top: 0;bottom: 0;left: 50%;z-index: -1;}#sk-container-id-9 div.sk-parallel-item {display: flex;flex-direction: column;z-index: 1;position: relative;background-color: white;}#sk-container-id-9 div.sk-parallel-item:first-child::after {align-self: flex-end;width: 50%;}#sk-container-id-9 div.sk-parallel-item:last-child::after {align-self: flex-start;width: 50%;}#sk-container-id-9 div.sk-parallel-item:only-child::after {width: 0;}#sk-container-id-9 div.sk-dashed-wrapped {border: 1px dashed gray;margin: 0 0.4em 0.5em 0.4em;box-sizing: border-box;padding-bottom: 0.4em;background-color: white;}#sk-container-id-9 div.sk-label label {font-family: monospace;font-weight: bold;display: inline-block;line-height: 1.2em;}#sk-container-id-9 div.sk-label-container {text-align: center;}#sk-container-id-9 div.sk-container {/* jupyter's `normalize.less` sets `[hidden] { display: none; }` but bootstrap.min.css set `[hidden] { display: none !important; }` so we also need the `!important` here to be able to override the default hidden behavior on the sphinx rendered scikit-learn.org. See: https://github.com/scikit-learn/scikit-learn/issues/21755 */display: inline-block !important;position: relative;}#sk-container-id-9 div.sk-text-repr-fallback {display: none;}</style><div id=\"sk-container-id-9\" class=\"sk-top-container\"><div class=\"sk-text-repr-fallback\"><pre>GaussianNB(var_smoothing=0.01)</pre><b>In a Jupyter environment, please rerun this cell to show the HTML representation or trust the notebook. <br />On GitHub, the HTML representation is unable to render, please try loading this page with nbviewer.org.</b></div><div class=\"sk-container\" hidden><div class=\"sk-item\"><div class=\"sk-estimator sk-toggleable\"><input class=\"sk-toggleable__control sk-hidden--visually\" id=\"sk-estimator-id-9\" type=\"checkbox\" checked><label for=\"sk-estimator-id-9\" class=\"sk-toggleable__label sk-toggleable__label-arrow\">GaussianNB</label><div class=\"sk-toggleable__content\"><pre>GaussianNB(var_smoothing=0.01)</pre></div></div></div></div></div>"
      ],
      "text/plain": [
       "GaussianNB(var_smoothing=0.01)"
      ]
     },
     "execution_count": 88,
     "metadata": {},
     "output_type": "execute_result"
    }
   ],
   "source": [
    "model = GaussianNB(var_smoothing= 0.01);\n",
    "model.fit(x_train, y_train)\n"
   ]
  },
  {
   "cell_type": "code",
   "execution_count": 36,
   "id": "45502283",
   "metadata": {},
   "outputs": [
    {
     "name": "stdout",
     "output_type": "stream",
     "text": [
      "{'var_smoothing': 0.1}\n"
     ]
    }
   ],
   "source": [
    "# Model Training\n",
    "model = GaussianNB()\n",
    "\n",
    "param_grid = {\n",
    "    'var_smoothing': (1e-1, 1e-2, 1e-3, 1e-4, 1e-5, 1e-6, 1e-7, 1e-8, 1e-9, 1e-10 )\n",
    "}\n",
    "\n",
    "clf7 = HalvingGridSearchCV(estimator = model, cv=5, param_grid=param_grid, scoring='f1_macro')\n",
    "clf7.fit(x_train,y_train)\n",
    "\n",
    "print(clf7.best_params_)\n"
   ]
  },
  {
   "cell_type": "code",
   "execution_count": 93,
   "id": "3d3e8ef6",
   "metadata": {},
   "outputs": [
    {
     "name": "stdout",
     "output_type": "stream",
     "text": [
      "              precision    recall  f1-score   support\n",
      "\n",
      "     class E       0.60      0.49      0.54      5398\n",
      "     class P       0.65      0.74      0.69      6786\n",
      "\n",
      "    accuracy                           0.63     12184\n",
      "   macro avg       0.62      0.62      0.62     12184\n",
      "weighted avg       0.63      0.63      0.62     12184\n",
      "\n"
     ]
    },
    {
     "data": {
      "image/png": "[encoded data removed]",
      "text/plain": [
       "<Figure size 360x288 with 2 Axes>"
      ]
     },
     "metadata": {
      "needs_background": "light"
     },
     "output_type": "display_data"
    }
   ],
   "source": [
    "# Model Evaluation\n",
    "y_pred = model.predict(x_test)\n",
    "P = model.predict_proba(x_test)\n",
    "\n",
    "F1_GausNB = f1_score(y_test, y_pred, average='macro')\n",
    "AC_GausNB = accuracy_score(y_test, y_pred)\n",
    "\n",
    "RC_GausNB = recall_score(y_test, y_pred,average=None)\n",
    "\n",
    "print(classification_report(y_test, y_pred, target_names=target_names))\n",
    "\n",
    "cm = confusion_matrix(y_test, y_pred)\n",
    "\n",
    "\n",
    "# Stampiamo la matrice di confusione\n",
    "plt.figure(figsize = (5,4))\n",
    "sns.heatmap(cm, annot = True, xticklabels=classes,yticklabels=classes)\n",
    "plt.xlabel('Predicted')\n",
    "plt.ylabel('Truth')\n",
    "plt.show()"
   ]
  },
  {
   "cell_type": "code",
   "execution_count": null,
   "id": "a8688fd9",
   "metadata": {},
   "outputs": [],
   "source": []
  },
  {
   "cell_type": "markdown",
   "id": "4b51c944",
   "metadata": {},
   "source": [
    "# Linear discriminant analysis\n",
    "\n",
    "\n",
    "L'analisi discriminante lineare (LDA), nota anche come analisi discriminante normale o analisi della funzione discriminante, è una tecnica di riduzione della dimensionalità dello spazio del dataset, che viene proiettato in uno spazio di dimensione inferiore, dove poi si risolvono problemi di classificazione supervisionati.\n",
    "Essa come dice il nome è lineare, pertanto si suppone a priori che con questo dataset non produrrà risultati soddisfacenti."
   ]
  },
  {
   "cell_type": "code",
   "execution_count": 55,
   "id": "95a8475d",
   "metadata": {},
   "outputs": [
    {
     "data": {
      "text/html": [
       "<style>#sk-container-id-7 {color: black;background-color: white;}#sk-container-id-7 pre{padding: 0;}#sk-container-id-7 div.sk-toggleable {background-color: white;}#sk-container-id-7 label.sk-toggleable__label {cursor: pointer;display: block;width: 100%;margin-bottom: 0;padding: 0.3em;box-sizing: border-box;text-align: center;}#sk-container-id-7 label.sk-toggleable__label-arrow:before {content: \"▸\";float: left;margin-right: 0.25em;color: #696969;}#sk-container-id-7 label.sk-toggleable__label-arrow:hover:before {color: black;}#sk-container-id-7 div.sk-estimator:hover label.sk-toggleable__label-arrow:before {color: black;}#sk-container-id-7 div.sk-toggleable__content {max-height: 0;max-width: 0;overflow: hidden;text-align: left;background-color: #f0f8ff;}#sk-container-id-7 div.sk-toggleable__content pre {margin: 0.2em;color: black;border-radius: 0.25em;background-color: #f0f8ff;}#sk-container-id-7 input.sk-toggleable__control:checked~div.sk-toggleable__content {max-height: 200px;max-width: 100%;overflow: auto;}#sk-container-id-7 input.sk-toggleable__control:checked~label.sk-toggleable__label-arrow:before {content: \"▾\";}#sk-container-id-7 div.sk-estimator input.sk-toggleable__control:checked~label.sk-toggleable__label {background-color: #d4ebff;}#sk-container-id-7 div.sk-label input.sk-toggleable__control:checked~label.sk-toggleable__label {background-color: #d4ebff;}#sk-container-id-7 input.sk-hidden--visually {border: 0;clip: rect(1px 1px 1px 1px);clip: rect(1px, 1px, 1px, 1px);height: 1px;margin: -1px;overflow: hidden;padding: 0;position: absolute;width: 1px;}#sk-container-id-7 div.sk-estimator {font-family: monospace;background-color: #f0f8ff;border: 1px dotted black;border-radius: 0.25em;box-sizing: border-box;margin-bottom: 0.5em;}#sk-container-id-7 div.sk-estimator:hover {background-color: #d4ebff;}#sk-container-id-7 div.sk-parallel-item::after {content: \"\";width: 100%;border-bottom: 1px solid gray;flex-grow: 1;}#sk-container-id-7 div.sk-label:hover label.sk-toggleable__label {background-color: #d4ebff;}#sk-container-id-7 div.sk-serial::before {content: \"\";position: absolute;border-left: 1px solid gray;box-sizing: border-box;top: 0;bottom: 0;left: 50%;z-index: 0;}#sk-container-id-7 div.sk-serial {display: flex;flex-direction: column;align-items: center;background-color: white;padding-right: 0.2em;padding-left: 0.2em;position: relative;}#sk-container-id-7 div.sk-item {position: relative;z-index: 1;}#sk-container-id-7 div.sk-parallel {display: flex;align-items: stretch;justify-content: center;background-color: white;position: relative;}#sk-container-id-7 div.sk-item::before, #sk-container-id-7 div.sk-parallel-item::before {content: \"\";position: absolute;border-left: 1px solid gray;box-sizing: border-box;top: 0;bottom: 0;left: 50%;z-index: -1;}#sk-container-id-7 div.sk-parallel-item {display: flex;flex-direction: column;z-index: 1;position: relative;background-color: white;}#sk-container-id-7 div.sk-parallel-item:first-child::after {align-self: flex-end;width: 50%;}#sk-container-id-7 div.sk-parallel-item:last-child::after {align-self: flex-start;width: 50%;}#sk-container-id-7 div.sk-parallel-item:only-child::after {width: 0;}#sk-container-id-7 div.sk-dashed-wrapped {border: 1px dashed gray;margin: 0 0.4em 0.5em 0.4em;box-sizing: border-box;padding-bottom: 0.4em;background-color: white;}#sk-container-id-7 div.sk-label label {font-family: monospace;font-weight: bold;display: inline-block;line-height: 1.2em;}#sk-container-id-7 div.sk-label-container {text-align: center;}#sk-container-id-7 div.sk-container {/* jupyter's `normalize.less` sets `[hidden] { display: none; }` but bootstrap.min.css set `[hidden] { display: none !important; }` so we also need the `!important` here to be able to override the default hidden behavior on the sphinx rendered scikit-learn.org. See: https://github.com/scikit-learn/scikit-learn/issues/21755 */display: inline-block !important;position: relative;}#sk-container-id-7 div.sk-text-repr-fallback {display: none;}</style><div id=\"sk-container-id-7\" class=\"sk-top-container\"><div class=\"sk-text-repr-fallback\"><pre>LinearDiscriminantAnalysis(solver=&#x27;eigen&#x27;, tol=1e-09)</pre><b>In a Jupyter environment, please rerun this cell to show the HTML representation or trust the notebook. <br />On GitHub, the HTML representation is unable to render, please try loading this page with nbviewer.org.</b></div><div class=\"sk-container\" hidden><div class=\"sk-item\"><div class=\"sk-estimator sk-toggleable\"><input class=\"sk-toggleable__control sk-hidden--visually\" id=\"sk-estimator-id-7\" type=\"checkbox\" checked><label for=\"sk-estimator-id-7\" class=\"sk-toggleable__label sk-toggleable__label-arrow\">LinearDiscriminantAnalysis</label><div class=\"sk-toggleable__content\"><pre>LinearDiscriminantAnalysis(solver=&#x27;eigen&#x27;, tol=1e-09)</pre></div></div></div></div></div>"
      ],
      "text/plain": [
       "LinearDiscriminantAnalysis(solver='eigen', tol=1e-09)"
      ]
     },
     "execution_count": 55,
     "metadata": {},
     "output_type": "execute_result"
    }
   ],
   "source": [
    "model = LinearDiscriminantAnalysis(solver= 'eigen', tol= 1e-09)\n",
    "model.fit(x_train, y_train)"
   ]
  },
  {
   "cell_type": "code",
   "execution_count": 53,
   "id": "f4516400",
   "metadata": {},
   "outputs": [
    {
     "name": "stdout",
     "output_type": "stream",
     "text": [
      "{'solver': 'eigen', 'tol': 1e-09}\n"
     ]
    }
   ],
   "source": [
    "model = LinearDiscriminantAnalysis()\n",
    "\n",
    "param_grid = {\n",
    "        'solver':['svd', 'lsqr', 'eigen'],\n",
    "        'tol': (1e-1, 1e-2, 1e-3, 1e-4, 1e-5, 1e-6, 1e-7, 1e-8, 1e-9, 1e-10)\n",
    "\n",
    "}\n",
    "\n",
    "\n",
    "gsearch = HalvingGridSearchCV(estimator= model,  param_grid = param_grid, scoring='f1_macro', cv=5, n_jobs=4)\n",
    "gsearch.fit(x_train, y_train)\n",
    "print(gsearch.best_params_)"
   ]
  },
  {
   "cell_type": "code",
   "execution_count": 57,
   "id": "4eb52115",
   "metadata": {},
   "outputs": [
    {
     "name": "stdout",
     "output_type": "stream",
     "text": [
      "              precision    recall  f1-score   support\n",
      "\n",
      "     class E       0.61      0.46      0.52      5513\n",
      "     class P       0.63      0.75      0.69      6671\n",
      "\n",
      "    accuracy                           0.62     12184\n",
      "   macro avg       0.62      0.61      0.60     12184\n",
      "weighted avg       0.62      0.62      0.61     12184\n",
      "\n"
     ]
    },
    {
     "data": {
      "image/png": "[encoded data removed]",
      "text/plain": [
       "<Figure size 360x288 with 2 Axes>"
      ]
     },
     "metadata": {
      "needs_background": "light"
     },
     "output_type": "display_data"
    }
   ],
   "source": [
    "P = model.predict_proba(x_test)\n",
    "y_pred = model.predict(x_test)\n",
    "\n",
    "\n",
    "F1_QDA = f1_score(y_test, y_pred, average='macro')\n",
    "AC_QDA = accuracy_score(y_test, y_pred)\n",
    "RC_QDA = recall_score(y_test, y_pred,average=None)\n",
    "\n",
    "print(classification_report(y_test, y_pred, target_names=target_names))\n",
    "\n",
    "cm = confusion_matrix(y_test, y_pred)\n",
    "\n",
    "# Stampiamo la matrice di confusione\n",
    "plt.figure(figsize = (5,4))\n",
    "sns.heatmap(cm, annot = True, xticklabels=classes,yticklabels=classes)\n",
    "plt.xlabel('Predicted')\n",
    "plt.ylabel('Truth')\n",
    "plt.show()"
   ]
  },
  {
   "cell_type": "markdown",
   "id": "b770137d",
   "metadata": {},
   "source": [
    "# Alberi di decisione\n",
    "Gli alberi di classificazione (o di segmentazione) rappresentano una metodologia che ha l’obiettivo di ottenere una segmentazione gerarchica di un insieme di unità statistiche mediante l’individuazione di “regole” (o “percorsi”) che sfruttano la relazione esistente tra una classe di appartenenza e le variabili rilevate per ciascuna unità.\n",
    "\n",
    "Essi vengono utilizzati per individuare l’appartenenza di unità statistiche alle classi di una variabile dipendente conoscendo i valori o le modalità di una o più variabili esplicative (albero esplorativo).\n",
    "La regola individuata viene successivamente impiegata per classificare nuove unità statistiche di cui si ignora la categoria di appartenenza (albero decisionale)"
   ]
  },
  {
   "cell_type": "code",
   "execution_count": 58,
   "id": "fd997705",
   "metadata": {},
   "outputs": [
    {
     "data": {
      "text/html": [
       "<style>#sk-container-id-8 {color: black;background-color: white;}#sk-container-id-8 pre{padding: 0;}#sk-container-id-8 div.sk-toggleable {background-color: white;}#sk-container-id-8 label.sk-toggleable__label {cursor: pointer;display: block;width: 100%;margin-bottom: 0;padding: 0.3em;box-sizing: border-box;text-align: center;}#sk-container-id-8 label.sk-toggleable__label-arrow:before {content: \"▸\";float: left;margin-right: 0.25em;color: #696969;}#sk-container-id-8 label.sk-toggleable__label-arrow:hover:before {color: black;}#sk-container-id-8 div.sk-estimator:hover label.sk-toggleable__label-arrow:before {color: black;}#sk-container-id-8 div.sk-toggleable__content {max-height: 0;max-width: 0;overflow: hidden;text-align: left;background-color: #f0f8ff;}#sk-container-id-8 div.sk-toggleable__content pre {margin: 0.2em;color: black;border-radius: 0.25em;background-color: #f0f8ff;}#sk-container-id-8 input.sk-toggleable__control:checked~div.sk-toggleable__content {max-height: 200px;max-width: 100%;overflow: auto;}#sk-container-id-8 input.sk-toggleable__control:checked~label.sk-toggleable__label-arrow:before {content: \"▾\";}#sk-container-id-8 div.sk-estimator input.sk-toggleable__control:checked~label.sk-toggleable__label {background-color: #d4ebff;}#sk-container-id-8 div.sk-label input.sk-toggleable__control:checked~label.sk-toggleable__label {background-color: #d4ebff;}#sk-container-id-8 input.sk-hidden--visually {border: 0;clip: rect(1px 1px 1px 1px);clip: rect(1px, 1px, 1px, 1px);height: 1px;margin: -1px;overflow: hidden;padding: 0;position: absolute;width: 1px;}#sk-container-id-8 div.sk-estimator {font-family: monospace;background-color: #f0f8ff;border: 1px dotted black;border-radius: 0.25em;box-sizing: border-box;margin-bottom: 0.5em;}#sk-container-id-8 div.sk-estimator:hover {background-color: #d4ebff;}#sk-container-id-8 div.sk-parallel-item::after {content: \"\";width: 100%;border-bottom: 1px solid gray;flex-grow: 1;}#sk-container-id-8 div.sk-label:hover label.sk-toggleable__label {background-color: #d4ebff;}#sk-container-id-8 div.sk-serial::before {content: \"\";position: absolute;border-left: 1px solid gray;box-sizing: border-box;top: 0;bottom: 0;left: 50%;z-index: 0;}#sk-container-id-8 div.sk-serial {display: flex;flex-direction: column;align-items: center;background-color: white;padding-right: 0.2em;padding-left: 0.2em;position: relative;}#sk-container-id-8 div.sk-item {position: relative;z-index: 1;}#sk-container-id-8 div.sk-parallel {display: flex;align-items: stretch;justify-content: center;background-color: white;position: relative;}#sk-container-id-8 div.sk-item::before, #sk-container-id-8 div.sk-parallel-item::before {content: \"\";position: absolute;border-left: 1px solid gray;box-sizing: border-box;top: 0;bottom: 0;left: 50%;z-index: -1;}#sk-container-id-8 div.sk-parallel-item {display: flex;flex-direction: column;z-index: 1;position: relative;background-color: white;}#sk-container-id-8 div.sk-parallel-item:first-child::after {align-self: flex-end;width: 50%;}#sk-container-id-8 div.sk-parallel-item:last-child::after {align-self: flex-start;width: 50%;}#sk-container-id-8 div.sk-parallel-item:only-child::after {width: 0;}#sk-container-id-8 div.sk-dashed-wrapped {border: 1px dashed gray;margin: 0 0.4em 0.5em 0.4em;box-sizing: border-box;padding-bottom: 0.4em;background-color: white;}#sk-container-id-8 div.sk-label label {font-family: monospace;font-weight: bold;display: inline-block;line-height: 1.2em;}#sk-container-id-8 div.sk-label-container {text-align: center;}#sk-container-id-8 div.sk-container {/* jupyter's `normalize.less` sets `[hidden] { display: none; }` but bootstrap.min.css set `[hidden] { display: none !important; }` so we also need the `!important` here to be able to override the default hidden behavior on the sphinx rendered scikit-learn.org. See: https://github.com/scikit-learn/scikit-learn/issues/21755 */display: inline-block !important;position: relative;}#sk-container-id-8 div.sk-text-repr-fallback {display: none;}</style><div id=\"sk-container-id-8\" class=\"sk-top-container\"><div class=\"sk-text-repr-fallback\"><pre>DecisionTreeClassifier(criterion=&#x27;entropy&#x27;, max_leaf_nodes=380,\n",
       "                       splitter=&#x27;random&#x27;)</pre><b>In a Jupyter environment, please rerun this cell to show the HTML representation or trust the notebook. <br />On GitHub, the HTML representation is unable to render, please try loading this page with nbviewer.org.</b></div><div class=\"sk-container\" hidden><div class=\"sk-item\"><div class=\"sk-estimator sk-toggleable\"><input class=\"sk-toggleable__control sk-hidden--visually\" id=\"sk-estimator-id-8\" type=\"checkbox\" checked><label for=\"sk-estimator-id-8\" class=\"sk-toggleable__label sk-toggleable__label-arrow\">DecisionTreeClassifier</label><div class=\"sk-toggleable__content\"><pre>DecisionTreeClassifier(criterion=&#x27;entropy&#x27;, max_leaf_nodes=380,\n",
       "                       splitter=&#x27;random&#x27;)</pre></div></div></div></div></div>"
      ],
      "text/plain": [
       "DecisionTreeClassifier(criterion='entropy', max_leaf_nodes=380,\n",
       "                       splitter='random')"
      ]
     },
     "execution_count": 58,
     "metadata": {},
     "output_type": "execute_result"
    }
   ],
   "source": [
    "model = DecisionTreeClassifier(criterion = \"entropy\", max_leaf_nodes= 380, min_samples_split= 2,  splitter= \"random\" )\n",
    "model.fit(x_train, y_train)"
   ]
  },
  {
   "cell_type": "code",
   "execution_count": 41,
   "id": "4e265326",
   "metadata": {},
   "outputs": [
    {
     "name": "stdout",
     "output_type": "stream",
     "text": [
      "{'criterion': 'entropy', 'max_leaf_nodes': 380, 'min_samples_split': 2, 'splitter': 'random'}\n"
     ]
    }
   ],
   "source": [
    "model = DecisionTreeClassifier()\n",
    "# Model Training\n",
    "param_grid = { 'criterion': ['gini', 'entropy'],\n",
    "               'splitter': ['best', 'random'],\n",
    "               'max_leaf_nodes': [ 370,375,380],\n",
    "               'min_samples_split': [2,3, 4, 5],\n",
    " }\n",
    "\n",
    "clf = HalvingGridSearchCV(estimator = model, cv=5, param_grid=param_grid)\n",
    "clf.fit(x_train, y_train)\n",
    "print(clf.best_params_)"
   ]
  },
  {
   "cell_type": "code",
   "execution_count": 59,
   "id": "b50897f6",
   "metadata": {},
   "outputs": [
    {
     "name": "stdout",
     "output_type": "stream",
     "text": [
      "              precision    recall  f1-score   support\n",
      "\n",
      "     class E       1.00      0.97      0.98      5513\n",
      "     class P       0.98      1.00      0.99      6671\n",
      "\n",
      "    accuracy                           0.99     12184\n",
      "   macro avg       0.99      0.99      0.99     12184\n",
      "weighted avg       0.99      0.99      0.99     12184\n",
      "\n"
     ]
    },
    {
     "data": {
      "image/png": "[encoded data removed]",
      "text/plain": [
       "<Figure size 360x288 with 2 Axes>"
      ]
     },
     "metadata": {
      "needs_background": "light"
     },
     "output_type": "display_data"
    }
   ],
   "source": [
    "y_pred = model.predict(x_test)\n",
    "P = model.predict_proba(x_test)\n",
    "\n",
    "F1_DecTree = f1_score(y_test, y_pred, average='macro')\n",
    "AC_DecTree = accuracy_score(y_test, y_pred)\n",
    "RC_DecTree = recall_score(y_test, y_pred,average=None)\n",
    "\n",
    "print(classification_report(y_test, y_pred, target_names=target_names))\n",
    "\n",
    "cm = confusion_matrix(y_test, y_pred)\n",
    "\n",
    "# Stampiamo la matrice di confusione\n",
    "plt.figure(figsize = (5,4))\n",
    "sns.heatmap(cm, annot = True, xticklabels=classes ,yticklabels=classes)\n",
    "plt.xlabel('Predicted')\n",
    "plt.ylabel('Truth')\n",
    "plt.show()"
   ]
  },
  {
   "cell_type": "markdown",
   "id": "a773d2c9",
   "metadata": {},
   "source": [
    "# Random forest\n",
    "\n",
    "Random Forest è un potente e versatile algoritmo di apprendimento automatico supervisionato che cresce e combina più alberi decisionali per creare una \"foresta\".\n",
    "L'insieme di alberi di Random Forest genera la moda (classificazione) o la media (regressione) dei singoli alberi. Questo metodo consente risultati più accurati e stabili basandosi su una moltitudine di alberi anziché su un singolo albero decisionale.\n",
    "\n",
    "La logica alla base del modello Random Forest è che più modelli non correlati (i singoli alberi decisionali) funzionano molto meglio come gruppo che da soli. Quando si utilizza Random Forest per la classificazione, ogni albero fornisce una classificazione o un \"voto\". La foresta sceglie la classifica con la maggioranza dei “voti”. Quando si utilizza Random Forest per la regressione, la foresta preleva la media degli output di tutti gli alberi.\n",
    "\n",
    "La chiave qui sta nel fatto che c'è una bassa (o nessuna) correlazione tra i singoli modelli, cioè tra gli alberi decisionali che compongono il più ampio modello Random Forest. Mentre gli alberi decisionali individuali possono produrre errori, la maggior parte del gruppo sarà corretta, spostando così il risultato complessivo nella giusta direzione.\n",
    "\n",
    "l'algoritmo Random Forest si basa sul Bagging per la generaione di alberi e della tecnica del Bootstrap per il loro addestramento. L'elemento random risiede nella scelta della soglia di separazione per la generazione dei figli di ogni albero. "
   ]
  },
  {
   "cell_type": "code",
   "execution_count": 60,
   "id": "d51650af",
   "metadata": {},
   "outputs": [
    {
     "data": {
      "text/html": [
       "<style>#sk-container-id-9 {color: black;background-color: white;}#sk-container-id-9 pre{padding: 0;}#sk-container-id-9 div.sk-toggleable {background-color: white;}#sk-container-id-9 label.sk-toggleable__label {cursor: pointer;display: block;width: 100%;margin-bottom: 0;padding: 0.3em;box-sizing: border-box;text-align: center;}#sk-container-id-9 label.sk-toggleable__label-arrow:before {content: \"▸\";float: left;margin-right: 0.25em;color: #696969;}#sk-container-id-9 label.sk-toggleable__label-arrow:hover:before {color: black;}#sk-container-id-9 div.sk-estimator:hover label.sk-toggleable__label-arrow:before {color: black;}#sk-container-id-9 div.sk-toggleable__content {max-height: 0;max-width: 0;overflow: hidden;text-align: left;background-color: #f0f8ff;}#sk-container-id-9 div.sk-toggleable__content pre {margin: 0.2em;color: black;border-radius: 0.25em;background-color: #f0f8ff;}#sk-container-id-9 input.sk-toggleable__control:checked~div.sk-toggleable__content {max-height: 200px;max-width: 100%;overflow: auto;}#sk-container-id-9 input.sk-toggleable__control:checked~label.sk-toggleable__label-arrow:before {content: \"▾\";}#sk-container-id-9 div.sk-estimator input.sk-toggleable__control:checked~label.sk-toggleable__label {background-color: #d4ebff;}#sk-container-id-9 div.sk-label input.sk-toggleable__control:checked~label.sk-toggleable__label {background-color: #d4ebff;}#sk-container-id-9 input.sk-hidden--visually {border: 0;clip: rect(1px 1px 1px 1px);clip: rect(1px, 1px, 1px, 1px);height: 1px;margin: -1px;overflow: hidden;padding: 0;position: absolute;width: 1px;}#sk-container-id-9 div.sk-estimator {font-family: monospace;background-color: #f0f8ff;border: 1px dotted black;border-radius: 0.25em;box-sizing: border-box;margin-bottom: 0.5em;}#sk-container-id-9 div.sk-estimator:hover {background-color: #d4ebff;}#sk-container-id-9 div.sk-parallel-item::after {content: \"\";width: 100%;border-bottom: 1px solid gray;flex-grow: 1;}#sk-container-id-9 div.sk-label:hover label.sk-toggleable__label {background-color: #d4ebff;}#sk-container-id-9 div.sk-serial::before {content: \"\";position: absolute;border-left: 1px solid gray;box-sizing: border-box;top: 0;bottom: 0;left: 50%;z-index: 0;}#sk-container-id-9 div.sk-serial {display: flex;flex-direction: column;align-items: center;background-color: white;padding-right: 0.2em;padding-left: 0.2em;position: relative;}#sk-container-id-9 div.sk-item {position: relative;z-index: 1;}#sk-container-id-9 div.sk-parallel {display: flex;align-items: stretch;justify-content: center;background-color: white;position: relative;}#sk-container-id-9 div.sk-item::before, #sk-container-id-9 div.sk-parallel-item::before {content: \"\";position: absolute;border-left: 1px solid gray;box-sizing: border-box;top: 0;bottom: 0;left: 50%;z-index: -1;}#sk-container-id-9 div.sk-parallel-item {display: flex;flex-direction: column;z-index: 1;position: relative;background-color: white;}#sk-container-id-9 div.sk-parallel-item:first-child::after {align-self: flex-end;width: 50%;}#sk-container-id-9 div.sk-parallel-item:last-child::after {align-self: flex-start;width: 50%;}#sk-container-id-9 div.sk-parallel-item:only-child::after {width: 0;}#sk-container-id-9 div.sk-dashed-wrapped {border: 1px dashed gray;margin: 0 0.4em 0.5em 0.4em;box-sizing: border-box;padding-bottom: 0.4em;background-color: white;}#sk-container-id-9 div.sk-label label {font-family: monospace;font-weight: bold;display: inline-block;line-height: 1.2em;}#sk-container-id-9 div.sk-label-container {text-align: center;}#sk-container-id-9 div.sk-container {/* jupyter's `normalize.less` sets `[hidden] { display: none; }` but bootstrap.min.css set `[hidden] { display: none !important; }` so we also need the `!important` here to be able to override the default hidden behavior on the sphinx rendered scikit-learn.org. See: https://github.com/scikit-learn/scikit-learn/issues/21755 */display: inline-block !important;position: relative;}#sk-container-id-9 div.sk-text-repr-fallback {display: none;}</style><div id=\"sk-container-id-9\" class=\"sk-top-container\"><div class=\"sk-text-repr-fallback\"><pre>RandomForestClassifier(min_samples_split=4)</pre><b>In a Jupyter environment, please rerun this cell to show the HTML representation or trust the notebook. <br />On GitHub, the HTML representation is unable to render, please try loading this page with nbviewer.org.</b></div><div class=\"sk-container\" hidden><div class=\"sk-item\"><div class=\"sk-estimator sk-toggleable\"><input class=\"sk-toggleable__control sk-hidden--visually\" id=\"sk-estimator-id-9\" type=\"checkbox\" checked><label for=\"sk-estimator-id-9\" class=\"sk-toggleable__label sk-toggleable__label-arrow\">RandomForestClassifier</label><div class=\"sk-toggleable__content\"><pre>RandomForestClassifier(min_samples_split=4)</pre></div></div></div></div></div>"
      ],
      "text/plain": [
       "RandomForestClassifier(min_samples_split=4)"
      ]
     },
     "execution_count": 60,
     "metadata": {},
     "output_type": "execute_result"
    }
   ],
   "source": [
    "model = RandomForestClassifier(min_samples_leaf=1, min_samples_split= 4, n_estimators= 100)\n",
    "model.fit(x_train, y_train)"
   ]
  },
  {
   "cell_type": "code",
   "execution_count": 337,
   "id": "36de432e",
   "metadata": {},
   "outputs": [
    {
     "name": "stdout",
     "output_type": "stream",
     "text": [
      "{'min_samples_leaf': 1, 'min_samples_split': 2, 'n_estimators': 90}\n"
     ]
    }
   ],
   "source": [
    "# Model Training\n",
    "param_grid = {\n",
    "    'min_samples_leaf': [1, 3, 5],\n",
    "    'min_samples_split': [2,3,4],\n",
    "    'n_estimators': [90,100,110]\n",
    "}\n",
    "clf = HalvingGridSearchCV(estimator = model, cv=5, param_grid=param_grid)\n",
    "clf.fit(x_train, y_train)\n",
    "\n",
    "print(clf.best_params_)"
   ]
  },
  {
   "cell_type": "code",
   "execution_count": 61,
   "id": "112a3109",
   "metadata": {},
   "outputs": [
    {
     "name": "stdout",
     "output_type": "stream",
     "text": [
      "              precision    recall  f1-score   support\n",
      "\n",
      "     class E       1.00      0.98      0.99      5513\n",
      "     class P       0.98      1.00      0.99      6671\n",
      "\n",
      "    accuracy                           0.99     12184\n",
      "   macro avg       0.99      0.99      0.99     12184\n",
      "weighted avg       0.99      0.99      0.99     12184\n",
      "\n"
     ]
    },
    {
     "data": {
      "image/png": "[encoded data removed]",
      "text/plain": [
       "<Figure size 360x288 with 2 Axes>"
      ]
     },
     "metadata": {
      "needs_background": "light"
     },
     "output_type": "display_data"
    }
   ],
   "source": [
    "y_pred = model.predict(x_test)\n",
    "P = model.predict_proba(x_test)\n",
    "\n",
    "F1_RandFor = f1_score(y_test, y_pred, average='macro')\n",
    "AC_RandFor = accuracy_score(y_test, y_pred)\n",
    "RC_RandFor = recall_score(y_test, y_pred,average=None)\n",
    "\n",
    "print(classification_report(y_test, y_pred, target_names=target_names))\n",
    "\n",
    "cm = confusion_matrix(y_test, y_pred)\n",
    "\n",
    "# Stampiamo la matrice di confusione\n",
    "plt.figure(figsize = (5,4))\n",
    "sns.heatmap(cm, annot = True, xticklabels=classes,yticklabels=classes)\n",
    "plt.xlabel('Predicted')\n",
    "plt.ylabel('Truth')\n",
    "plt.show()"
   ]
  },
  {
   "cell_type": "markdown",
   "id": "5e4e613e",
   "metadata": {},
   "source": [
    "## KNN\n",
    "\n",
    "K-nearest neighbors (KNN) è un tipo di algoritmo di apprendimento supervisionato utilizzato sia per la regressione che per la classificazione. KNN cerca di prevedere la classe corretta per i dati del test calcolando la distanza tra i dati del test e tutti i punti del training. Seleziona quindi il numero K di punti che è più vicino ai dati del test. L'algoritmo KNN calcola la probabilità dei dati del test appartenenti alle classi di dati di addestramento 'K' e la classe detiene la probabilità più alta sarà selezionata. In caso di regressione, il valore è la media dei punti di allenamento 'K' selezionati."
   ]
  },
  {
   "cell_type": "code",
   "execution_count": 103,
   "id": "33d52cb2",
   "metadata": {},
   "outputs": [
    {
     "data": {
      "text/html": [
       "<style>#sk-container-id-16 {color: black;background-color: white;}#sk-container-id-16 pre{padding: 0;}#sk-container-id-16 div.sk-toggleable {background-color: white;}#sk-container-id-16 label.sk-toggleable__label {cursor: pointer;display: block;width: 100%;margin-bottom: 0;padding: 0.3em;box-sizing: border-box;text-align: center;}#sk-container-id-16 label.sk-toggleable__label-arrow:before {content: \"▸\";float: left;margin-right: 0.25em;color: #696969;}#sk-container-id-16 label.sk-toggleable__label-arrow:hover:before {color: black;}#sk-container-id-16 div.sk-estimator:hover label.sk-toggleable__label-arrow:before {color: black;}#sk-container-id-16 div.sk-toggleable__content {max-height: 0;max-width: 0;overflow: hidden;text-align: left;background-color: #f0f8ff;}#sk-container-id-16 div.sk-toggleable__content pre {margin: 0.2em;color: black;border-radius: 0.25em;background-color: #f0f8ff;}#sk-container-id-16 input.sk-toggleable__control:checked~div.sk-toggleable__content {max-height: 200px;max-width: 100%;overflow: auto;}#sk-container-id-16 input.sk-toggleable__control:checked~label.sk-toggleable__label-arrow:before {content: \"▾\";}#sk-container-id-16 div.sk-estimator input.sk-toggleable__control:checked~label.sk-toggleable__label {background-color: #d4ebff;}#sk-container-id-16 div.sk-label input.sk-toggleable__control:checked~label.sk-toggleable__label {background-color: #d4ebff;}#sk-container-id-16 input.sk-hidden--visually {border: 0;clip: rect(1px 1px 1px 1px);clip: rect(1px, 1px, 1px, 1px);height: 1px;margin: -1px;overflow: hidden;padding: 0;position: absolute;width: 1px;}#sk-container-id-16 div.sk-estimator {font-family: monospace;background-color: #f0f8ff;border: 1px dotted black;border-radius: 0.25em;box-sizing: border-box;margin-bottom: 0.5em;}#sk-container-id-16 div.sk-estimator:hover {background-color: #d4ebff;}#sk-container-id-16 div.sk-parallel-item::after {content: \"\";width: 100%;border-bottom: 1px solid gray;flex-grow: 1;}#sk-container-id-16 div.sk-label:hover label.sk-toggleable__label {background-color: #d4ebff;}#sk-container-id-16 div.sk-serial::before {content: \"\";position: absolute;border-left: 1px solid gray;box-sizing: border-box;top: 0;bottom: 0;left: 50%;z-index: 0;}#sk-container-id-16 div.sk-serial {display: flex;flex-direction: column;align-items: center;background-color: white;padding-right: 0.2em;padding-left: 0.2em;position: relative;}#sk-container-id-16 div.sk-item {position: relative;z-index: 1;}#sk-container-id-16 div.sk-parallel {display: flex;align-items: stretch;justify-content: center;background-color: white;position: relative;}#sk-container-id-16 div.sk-item::before, #sk-container-id-16 div.sk-parallel-item::before {content: \"\";position: absolute;border-left: 1px solid gray;box-sizing: border-box;top: 0;bottom: 0;left: 50%;z-index: -1;}#sk-container-id-16 div.sk-parallel-item {display: flex;flex-direction: column;z-index: 1;position: relative;background-color: white;}#sk-container-id-16 div.sk-parallel-item:first-child::after {align-self: flex-end;width: 50%;}#sk-container-id-16 div.sk-parallel-item:last-child::after {align-self: flex-start;width: 50%;}#sk-container-id-16 div.sk-parallel-item:only-child::after {width: 0;}#sk-container-id-16 div.sk-dashed-wrapped {border: 1px dashed gray;margin: 0 0.4em 0.5em 0.4em;box-sizing: border-box;padding-bottom: 0.4em;background-color: white;}#sk-container-id-16 div.sk-label label {font-family: monospace;font-weight: bold;display: inline-block;line-height: 1.2em;}#sk-container-id-16 div.sk-label-container {text-align: center;}#sk-container-id-16 div.sk-container {/* jupyter's `normalize.less` sets `[hidden] { display: none; }` but bootstrap.min.css set `[hidden] { display: none !important; }` so we also need the `!important` here to be able to override the default hidden behavior on the sphinx rendered scikit-learn.org. See: https://github.com/scikit-learn/scikit-learn/issues/21755 */display: inline-block !important;position: relative;}#sk-container-id-16 div.sk-text-repr-fallback {display: none;}</style><div id=\"sk-container-id-16\" class=\"sk-top-container\"><div class=\"sk-text-repr-fallback\"><pre>KNeighborsClassifier(algorithm=&#x27;ball_tree&#x27;, leaf_size=20, p=1,\n",
       "                     weights=&#x27;distance&#x27;)</pre><b>In a Jupyter environment, please rerun this cell to show the HTML representation or trust the notebook. <br />On GitHub, the HTML representation is unable to render, please try loading this page with nbviewer.org.</b></div><div class=\"sk-container\" hidden><div class=\"sk-item\"><div class=\"sk-estimator sk-toggleable\"><input class=\"sk-toggleable__control sk-hidden--visually\" id=\"sk-estimator-id-16\" type=\"checkbox\" checked><label for=\"sk-estimator-id-16\" class=\"sk-toggleable__label sk-toggleable__label-arrow\">KNeighborsClassifier</label><div class=\"sk-toggleable__content\"><pre>KNeighborsClassifier(algorithm=&#x27;ball_tree&#x27;, leaf_size=20, p=1,\n",
       "                     weights=&#x27;distance&#x27;)</pre></div></div></div></div></div>"
      ],
      "text/plain": [
       "KNeighborsClassifier(algorithm='ball_tree', leaf_size=20, p=1,\n",
       "                     weights='distance')"
      ]
     },
     "execution_count": 103,
     "metadata": {},
     "output_type": "execute_result"
    }
   ],
   "source": [
    "model = KNeighborsClassifier(algorithm= 'ball_tree', leaf_size= 20, n_neighbors= 5, p= 1, weights= 'distance')\n",
    "model.fit(x_train, y_train)"
   ]
  },
  {
   "cell_type": "code",
   "execution_count": null,
   "id": "c2aa9f3a",
   "metadata": {},
   "outputs": [],
   "source": [
    "model = KNeighborsClassifier()\n",
    "\n",
    "param_grid = {\n",
    "        'n_neighbors':[5,7,9,11,13],\n",
    "        'weights':['uniform', 'distance'],\n",
    "        'algorithm':['auto', 'ball_tree', 'kd_tree', 'brute'],\n",
    "        'leaf_size':[20,30, 40, 50],\n",
    "        'p':[1,2]\n",
    "}\n",
    "\n",
    "\n",
    "gsearch = HalvingGridSearchCV(estimator= model,  param_grid = param_grid, scoring='f1_macro', cv=5, n_jobs=4)\n",
    "gsearch.fit(x_train, y_train)\n",
    "print(gsearch.best_params_)"
   ]
  },
  {
   "cell_type": "code",
   "execution_count": 104,
   "id": "c4c42f49",
   "metadata": {},
   "outputs": [
    {
     "name": "stdout",
     "output_type": "stream",
     "text": [
      "Mean Recall = 0.9998500974366662\n",
      "Mean F1 Score = 0.989043681396298\n",
      "Mean accuracy Score = 0.9891661195009849\n"
     ]
    },
    {
     "data": {
      "image/png": "[encoded data removed]",
      "text/plain": [
       "<Figure size 360x288 with 2 Axes>"
      ]
     },
     "metadata": {
      "needs_background": "light"
     },
     "output_type": "display_data"
    }
   ],
   "source": [
    "y_pred = model.predict(x_test)\n",
    "P = model.predict_proba(x_test)\n",
    "\n",
    "RC_Knn = recall_score(y_test,y_pred, average=None)\n",
    "F1_Knn = f1_score(y_test, y_pred, average='macro')\n",
    "AC_Knn = accuracy_score(y_test, y_pred)\n",
    "\n",
    "print('Mean Recall =', RC_Knn[1])\n",
    "print('Mean F1 Score =', F1_Knn)\n",
    "print('Mean accuracy Score =', AC_Knn)\n",
    "\n",
    "cm = confusion_matrix(y_test, y_pred)\n",
    "\n",
    "# Stampiamo la matrice di confusione\n",
    "plt.figure(figsize = (5,4))\n",
    "sns.heatmap(cm, annot = True, xticklabels=classes,yticklabels=classes)\n",
    "plt.xlabel('Predicted')\n",
    "plt.ylabel('Truth')\n",
    "plt.show()"
   ]
  },
  {
   "cell_type": "markdown",
   "id": "d4d66e73",
   "metadata": {},
   "source": [
    "# Gradient Boosting\n",
    "I classificatori di incremento del gradiente sono un gruppo di algoritmi di apprendimento automatico che combinano insieme molti modelli di apprendimento deboli per creare un modello predittivo forte.\n",
    "\n",
    "Il Gradient Boosting è un algoritmo di classificazione basato sul metodo ensamble del Boosting. Con tale metodo si intende la creazione di una sequenza di classificatori dove la realizzazione dell' n-esimo si basa sull'esperienza degi n-1 classificatori che lo hanno preceduto.\n",
    "\n",
    "In pratica, mentre il primo classificatore cerca di predire il target del nostro Dataset, il secondo ha come \"nuovo target\" la differenza tra il vero target e la predizione precedente. Stessa cosa per i successivi, in questo modo si giungerà ad una classificazione più precisa.  "
   ]
  },
  {
   "cell_type": "code",
   "execution_count": 62,
   "id": "50b3c83c",
   "metadata": {},
   "outputs": [
    {
     "data": {
      "text/html": [
       "<style>#sk-container-id-10 {color: black;background-color: white;}#sk-container-id-10 pre{padding: 0;}#sk-container-id-10 div.sk-toggleable {background-color: white;}#sk-container-id-10 label.sk-toggleable__label {cursor: pointer;display: block;width: 100%;margin-bottom: 0;padding: 0.3em;box-sizing: border-box;text-align: center;}#sk-container-id-10 label.sk-toggleable__label-arrow:before {content: \"▸\";float: left;margin-right: 0.25em;color: #696969;}#sk-container-id-10 label.sk-toggleable__label-arrow:hover:before {color: black;}#sk-container-id-10 div.sk-estimator:hover label.sk-toggleable__label-arrow:before {color: black;}#sk-container-id-10 div.sk-toggleable__content {max-height: 0;max-width: 0;overflow: hidden;text-align: left;background-color: #f0f8ff;}#sk-container-id-10 div.sk-toggleable__content pre {margin: 0.2em;color: black;border-radius: 0.25em;background-color: #f0f8ff;}#sk-container-id-10 input.sk-toggleable__control:checked~div.sk-toggleable__content {max-height: 200px;max-width: 100%;overflow: auto;}#sk-container-id-10 input.sk-toggleable__control:checked~label.sk-toggleable__label-arrow:before {content: \"▾\";}#sk-container-id-10 div.sk-estimator input.sk-toggleable__control:checked~label.sk-toggleable__label {background-color: #d4ebff;}#sk-container-id-10 div.sk-label input.sk-toggleable__control:checked~label.sk-toggleable__label {background-color: #d4ebff;}#sk-container-id-10 input.sk-hidden--visually {border: 0;clip: rect(1px 1px 1px 1px);clip: rect(1px, 1px, 1px, 1px);height: 1px;margin: -1px;overflow: hidden;padding: 0;position: absolute;width: 1px;}#sk-container-id-10 div.sk-estimator {font-family: monospace;background-color: #f0f8ff;border: 1px dotted black;border-radius: 0.25em;box-sizing: border-box;margin-bottom: 0.5em;}#sk-container-id-10 div.sk-estimator:hover {background-color: #d4ebff;}#sk-container-id-10 div.sk-parallel-item::after {content: \"\";width: 100%;border-bottom: 1px solid gray;flex-grow: 1;}#sk-container-id-10 div.sk-label:hover label.sk-toggleable__label {background-color: #d4ebff;}#sk-container-id-10 div.sk-serial::before {content: \"\";position: absolute;border-left: 1px solid gray;box-sizing: border-box;top: 0;bottom: 0;left: 50%;z-index: 0;}#sk-container-id-10 div.sk-serial {display: flex;flex-direction: column;align-items: center;background-color: white;padding-right: 0.2em;padding-left: 0.2em;position: relative;}#sk-container-id-10 div.sk-item {position: relative;z-index: 1;}#sk-container-id-10 div.sk-parallel {display: flex;align-items: stretch;justify-content: center;background-color: white;position: relative;}#sk-container-id-10 div.sk-item::before, #sk-container-id-10 div.sk-parallel-item::before {content: \"\";position: absolute;border-left: 1px solid gray;box-sizing: border-box;top: 0;bottom: 0;left: 50%;z-index: -1;}#sk-container-id-10 div.sk-parallel-item {display: flex;flex-direction: column;z-index: 1;position: relative;background-color: white;}#sk-container-id-10 div.sk-parallel-item:first-child::after {align-self: flex-end;width: 50%;}#sk-container-id-10 div.sk-parallel-item:last-child::after {align-self: flex-start;width: 50%;}#sk-container-id-10 div.sk-parallel-item:only-child::after {width: 0;}#sk-container-id-10 div.sk-dashed-wrapped {border: 1px dashed gray;margin: 0 0.4em 0.5em 0.4em;box-sizing: border-box;padding-bottom: 0.4em;background-color: white;}#sk-container-id-10 div.sk-label label {font-family: monospace;font-weight: bold;display: inline-block;line-height: 1.2em;}#sk-container-id-10 div.sk-label-container {text-align: center;}#sk-container-id-10 div.sk-container {/* jupyter's `normalize.less` sets `[hidden] { display: none; }` but bootstrap.min.css set `[hidden] { display: none !important; }` so we also need the `!important` here to be able to override the default hidden behavior on the sphinx rendered scikit-learn.org. See: https://github.com/scikit-learn/scikit-learn/issues/21755 */display: inline-block !important;position: relative;}#sk-container-id-10 div.sk-text-repr-fallback {display: none;}</style><div id=\"sk-container-id-10\" class=\"sk-top-container\"><div class=\"sk-text-repr-fallback\"><pre>GradientBoostingClassifier(learning_rate=0.4, max_depth=11, max_features=&#x27;sqrt&#x27;,\n",
       "                           min_samples_leaf=3, min_samples_split=10,\n",
       "                           n_estimators=130, subsample=1)</pre><b>In a Jupyter environment, please rerun this cell to show the HTML representation or trust the notebook. <br />On GitHub, the HTML representation is unable to render, please try loading this page with nbviewer.org.</b></div><div class=\"sk-container\" hidden><div class=\"sk-item\"><div class=\"sk-estimator sk-toggleable\"><input class=\"sk-toggleable__control sk-hidden--visually\" id=\"sk-estimator-id-10\" type=\"checkbox\" checked><label for=\"sk-estimator-id-10\" class=\"sk-toggleable__label sk-toggleable__label-arrow\">GradientBoostingClassifier</label><div class=\"sk-toggleable__content\"><pre>GradientBoostingClassifier(learning_rate=0.4, max_depth=11, max_features=&#x27;sqrt&#x27;,\n",
       "                           min_samples_leaf=3, min_samples_split=10,\n",
       "                           n_estimators=130, subsample=1)</pre></div></div></div></div></div>"
      ],
      "text/plain": [
       "GradientBoostingClassifier(learning_rate=0.4, max_depth=11, max_features='sqrt',\n",
       "                           min_samples_leaf=3, min_samples_split=10,\n",
       "                           n_estimators=130, subsample=1)"
      ]
     },
     "execution_count": 62,
     "metadata": {},
     "output_type": "execute_result"
    }
   ],
   "source": [
    "model =GradientBoostingClassifier(max_depth= 11, min_samples_leaf= 3, learning_rate= 0.4,\n",
    "                                  n_estimators= 130, max_features='sqrt', min_samples_split= 10,subsample= 1)\n",
    "model.fit(x_train, y_train)"
   ]
  },
  {
   "cell_type": "code",
   "execution_count": 109,
   "id": "aea24af3",
   "metadata": {},
   "outputs": [
    {
     "name": "stdout",
     "output_type": "stream",
     "text": [
      "{'min_samples_split': 15}\n"
     ]
    }
   ],
   "source": [
    "model =GradientBoostingClassifier()\n",
    "\n",
    "#tree-based parameters\n",
    "param_test = {\n",
    "    #'n_estimators':range(110,151,10), \n",
    "    #'max_depth':range(9,16,2), \n",
    "    #'min_samples_split':range(5,61,5), \n",
    "    #'min_samples_leaf':range(10,31,5)\n",
    "    #'max_features':[None, 'sqrt', 'log2'], \n",
    "    #'subsample':[0.8,0.85,0.9,0.95],\n",
    "    #'learning_rate':[0.4, 0.45, 0.35]\n",
    "    }\n",
    "\n",
    "gsearch = HalvingGridSearchCV(estimator = model, param_grid = param_test, scoring = 'f1_macro', n_jobs = 4, cv = 3)\n",
    "gsearch.fit(x_train,y_train)\n",
    "\n",
    "print(gsearch.best_params_)"
   ]
  },
  {
   "cell_type": "code",
   "execution_count": 63,
   "id": "0fc61a0e",
   "metadata": {},
   "outputs": [
    {
     "name": "stdout",
     "output_type": "stream",
     "text": [
      "              precision    recall  f1-score   support\n",
      "\n",
      "     class E       1.00      0.98      0.99      5513\n",
      "     class P       0.99      1.00      0.99      6671\n",
      "\n",
      "    accuracy                           0.99     12184\n",
      "   macro avg       0.99      0.99      0.99     12184\n",
      "weighted avg       0.99      0.99      0.99     12184\n",
      "\n"
     ]
    },
    {
     "data": {
      "image/png": "[encoded data removed]",
      "text/plain": [
       "<Figure size 360x288 with 2 Axes>"
      ]
     },
     "metadata": {
      "needs_background": "light"
     },
     "output_type": "display_data"
    }
   ],
   "source": [
    "y_pred = model.predict(x_test)\n",
    "P = model.predict_proba(x_test)\n",
    "\n",
    "F1_GradBoost = f1_score(y_test, y_pred, average='macro')\n",
    "AC_GradBoost = accuracy_score(y_test, y_pred)\n",
    "RC_GradBoost = recall_score(y_test, y_pred,average=None)\n",
    "\n",
    "print(classification_report(y_test, y_pred, target_names=target_names))\n",
    "\n",
    "cm = confusion_matrix(y_test, y_pred)\n",
    "\n",
    "# Stampiamo la matrice di confusione\n",
    "plt.figure(figsize = (5,4))\n",
    "sns.heatmap(cm, annot = True, xticklabels=classes,yticklabels=classes)\n",
    "plt.xlabel('Predicted')\n",
    "plt.ylabel('Truth')\n",
    "plt.show()"
   ]
  },
  {
   "cell_type": "markdown",
   "id": "76ecc4fb",
   "metadata": {},
   "source": [
    "# MLP\n",
    "\n",
    "Un percettrone multistrato (MLP) è una rete neurale artificiale caratterizzata da diversi livelli di nodi di input collegati come un grafico diretto tra i livelli di input e di output. Ogni nodo utilizza una funzione di attivazione non lineare ad esempio una sigmoide che garantisce la \"trasformazione\" dell'output di un livello affinché possa essere immesso nel layer successivo e generare l'output finale.\n",
    "\n",
    "L'addestramento della rete neurale prevede una fase iniziale di forward propagation tramite la quale viene inserito nella rete il dato di input e viene calcolata la relativa funzione di costo.\n",
    "\n",
    "La seconda fase prevede la backpropagation, la rete viene quindi percorsa a ritroso, calcolando per ogni parametro la derivata della funzione costo questo permetterà di comprendere quali saranno gli aggiustamenti sui parametri che la rete dovrà compiere per minimizzare la relativa funzione di costo quindi fare in modo che il valore ottenuto sia quanto più vicino possibile al valore da predire."
   ]
  },
  {
   "cell_type": "code",
   "execution_count": 64,
   "id": "704c9931",
   "metadata": {},
   "outputs": [
    {
     "data": {
      "text/html": [
       "<style>#sk-container-id-11 {color: black;background-color: white;}#sk-container-id-11 pre{padding: 0;}#sk-container-id-11 div.sk-toggleable {background-color: white;}#sk-container-id-11 label.sk-toggleable__label {cursor: pointer;display: block;width: 100%;margin-bottom: 0;padding: 0.3em;box-sizing: border-box;text-align: center;}#sk-container-id-11 label.sk-toggleable__label-arrow:before {content: \"▸\";float: left;margin-right: 0.25em;color: #696969;}#sk-container-id-11 label.sk-toggleable__label-arrow:hover:before {color: black;}#sk-container-id-11 div.sk-estimator:hover label.sk-toggleable__label-arrow:before {color: black;}#sk-container-id-11 div.sk-toggleable__content {max-height: 0;max-width: 0;overflow: hidden;text-align: left;background-color: #f0f8ff;}#sk-container-id-11 div.sk-toggleable__content pre {margin: 0.2em;color: black;border-radius: 0.25em;background-color: #f0f8ff;}#sk-container-id-11 input.sk-toggleable__control:checked~div.sk-toggleable__content {max-height: 200px;max-width: 100%;overflow: auto;}#sk-container-id-11 input.sk-toggleable__control:checked~label.sk-toggleable__label-arrow:before {content: \"▾\";}#sk-container-id-11 div.sk-estimator input.sk-toggleable__control:checked~label.sk-toggleable__label {background-color: #d4ebff;}#sk-container-id-11 div.sk-label input.sk-toggleable__control:checked~label.sk-toggleable__label {background-color: #d4ebff;}#sk-container-id-11 input.sk-hidden--visually {border: 0;clip: rect(1px 1px 1px 1px);clip: rect(1px, 1px, 1px, 1px);height: 1px;margin: -1px;overflow: hidden;padding: 0;position: absolute;width: 1px;}#sk-container-id-11 div.sk-estimator {font-family: monospace;background-color: #f0f8ff;border: 1px dotted black;border-radius: 0.25em;box-sizing: border-box;margin-bottom: 0.5em;}#sk-container-id-11 div.sk-estimator:hover {background-color: #d4ebff;}#sk-container-id-11 div.sk-parallel-item::after {content: \"\";width: 100%;border-bottom: 1px solid gray;flex-grow: 1;}#sk-container-id-11 div.sk-label:hover label.sk-toggleable__label {background-color: #d4ebff;}#sk-container-id-11 div.sk-serial::before {content: \"\";position: absolute;border-left: 1px solid gray;box-sizing: border-box;top: 0;bottom: 0;left: 50%;z-index: 0;}#sk-container-id-11 div.sk-serial {display: flex;flex-direction: column;align-items: center;background-color: white;padding-right: 0.2em;padding-left: 0.2em;position: relative;}#sk-container-id-11 div.sk-item {position: relative;z-index: 1;}#sk-container-id-11 div.sk-parallel {display: flex;align-items: stretch;justify-content: center;background-color: white;position: relative;}#sk-container-id-11 div.sk-item::before, #sk-container-id-11 div.sk-parallel-item::before {content: \"\";position: absolute;border-left: 1px solid gray;box-sizing: border-box;top: 0;bottom: 0;left: 50%;z-index: -1;}#sk-container-id-11 div.sk-parallel-item {display: flex;flex-direction: column;z-index: 1;position: relative;background-color: white;}#sk-container-id-11 div.sk-parallel-item:first-child::after {align-self: flex-end;width: 50%;}#sk-container-id-11 div.sk-parallel-item:last-child::after {align-self: flex-start;width: 50%;}#sk-container-id-11 div.sk-parallel-item:only-child::after {width: 0;}#sk-container-id-11 div.sk-dashed-wrapped {border: 1px dashed gray;margin: 0 0.4em 0.5em 0.4em;box-sizing: border-box;padding-bottom: 0.4em;background-color: white;}#sk-container-id-11 div.sk-label label {font-family: monospace;font-weight: bold;display: inline-block;line-height: 1.2em;}#sk-container-id-11 div.sk-label-container {text-align: center;}#sk-container-id-11 div.sk-container {/* jupyter's `normalize.less` sets `[hidden] { display: none; }` but bootstrap.min.css set `[hidden] { display: none !important; }` so we also need the `!important` here to be able to override the default hidden behavior on the sphinx rendered scikit-learn.org. See: https://github.com/scikit-learn/scikit-learn/issues/21755 */display: inline-block !important;position: relative;}#sk-container-id-11 div.sk-text-repr-fallback {display: none;}</style><div id=\"sk-container-id-11\" class=\"sk-top-container\"><div class=\"sk-text-repr-fallback\"><pre>MLPClassifier(activation=&#x27;tanh&#x27;, epsilon=0.001, hidden_layer_sizes=350,\n",
       "              learning_rate=&#x27;adaptive&#x27;, learning_rate_init=0.04, solver=&#x27;sgd&#x27;)</pre><b>In a Jupyter environment, please rerun this cell to show the HTML representation or trust the notebook. <br />On GitHub, the HTML representation is unable to render, please try loading this page with nbviewer.org.</b></div><div class=\"sk-container\" hidden><div class=\"sk-item\"><div class=\"sk-estimator sk-toggleable\"><input class=\"sk-toggleable__control sk-hidden--visually\" id=\"sk-estimator-id-11\" type=\"checkbox\" checked><label for=\"sk-estimator-id-11\" class=\"sk-toggleable__label sk-toggleable__label-arrow\">MLPClassifier</label><div class=\"sk-toggleable__content\"><pre>MLPClassifier(activation=&#x27;tanh&#x27;, epsilon=0.001, hidden_layer_sizes=350,\n",
       "              learning_rate=&#x27;adaptive&#x27;, learning_rate_init=0.04, solver=&#x27;sgd&#x27;)</pre></div></div></div></div></div>"
      ],
      "text/plain": [
       "MLPClassifier(activation='tanh', epsilon=0.001, hidden_layer_sizes=350,\n",
       "              learning_rate='adaptive', learning_rate_init=0.04, solver='sgd')"
      ]
     },
     "execution_count": 64,
     "metadata": {},
     "output_type": "execute_result"
    }
   ],
   "source": [
    "model = MLPClassifier(activation = 'tanh', learning_rate= 'adaptive',learning_rate_init =0.04,\n",
    "                      solver= 'sgd',alpha=0.0001,epsilon=0.001, hidden_layer_sizes= 350)\n",
    "model.fit(x_train, y_train)"
   ]
  },
  {
   "cell_type": "code",
   "execution_count": 50,
   "id": "6a425dd0",
   "metadata": {},
   "outputs": [
    {
     "name": "stdout",
     "output_type": "stream",
     "text": [
      "{}\n"
     ]
    }
   ],
   "source": [
    "model = MLPClassifier()\n",
    "param_grid = {\n",
    "        #'hidden_layer_sizes': [(50, 100, 50), (200, 150, 200)] , (20, 20, 20)],\n",
    "       # 'activation': ['relu', 'tanh'],\n",
    "       # 'learning_rate': ['constant', 'adaptive'],\n",
    "       # 'alpha': [0.000001, 0.0001, 0.00001],\n",
    "        #'learning_rate_init': [0.04, 0.05, 0.03],\n",
    "        #'solver': ['sgd', 'lbfgs', 'adam'],\n",
    "       # 'epsilon': [0.01, 0.0001, 0.001]\n",
    "}\n",
    "\n",
    "\n",
    "gsearch = HalvingGridSearchCV(estimator= model,  param_grid = param_grid, scoring='f1_macro', cv=5, n_jobs=4)\n",
    "gsearch.fit(x_train, y_train)\n",
    "print(gsearch.best_params_)"
   ]
  },
  {
   "cell_type": "code",
   "execution_count": 65,
   "id": "0395227c",
   "metadata": {},
   "outputs": [
    {
     "name": "stdout",
     "output_type": "stream",
     "text": [
      "              precision    recall  f1-score   support\n",
      "\n",
      "     class E       1.00      0.98      0.99      5513\n",
      "     class P       0.98      1.00      0.99      6671\n",
      "\n",
      "    accuracy                           0.99     12184\n",
      "   macro avg       0.99      0.99      0.99     12184\n",
      "weighted avg       0.99      0.99      0.99     12184\n",
      "\n"
     ]
    },
    {
     "data": {
      "image/png": "[encoded data removed]",
      "text/plain": [
       "<Figure size 360x288 with 2 Axes>"
      ]
     },
     "metadata": {
      "needs_background": "light"
     },
     "output_type": "display_data"
    }
   ],
   "source": [
    "P = model.predict_proba(x_test)\n",
    "y_pred = model.predict(x_test)\n",
    "\n",
    "F1_MLP = f1_score(y_test, y_pred, average='macro')\n",
    "AC_MLP = accuracy_score(y_test, y_pred)\n",
    "RC_MLP = recall_score(y_test, y_pred,average=None)\n",
    "\n",
    "print(classification_report(y_test, y_pred, target_names=target_names))\n",
    "\n",
    "cm = confusion_matrix(y_test, y_pred)\n",
    "\n",
    "# Stampiamo la matrice di confusione\n",
    "plt.figure(figsize = (5,4))\n",
    "sns.heatmap(cm, annot = True, xticklabels=classes,yticklabels=classes)\n",
    "plt.xlabel('Predicted')\n",
    "plt.ylabel('Truth')\n",
    "plt.show()"
   ]
  },
  {
   "cell_type": "markdown",
   "id": "2e794725",
   "metadata": {},
   "source": [
    "## Sommario classificatori"
   ]
  },
  {
   "cell_type": "code",
   "execution_count": 111,
   "id": "2f764a7f",
   "metadata": {},
   "outputs": [
    {
     "name": "stdout",
     "output_type": "stream",
     "text": [
      "Modello                            Mean Recall P    Mean F1-score    Mean accuracy score\n",
      "-------------------------------  ---------------  ---------------  ---------------------\n",
      "Logistic Regression                     0.748314         0.603856               0.619665\n",
      "Gaussian Naive Bayes                    0.631539         0.629719               0.631074\n",
      "Quadratic discriminant analisys         0.75386          0.60453                0.62106\n",
      "Support Vector Machine                  0.957877         0.942814               0.94345\n",
      "Decision Tree                           0.9997           0.986297               0.986458\n",
      "KNN                                     0.99985          0.989044               0.989166\n",
      "Gradient Boosting                       1                0.992452               0.992531\n",
      "Random Forest                           1                0.98921                0.98933\n",
      "MLP                                     0.9994           0.989211               0.98933\n"
     ]
    }
   ],
   "source": [
    "rows = [['Modello', 'Mean Recall P', 'Mean F1-score', 'Mean accuracy score'],\n",
    "        ['Logistic Regression', RC_LogReg[1], F1_LogReg, AC_LogReg],\n",
    "        ['Gaussian Naive Bayes', RC_GausNB[1], F1_GausNB, AC_GausNB],\n",
    "        ['Quadratic discriminant analisys', RC_QDA[1], F1_QDA, AC_QDA],\n",
    "        ['Support Vector Machine ', RC_SVC[1], F1_SVC, AC_SVC],\n",
    "        ['Decision Tree', RC_DecTree[1], F1_DecTree, AC_DecTree],\n",
    "        ['KNN', RC_Knn[1], F1_Knn, AC_Knn],\n",
    "        ['Gradient Boosting ', RC_GradBoost[1], F1_GradBoost, AC_GradBoost],\n",
    "        ['Random Forest', RC_RandFor[1], F1_RandFor, AC_RandFor],\n",
    "        ['MLP', RC_MLP[1], F1_MLP, AC_MLP]\n",
    "        ]\n",
    "\n",
    "print(tabulate(rows, headers='firstrow'))"
   ]
  },
  {
   "cell_type": "code",
   "execution_count": 112,
   "id": "10d65cda",
   "metadata": {},
   "outputs": [
    {
     "data": {
      "image/png": "[encoded data removed]",
      "text/plain": [
       "<Figure size 864x360 with 1 Axes>"
      ]
     },
     "metadata": {
      "needs_background": "light"
     },
     "output_type": "display_data"
    }
   ],
   "source": [
    "CC=['LR','GNB','QDA','SVC','DE','KNN', 'GB', 'RF','MLP']\n",
    "F1=[F1_LogReg,F1_GausNB,F1_QDA,F1_SVC,F1_DecTree, F1_Knn,F1_GradBoost,F1_RandFor,F1_MLP]\n",
    "RC=[RC_LogReg[1],RC_GausNB[1],RC_QDA[1],RC_SVC[1],RC_DecTree[1], RC_Knn[1],RC_GradBoost[1],RC_RandFor[1],RC_MLP[1]]\n",
    "AC=[AC_LogReg,AC_GausNB,AC_QDA,AC_SVC,AC_DecTree,AC_Knn,AC_GradBoost,AC_RandFor,AC_MLP]\n",
    "plt.figure(figsize = (12,5))\n",
    "plt.title(\"Classifiers comparison\")\n",
    "plt.bar(range(9), F1, color = \"r\", align = \"center\")\n",
    "plt.xticks(range(9), CC)\n",
    "plt.ylabel(\"F1 score\")\n",
    "plt.xlabel(\"Technique\") \n",
    "plt.xlim([-1,9])\n",
    "plt.show()"
   ]
  },
  {
   "cell_type": "code",
   "execution_count": 113,
   "id": "9bf78992",
   "metadata": {},
   "outputs": [
    {
     "data": {
      "image/png": "[encoded data removed]",
      "text/plain": [
       "<Figure size 864x360 with 1 Axes>"
      ]
     },
     "metadata": {
      "needs_background": "light"
     },
     "output_type": "display_data"
    }
   ],
   "source": [
    "plt.figure(figsize = (12,5))\n",
    "plt.title(\"Classifiers comparison\")\n",
    "plt.bar(range(9), RC, color = \"y\", align = \"center\")\n",
    "plt.xticks(range(9), CC)\n",
    "plt.ylabel(\"Recall Poisonus\")\n",
    "plt.xlabel(\"Technique\") \n",
    "plt.xlim([-1,9])\n",
    "plt.show()"
   ]
  },
  {
   "cell_type": "code",
   "execution_count": 114,
   "id": "b6d3bd43",
   "metadata": {},
   "outputs": [
    {
     "data": {
      "image/png": "[encoded data removed]",
      "text/plain": [
       "<Figure size 864x360 with 1 Axes>"
      ]
     },
     "metadata": {
      "needs_background": "light"
     },
     "output_type": "display_data"
    }
   ],
   "source": [
    "plt.figure(figsize = (12,5))\n",
    "plt.title(\"Classifiers comparison\")\n",
    "plt.bar(range(9), AC, color = \"b\", align = \"center\")\n",
    "plt.xticks(range(9), CC)\n",
    "plt.ylabel(\"Accuracy\")\n",
    "plt.xlabel(\"Technique\") \n",
    "plt.xlim([-1,9])\n",
    "plt.show()"
   ]
  },
  {
   "cell_type": "markdown",
   "id": "1d3b7cd1",
   "metadata": {},
   "source": [
    "Dopo numerose prove è risultato evidente che alcuni dei classificatori precedentemente visti ottenevano prestazioni concorrenti. Ciò è dovuto allo shuffle iniziale, che però è necessario data la provenienza del Dataset. Pertanto di media si è osservato che il più performante tra questi, sia per F1-score sia (soprattutto) per la Recall dei Poisonous, è il Random Forest. \n",
    "\n",
    "una volta scelto il metodo di classficiazione da operare sui valori del dataset, è buona norma cercare di ottimizzarlo al meglio con l' ausilio di alcune tecniche di preprocessing quali scaling e resempling."
   ]
  },
  {
   "cell_type": "markdown",
   "id": "950658d8",
   "metadata": {},
   "source": [
    "## SCALING\n",
    "Nel machine learning lo scaling (o feature scaling) permette di normalizzare il range di variazione delle caratteristiche (feature) di un dataset.\n",
    "E' una delle operazioni di pre-processing più utili perché migliora la qualità dei risultati finali. \n",
    "A parità di altre condizioni, lo scaling o scalatura riduce il tempo in cui l'algoritmo di apprendimento converge al risultato finale e migliora l'efficacia del modello statistico. Quando l'intervallo dei valori è molto variabile, la semplice distanza euclidea tra due due punti può diventare fuorviante.\n",
    "\n",
    "Visto che il dataset è dominato da valori discreti (e anche quelli continui non hanno né un range elevato né un ordine di grandezza diverso da quelli discreti), l'operazione di scaling non darà grandi vantaggi, ma è ad ogni modo opportuno verificarlo.\n",
    "\n",
    "### MinMaxScaler\n",
    "Esistono diversi metodi di scaling dei dati. Uno dei più semplici è il ridimensionamento min-max. L'algoritmo di scaling individua il valore minimo e massimo tra i valori di una caratteristica x. \n",
    "\n",
    "\n",
    "{ min ( x ) max ( x )\n",
    "Poi sostituisce ogni valore xi con il valore x'i normalizzato $${x'i = \\frac{xi−min(x)}{max(x)−min(x)}}$$ \n",
    "\n",
    "Dove xi è il valore originale mentre x'i è il valore normalizzato. In questo modo i dati diventano omogenei in una scala da 0 a 1."
   ]
  },
  {
   "cell_type": "code",
   "execution_count": 70,
   "id": "da7841e1",
   "metadata": {},
   "outputs": [],
   "source": [
    "features=[\"cap-diameter\" , \"cap-shape\", \"cap-surface\", \"cap-color\", \"does-bruise-or-bleed\", \"gill-attachment\", \"gill-spacing\",\n",
    "         \"gill-color\", \"stem-height\",\"stem-width\", \"stem-surface\", \"stem-color\", \"has-ring\", \"ring-type\", \"habitat\", \"season\" ]"
   ]
  },
  {
   "cell_type": "code",
   "execution_count": 71,
   "id": "c727cbc6",
   "metadata": {},
   "outputs": [],
   "source": [
    "scaler = MinMaxScaler()                                    \n",
    "scaler.fit(x_train)\n",
    "MM_ms=scaler.transform(x_train)\n",
    "scaler.fit(x_test)\n",
    "MM_ts=scaler.transform(x_test)\n",
    "\n",
    "\n",
    "MMms = pd.DataFrame(MM_ms, columns = features)\n",
    "MMts = pd.DataFrame(MM_ts, columns =  features)\n",
    "\n",
    "\n",
    "x_traic=MMms\n",
    "x_tesc=MMts"
   ]
  },
  {
   "cell_type": "markdown",
   "id": "ef079f46",
   "metadata": {},
   "source": [
    "### MaxAbsScaler\n",
    "Ridimensiona ogni caratteristica in base al suo valore assoluto massimo.\n",
    "\n",
    "Questo stimatore ridimensiona e traduce ciascuna caratteristica individualmente in modo tale che il valore assoluto massimo di ciascuna caratteristica nel set di addestramento sia 1,0."
   ]
  },
  {
   "cell_type": "code",
   "execution_count": 72,
   "id": "82392e1a",
   "metadata": {},
   "outputs": [],
   "source": [
    "scaler = MaxAbsScaler() \n",
    "scaler.fit(x_train)\n",
    "MA_ms=scaler.transform(x_train)\n",
    "scaler.fit(x_test)\n",
    "MA_ts=scaler.transform(x_test)\n",
    "\n",
    "\n",
    "MAms = pd.DataFrame(MA_ms, columns = features)\n",
    "MAts = pd.DataFrame(MA_ts, columns = features)\n",
    "\n",
    "\n",
    "x_traim=MAms  \n",
    "x_tesm=MAts "
   ]
  },
  {
   "cell_type": "markdown",
   "id": "7aaa6f7c",
   "metadata": {},
   "source": [
    "### QuantileTransformer\n",
    "\n",
    "Trasforma le caratteristiche usando le informazioni sui quantili.\n",
    "\n",
    "Questo metodo trasforma le features per seguire una distribuzione uniforme o normale. Pertanto, per una data feature, questa trasformazione tende a disperdere i valori più frequenti. Riduce anche l'impatto dei valori anomali (marginali): si tratta quindi di un solido schema di preelaborazione.\n",
    "\n",
    "La trasformazione viene applicata a ciascuna funzione in modo indipendente. Per prima cosa viene utilizzata una stima della funzione di distribuzione cumulativa di una caratteristica per mappare i valori originali su una distribuzione uniforme. I valori ottenuti vengono quindi mappati sulla distribuzione di output desiderata utilizzando la funzione quantile associata. I valori delle features dei dati nuovi/non visti che cadono al di sotto o al di sopra dell'intervallo adattato verranno mappati ai limiti della distribuzione di output. Si noti che questa trasformazione non è lineare."
   ]
  },
  {
   "cell_type": "code",
   "execution_count": 73,
   "id": "c0efd574",
   "metadata": {},
   "outputs": [],
   "source": [
    "scaler = QuantileTransformer(n_quantiles=10) \n",
    "scaler.fit(x_train)\n",
    "QT_ms=scaler.transform(x_train)\n",
    "scaler.fit(x_test)\n",
    "QT_ts=scaler.transform(x_test)\n",
    "                            \n",
    "\n",
    "QTms = pd.DataFrame(QT_ms, columns = features)\n",
    "\n",
    "QTts = pd.DataFrame(QT_ts, columns = features)\n",
    "\n",
    "x_traiq=QTms\n",
    "x_tesq=QTts"
   ]
  },
  {
   "cell_type": "markdown",
   "id": "c0f08d19",
   "metadata": {},
   "source": [
    "è verificato di seguito che lo scaling dei dati non comporta alcun sostanziale miglioramento nei risultati ottenuti dal classificatore scelto."
   ]
  },
  {
   "cell_type": "code",
   "execution_count": 80,
   "id": "62c893ae",
   "metadata": {},
   "outputs": [
    {
     "name": "stdout",
     "output_type": "stream",
     "text": [
      "Mean Recall = 0.9216009593764053\n",
      "Mean F1 Score = 0.7833296965063463\n",
      "Mean accuracy Score = 0.7934175968483257\n"
     ]
    },
    {
     "data": {
      "image/png": "[encoded data removed]",
      "text/plain": [
       "<Figure size 360x288 with 2 Axes>"
      ]
     },
     "metadata": {
      "needs_background": "light"
     },
     "output_type": "display_data"
    }
   ],
   "source": [
    "model = RandomForestClassifier(min_samples_leaf=1, min_samples_split= 4, n_estimators= 100)\n",
    "model.fit(x_traic, y_train)\n",
    "y_pred = model.predict(x_tesc)\n",
    "P = model.predict_proba(x_tesc)\n",
    "\n",
    "RC_RandFor_c = recall_score(y_test,y_pred, average=None)\n",
    "F1_RandFor_c = f1_score(y_test, y_pred, average='macro')\n",
    "AC_RandFor_c = accuracy_score(y_test, y_pred)\n",
    "\n",
    "print('Mean Recall =', RC_RandFor_c[1])\n",
    "print('Mean F1 Score =', F1_RandFor_c)\n",
    "print('Mean accuracy Score =', AC_RandFor_c)\n",
    "\n",
    "cm = confusion_matrix(y_test, y_pred)\n",
    "\n",
    "# Stampiamo la matrice di confusione\n",
    "plt.figure(figsize = (5,4))\n",
    "sns.heatmap(cm, annot = True, xticklabels=classes,yticklabels=classes)\n",
    "plt.xlabel('Predicted')\n",
    "plt.ylabel('Truth')\n",
    "plt.show()"
   ]
  },
  {
   "cell_type": "code",
   "execution_count": 81,
   "id": "d840e699",
   "metadata": {},
   "outputs": [
    {
     "name": "stdout",
     "output_type": "stream",
     "text": [
      "Mean Recall = 0.9230999850097437\n",
      "Mean F1 Score = 0.7713034825531324\n",
      "Mean accuracy Score = 0.7831582403151675\n"
     ]
    },
    {
     "data": {
      "image/png": "[encoded data removed]",
      "text/plain": [
       "<Figure size 360x288 with 2 Axes>"
      ]
     },
     "metadata": {
      "needs_background": "light"
     },
     "output_type": "display_data"
    }
   ],
   "source": [
    "model = RandomForestClassifier(min_samples_leaf=1, min_samples_split= 4, n_estimators= 100)\n",
    "model.fit(x_traim, y_train)\n",
    "y_pred = model.predict(x_tesm)\n",
    "P = model.predict_proba(x_tesm)\n",
    "\n",
    "RC_RandFor_m = recall_score(y_test,y_pred, average=None)\n",
    "F1_RandFor_m = f1_score(y_test, y_pred, average='macro')\n",
    "AC_RandFor_m = accuracy_score(y_test, y_pred)\n",
    "\n",
    "print('Mean Recall =', RC_RandFor_m[1])\n",
    "print('Mean F1 Score =', F1_RandFor_m)\n",
    "print('Mean accuracy Score =', AC_RandFor_m)\n",
    "\n",
    "cm = confusion_matrix(y_test, y_pred)\n",
    "\n",
    "# Stampiamo la matrice di confusione\n",
    "plt.figure(figsize = (5,4))\n",
    "sns.heatmap(cm, annot = True, xticklabels=classes,yticklabels=classes)\n",
    "plt.xlabel('Predicted')\n",
    "plt.ylabel('Truth')\n",
    "plt.show()"
   ]
  },
  {
   "cell_type": "code",
   "execution_count": 82,
   "id": "aba152e0",
   "metadata": {},
   "outputs": [
    {
     "name": "stdout",
     "output_type": "stream",
     "text": [
      "Mean Recall = 1.0\n",
      "Mean F1 Score = 0.988710480269789\n",
      "Mean accuracy Score = 0.9888378200919238\n"
     ]
    },
    {
     "data": {
      "image/png": "[encoded data removed]",
      "text/plain": [
       "<Figure size 360x288 with 2 Axes>"
      ]
     },
     "metadata": {
      "needs_background": "light"
     },
     "output_type": "display_data"
    }
   ],
   "source": [
    "model = RandomForestClassifier(min_samples_leaf=1, min_samples_split= 4, n_estimators= 100)\n",
    "model.fit(x_traiq, y_train)\n",
    "y_pred = model.predict(x_tesq)\n",
    "P = model.predict_proba(x_tesq)\n",
    "\n",
    "RC_RandFor_q = recall_score(y_test,y_pred,average=None)\n",
    "F1_RandFor_q = f1_score(y_test, y_pred, average='macro')\n",
    "AC_RandFor_q = accuracy_score(y_test, y_pred)\n",
    "\n",
    "print('Mean Recall =', RC_RandFor_q[1])\n",
    "print('Mean F1 Score =', F1_RandFor_q)\n",
    "print('Mean accuracy Score =', AC_RandFor_q)\n",
    "\n",
    "cm = confusion_matrix(y_test, y_pred)\n",
    "\n",
    "# Stampiamo la matrice di confusione\n",
    "plt.figure(figsize = (5,4))\n",
    "sns.heatmap(cm, annot = True, xticklabels=classes,yticklabels=classes)\n",
    "plt.xlabel('Predicted')\n",
    "plt.ylabel('Truth')\n",
    "plt.show()"
   ]
  },
  {
   "cell_type": "code",
   "execution_count": 77,
   "id": "83a2937b",
   "metadata": {},
   "outputs": [
    {
     "data": {
      "image/png": "[encoded data removed]",
      "text/plain": [
       "<Figure size 864x360 with 1 Axes>"
      ]
     },
     "metadata": {
      "needs_background": "light"
     },
     "output_type": "display_data"
    }
   ],
   "source": [
    "SC=['No Scaler','MinMax','MaxAbs','quantile']\n",
    "F1S=[F1_RandFor,F1_RandFor_c,F1_RandFor_m,F1_RandFor_q]\n",
    "RCS=[RC_RandFor[1],RC_RandFor_c[1],RC_RandFor_m[1],RC_RandFor_q[1]]\n",
    "ACS=[AC_RandFor,AC_RandFor_c,AC_RandFor_m,AC_RandFor_q]\n",
    "plt.figure(figsize = (12,5))\n",
    "plt.title(\"Scaler comparison\")\n",
    "plt.bar(range(4), F1S, color = \"r\", align = \"center\")\n",
    "plt.xticks(range(4), SC)\n",
    "plt.ylabel(\"F1 score\")\n",
    "plt.xlabel(\"Technique\") \n",
    "plt.xlim([-1,4])\n",
    "plt.show()"
   ]
  },
  {
   "cell_type": "code",
   "execution_count": 78,
   "id": "9a988060",
   "metadata": {},
   "outputs": [
    {
     "data": {
      "image/png": "[encoded data removed]",
      "text/plain": [
       "<Figure size 864x360 with 1 Axes>"
      ]
     },
     "metadata": {
      "needs_background": "light"
     },
     "output_type": "display_data"
    }
   ],
   "source": [
    "plt.figure(figsize = (12,5))\n",
    "plt.title(\"Scaler comparison\")\n",
    "plt.bar(range(4), ACS, color = \"b\", align = \"center\")\n",
    "plt.xticks(range(4), SC)\n",
    "plt.ylabel(\"Accuracy\")\n",
    "plt.xlabel(\"Technique\") \n",
    "plt.xlim([-1,4])\n",
    "plt.show()"
   ]
  },
  {
   "cell_type": "code",
   "execution_count": 79,
   "id": "35c6a0d8",
   "metadata": {},
   "outputs": [
    {
     "data": {
      "image/png": "[encoded data removed]",
      "text/plain": [
       "<Figure size 864x360 with 1 Axes>"
      ]
     },
     "metadata": {
      "needs_background": "light"
     },
     "output_type": "display_data"
    }
   ],
   "source": [
    "plt.figure(figsize = (12,5))\n",
    "plt.title(\"Scaler comparison\")\n",
    "plt.bar(range(4), RCS, color = \"y\", align = \"center\")\n",
    "plt.xticks(range(4), SC)\n",
    "plt.ylabel(\"Recall Poisonus\")\n",
    "plt.xlabel(\"Technique\") \n",
    "plt.xlim([-1,4])\n",
    "plt.show()"
   ]
  },
  {
   "cell_type": "markdown",
   "id": "8e04809b",
   "metadata": {},
   "source": [
    "Come già previsto in precedenza con l'ausilio dei vari grafici si è dimostrato che per il nostro problema è superfluo l'utilizzo dell'operazione di scaling dei valori del dataset."
   ]
  },
  {
   "cell_type": "markdown",
   "id": "a25bb1ee",
   "metadata": {},
   "source": [
    "## RESAMPLING\n",
    "La fase di apprendimento e la successiva previsione degli algoritmi di machine learning possono essere influenzate dal problema del dataset sbilanciato, che corrisponde alla differenza del numero di campioni nelle diverse classi.  \n",
    "\n",
    "Per bilanciare un training set esistono diversi metodi: under-sampling, over-sampling, e la combinazione di over e under sampling. \n",
    " \n",
    "Over-sampling viene utilizzato quando la quantità di dati è insufficiente. Tenta di bilanciare il set di dati aumentando la dimensione dei campioni di minoranza. Piuttosto che eliminare i campioni di maggioranza, vengono generati nuovi campioni di minoranza. Fanno parte degli algoritmi di Over-sampling lo SMOTE e il RandomOverSampler. \n",
    "\n",
    "D’altro canto Under-sampling bilancia il dataset riducendo la dimensione della classe di maggioranza, per esempio mantenendo tutti i campioni nella classe di minoranza e selezionando casualmente un numero uguale di campioni nella classe di maggioranza. Questo metodo viene utilizzato quando la quantità di dati a disposizione è sufficiente. Tra gli algoritmi di Under-sampling troviamo TomekLinks e RandomUnderSampler.\n",
    "\n",
    "Lo SMOTETomek è invece un esempio di algoritmo ibrido.\n",
    "\n",
    "Visto che il nostro dataset è bilanciato ( il numero degli elementi fra le due classi è circa lo stesso), l'operazione di resampling non darà grandi vantaggi, ma è ad ogni modo opportuno verificarlo.\n",
    "\n",
    "#### RandomUnderSampler\n",
    "\n",
    "Elimina casualmente alcuni elementi della classe di maggioranza"
   ]
  },
  {
   "cell_type": "code",
   "execution_count": 83,
   "id": "22cda044",
   "metadata": {},
   "outputs": [
    {
     "name": "stdout",
     "output_type": "stream",
     "text": [
      "Mean Recall = 0.9997001948733323\n",
      "Mean F1 Score = 0.9886280699405773\n",
      "Mean accuracy Score = 0.9887557452396586\n"
     ]
    },
    {
     "data": {
      "image/png": "[encoded data removed]",
      "text/plain": [
       "<Figure size 360x288 with 2 Axes>"
      ]
     },
     "metadata": {
      "needs_background": "light"
     },
     "output_type": "display_data"
    }
   ],
   "source": [
    "rus = RandomUnderSampler(random_state=42)\n",
    "x_rus, y_rus = rus.fit_resample(x_train,y_train)\n",
    "\n",
    "model = RandomForestClassifier(min_samples_leaf=1, min_samples_split= 4, n_estimators= 100)\n",
    "model.fit(x_rus, y_rus)\n",
    "y_pred = model.predict(x_test)\n",
    "P = model.predict_proba(x_test)\n",
    "\n",
    "RC_RandFor_rus = recall_score(y_test,y_pred, average=None)\n",
    "F1_RandFor_rus = f1_score(y_test, y_pred, average='macro')\n",
    "AC_RandFor_rus = accuracy_score(y_test, y_pred)\n",
    "\n",
    "print('Mean Recall =', RC_RandFor_rus[1])\n",
    "print('Mean F1 Score =', F1_RandFor_rus)\n",
    "print('Mean accuracy Score =', AC_RandFor_rus)\n",
    "\n",
    "cm = confusion_matrix(y_test, y_pred)\n",
    "\n",
    "# Stampiamo la matrice di confusione\n",
    "plt.figure(figsize = (5,4))\n",
    "sns.heatmap(cm, annot = True, xticklabels=classes,yticklabels=classes)\n",
    "plt.xlabel('Predicted')\n",
    "plt.ylabel('Truth')\n",
    "plt.show()"
   ]
  },
  {
   "cell_type": "markdown",
   "id": "201a92ae",
   "metadata": {},
   "source": [
    "#### RandomOverSampler\n",
    "\n",
    "Duplica casualmente alcuni elementi della classe di minoranza"
   ]
  },
  {
   "cell_type": "code",
   "execution_count": 84,
   "id": "d70a8748",
   "metadata": {},
   "outputs": [
    {
     "name": "stdout",
     "output_type": "stream",
     "text": [
      "Mean Recall = 1.0\n",
      "Mean F1 Score = 0.9892928764612017\n",
      "Mean accuracy Score = 0.9894123440577807\n"
     ]
    },
    {
     "data": {
      "image/png": "[encoded data removed]",
      "text/plain": [
       "<Figure size 360x288 with 2 Axes>"
      ]
     },
     "metadata": {
      "needs_background": "light"
     },
     "output_type": "display_data"
    }
   ],
   "source": [
    "ros = RandomOverSampler(random_state=42)\n",
    "x_ros, y_ros = ros.fit_resample(x_train,y_train)\n",
    "\n",
    "model = RandomForestClassifier(min_samples_leaf=1, min_samples_split= 4, n_estimators= 100)\n",
    "model.fit(x_ros, y_ros)\n",
    "y_pred = model.predict(x_test)\n",
    "P = model.predict_proba(x_test)\n",
    "\n",
    "RC_RandFor_ros = recall_score(y_test,y_pred,average=None)\n",
    "F1_RandFor_ros = f1_score(y_test, y_pred, average='macro')\n",
    "AC_RandFor_ros = accuracy_score(y_test, y_pred)\n",
    "\n",
    "print('Mean Recall =', RC_RandFor_ros[1])\n",
    "print('Mean F1 Score =', F1_RandFor_ros)\n",
    "print('Mean accuracy Score =', AC_RandFor_ros)\n",
    "\n",
    "cm = confusion_matrix(y_test, y_pred)\n",
    "\n",
    "# Stampiamo la matrice di confusione\n",
    "plt.figure(figsize = (5,4))\n",
    "sns.heatmap(cm, annot = True, xticklabels=classes,yticklabels=classes)\n",
    "plt.xlabel('Predicted')\n",
    "plt.ylabel('Truth')\n",
    "plt.show()"
   ]
  },
  {
   "cell_type": "markdown",
   "id": "9a4c31cf",
   "metadata": {},
   "source": [
    "#### TomekLinks\n"
   ]
  },
  {
   "cell_type": "code",
   "execution_count": 85,
   "id": "e4571858",
   "metadata": {},
   "outputs": [
    {
     "name": "stdout",
     "output_type": "stream",
     "text": [
      "Mean Recall = 0.9998500974366662\n",
      "Mean F1 Score = 0.9887940835180872\n",
      "Mean accuracy Score = 0.9889198949441891\n"
     ]
    },
    {
     "data": {
      "image/png": "[encoded data removed]",
      "text/plain": [
       "<Figure size 360x288 with 2 Axes>"
      ]
     },
     "metadata": {
      "needs_background": "light"
     },
     "output_type": "display_data"
    }
   ],
   "source": [
    "rts = TomekLinks()\n",
    "x_rts, y_rts = rts.fit_resample(x_train,y_train)\n",
    "\n",
    "model = RandomForestClassifier(min_samples_leaf=1, min_samples_split= 4, n_estimators= 100)\n",
    "model.fit(x_rts, y_rts)\n",
    "y_pred = model.predict(x_test)\n",
    "P = model.predict_proba(x_test)\n",
    "\n",
    "RC_RandFor_rts = recall_score(y_test,y_pred, average=None)\n",
    "F1_RandFor_rts = f1_score(y_test, y_pred, average='macro')\n",
    "AC_RandFor_rts = accuracy_score(y_test, y_pred)\n",
    "\n",
    "print('Mean Recall =', RC_RandFor_rts[1])\n",
    "print('Mean F1 Score =', F1_RandFor_rts)\n",
    "print('Mean accuracy Score =', AC_RandFor_rts)\n",
    "\n",
    "cm = confusion_matrix(y_test, y_pred)\n",
    "\n",
    "# Stampiamo la matrice di confusione\n",
    "plt.figure(figsize = (5,4))\n",
    "sns.heatmap(cm, annot = True, xticklabels=classes,yticklabels=classes)\n",
    "plt.xlabel('Predicted')\n",
    "plt.ylabel('Truth')\n",
    "plt.show()"
   ]
  },
  {
   "cell_type": "markdown",
   "id": "a1ec5a5a",
   "metadata": {},
   "source": [
    "#### SMOTE"
   ]
  },
  {
   "cell_type": "code",
   "execution_count": 86,
   "id": "a88c8a1d",
   "metadata": {},
   "outputs": [
    {
     "name": "stdout",
     "output_type": "stream",
     "text": [
      "Mean Recall = 1.0\n",
      "Mean F1 Score = 0.9891264929192092\n",
      "Mean accuracy Score = 0.9892481943532502\n"
     ]
    },
    {
     "data": {
      "image/png": "[encoded data removed]",
      "text/plain": [
       "<Figure size 360x288 with 2 Axes>"
      ]
     },
     "metadata": {
      "needs_background": "light"
     },
     "output_type": "display_data"
    }
   ],
   "source": [
    "rss = SMOTE(random_state=42)\n",
    "x_rss, y_rss = rss.fit_resample(x_train,y_train)\n",
    "\n",
    "model = RandomForestClassifier(min_samples_leaf=1, min_samples_split= 4, n_estimators= 100)\n",
    "model.fit(x_rss, y_rss)\n",
    "y_pred = model.predict(x_test)\n",
    "P = model.predict_proba(x_test)\n",
    "\n",
    "RC_RandFor_rss = recall_score(y_test,y_pred, average=None)\n",
    "F1_RandFor_rss = f1_score(y_test, y_pred, average='macro')\n",
    "AC_RandFor_rss = accuracy_score(y_test, y_pred)\n",
    "\n",
    "print('Mean Recall =', RC_RandFor_rss[1])\n",
    "print('Mean F1 Score =', F1_RandFor_rss)\n",
    "print('Mean accuracy Score =', AC_RandFor_rss)\n",
    "\n",
    "cm = confusion_matrix(y_test, y_pred)\n",
    "\n",
    "# Stampiamo la matrice di confusione\n",
    "plt.figure(figsize = (5,4))\n",
    "sns.heatmap(cm, annot = True, xticklabels=classes,yticklabels=classes)\n",
    "plt.xlabel('Predicted')\n",
    "plt.ylabel('Truth')\n",
    "plt.show()"
   ]
  },
  {
   "cell_type": "markdown",
   "id": "7e3be599",
   "metadata": {},
   "source": [
    "#### SMOTETomek\n",
    "\n",
    "Il processo di SMOTE-Tomek Links è il seguente. (Inizio di SMOTE) Scegli dati casuali dalla classe di minoranza. Calcola la distanza tra i dati casuali e i suoi k vicini più vicini. Moltiplica la differenza per un numero casuale compreso tra 0 e 1, quindi aggiungi il risultato alla classe di minoranza come campione sintetico."
   ]
  },
  {
   "cell_type": "code",
   "execution_count": 87,
   "id": "89614751",
   "metadata": {},
   "outputs": [
    {
     "name": "stdout",
     "output_type": "stream",
     "text": [
      "Mean Recall = 1.0\n",
      "Mean F1 Score = 0.988960097095597\n",
      "Mean accuracy Score = 0.9890840446487197\n"
     ]
    },
    {
     "data": {
      "image/png": "[encoded data removed]",
      "text/plain": [
       "<Figure size 360x288 with 2 Axes>"
      ]
     },
     "metadata": {
      "needs_background": "light"
     },
     "output_type": "display_data"
    }
   ],
   "source": [
    "rst = SMOTETomek(random_state=42)\n",
    "x_rst, y_rst = rst.fit_resample(x_train,y_train)\n",
    "\n",
    "model = RandomForestClassifier(min_samples_leaf=1, min_samples_split= 4, n_estimators= 100)\n",
    "model.fit(x_rst, y_rst)\n",
    "y_pred = model.predict(x_test)\n",
    "P = model.predict_proba(x_test)\n",
    "\n",
    "RC_RandFor_rst = recall_score(y_test,y_pred, average=None)\n",
    "F1_RandFor_rst = f1_score(y_test, y_pred, average='macro')\n",
    "AC_RandFor_rst = accuracy_score(y_test, y_pred)\n",
    "\n",
    "print('Mean Recall =', RC_RandFor_rst[1])\n",
    "print('Mean F1 Score =', F1_RandFor_rst)\n",
    "print('Mean accuracy Score =', AC_RandFor_rst)\n",
    "\n",
    "cm = confusion_matrix(y_test, y_pred)\n",
    "\n",
    "# Stampiamo la matrice di confusione\n",
    "plt.figure(figsize = (5,4))\n",
    "sns.heatmap(cm, annot = True, xticklabels=classes,yticklabels=classes)\n",
    "plt.xlabel('Predicted')\n",
    "plt.ylabel('Truth')\n",
    "plt.show()"
   ]
  },
  {
   "cell_type": "code",
   "execution_count": 88,
   "id": "2e466b23",
   "metadata": {
    "scrolled": true
   },
   "outputs": [
    {
     "name": "stdout",
     "output_type": "stream",
     "text": [
      "Modello              Mean Recall Poisonous    Mean F1-score    Mean accuracy score\n",
      "-----------------  -----------------------  ---------------  ---------------------\n",
      "Random Forest                      1               0.98921                0.98933\n",
      "Random Forest_rus                  0.9997          0.988628               0.988756\n",
      "Random Forest_ros                  1               0.989293               0.989412\n",
      "Random Forest_rts                  0.99985         0.988794               0.98892\n",
      "Random Forest_rss                  1               0.989126               0.989248\n",
      "Random Forest_rst                  1               0.98896                0.989084\n"
     ]
    }
   ],
   "source": [
    "rows = [['Modello', 'Mean Recall Poisonous', 'Mean F1-score', 'Mean accuracy score'],\n",
    "        ['Random Forest', RC_RandFor[1], F1_RandFor, AC_RandFor],\n",
    "        ['Random Forest_rus', RC_RandFor_rus[1], F1_RandFor_rus, AC_RandFor_rus],\n",
    "        ['Random Forest_ros', RC_RandFor_ros[1], F1_RandFor_ros, AC_RandFor_ros],\n",
    "        ['Random Forest_rts', RC_RandFor_rts[1], F1_RandFor_rts, AC_RandFor_rts],\n",
    "        ['Random Forest_rss', RC_RandFor_rss[1], F1_RandFor_rss, AC_RandFor_rss],\n",
    "        ['Random Forest_rst', RC_RandFor_rst[1], F1_RandFor_rst, AC_RandFor_rst]    \n",
    "        ]\n",
    "\n",
    "print(tabulate(rows, headers='firstrow'))"
   ]
  },
  {
   "cell_type": "markdown",
   "id": "f252e310",
   "metadata": {},
   "source": [
    "Come si evince dalla tabella sovrastante, le supposizioni sul resampling fatte in precedenza sono state confermate. Esso non comporta un tangibile miglioramento in nessuno degli scores presi in considerazione. Anche se le due classi presentano una differenza di cardinalità di alcune migliaia, ognuna di esse possiede abbastanza elementi da permettere la realizzazione di un classificatore efficiente. Classificatore che non viene migliorato con metodi di Under-sampling, Over-sampling o ibridi tra i due."
   ]
  },
  {
   "cell_type": "markdown",
   "id": "bb56472c",
   "metadata": {},
   "source": [
    "## APPLICAZIONE FEATRUES SELECTION AND EXTRACTION\n",
    "\n",
    "Si procede con l'applicazione del modello Random Forest ai vari Dataset realizzati precedentemente tramite features selection o extraction. La dimensionalità del Dataset originale, ripulito delle features con un numero eccessivo di valori Null è di per sè poco elevata, pertanto non sono previsti né miglioramenti dal punto di vista del carico computazionale né sostanziali peggioramenti riguardo alle predizioni. \n",
    "\n",
    "### Random Forest con Mutua Informazione"
   ]
  },
  {
   "cell_type": "code",
   "execution_count": 89,
   "id": "a1966ec5",
   "metadata": {},
   "outputs": [
    {
     "data": {
      "text/html": [
       "<style>#sk-container-id-12 {color: black;background-color: white;}#sk-container-id-12 pre{padding: 0;}#sk-container-id-12 div.sk-toggleable {background-color: white;}#sk-container-id-12 label.sk-toggleable__label {cursor: pointer;display: block;width: 100%;margin-bottom: 0;padding: 0.3em;box-sizing: border-box;text-align: center;}#sk-container-id-12 label.sk-toggleable__label-arrow:before {content: \"▸\";float: left;margin-right: 0.25em;color: #696969;}#sk-container-id-12 label.sk-toggleable__label-arrow:hover:before {color: black;}#sk-container-id-12 div.sk-estimator:hover label.sk-toggleable__label-arrow:before {color: black;}#sk-container-id-12 div.sk-toggleable__content {max-height: 0;max-width: 0;overflow: hidden;text-align: left;background-color: #f0f8ff;}#sk-container-id-12 div.sk-toggleable__content pre {margin: 0.2em;color: black;border-radius: 0.25em;background-color: #f0f8ff;}#sk-container-id-12 input.sk-toggleable__control:checked~div.sk-toggleable__content {max-height: 200px;max-width: 100%;overflow: auto;}#sk-container-id-12 input.sk-toggleable__control:checked~label.sk-toggleable__label-arrow:before {content: \"▾\";}#sk-container-id-12 div.sk-estimator input.sk-toggleable__control:checked~label.sk-toggleable__label {background-color: #d4ebff;}#sk-container-id-12 div.sk-label input.sk-toggleable__control:checked~label.sk-toggleable__label {background-color: #d4ebff;}#sk-container-id-12 input.sk-hidden--visually {border: 0;clip: rect(1px 1px 1px 1px);clip: rect(1px, 1px, 1px, 1px);height: 1px;margin: -1px;overflow: hidden;padding: 0;position: absolute;width: 1px;}#sk-container-id-12 div.sk-estimator {font-family: monospace;background-color: #f0f8ff;border: 1px dotted black;border-radius: 0.25em;box-sizing: border-box;margin-bottom: 0.5em;}#sk-container-id-12 div.sk-estimator:hover {background-color: #d4ebff;}#sk-container-id-12 div.sk-parallel-item::after {content: \"\";width: 100%;border-bottom: 1px solid gray;flex-grow: 1;}#sk-container-id-12 div.sk-label:hover label.sk-toggleable__label {background-color: #d4ebff;}#sk-container-id-12 div.sk-serial::before {content: \"\";position: absolute;border-left: 1px solid gray;box-sizing: border-box;top: 0;bottom: 0;left: 50%;z-index: 0;}#sk-container-id-12 div.sk-serial {display: flex;flex-direction: column;align-items: center;background-color: white;padding-right: 0.2em;padding-left: 0.2em;position: relative;}#sk-container-id-12 div.sk-item {position: relative;z-index: 1;}#sk-container-id-12 div.sk-parallel {display: flex;align-items: stretch;justify-content: center;background-color: white;position: relative;}#sk-container-id-12 div.sk-item::before, #sk-container-id-12 div.sk-parallel-item::before {content: \"\";position: absolute;border-left: 1px solid gray;box-sizing: border-box;top: 0;bottom: 0;left: 50%;z-index: -1;}#sk-container-id-12 div.sk-parallel-item {display: flex;flex-direction: column;z-index: 1;position: relative;background-color: white;}#sk-container-id-12 div.sk-parallel-item:first-child::after {align-self: flex-end;width: 50%;}#sk-container-id-12 div.sk-parallel-item:last-child::after {align-self: flex-start;width: 50%;}#sk-container-id-12 div.sk-parallel-item:only-child::after {width: 0;}#sk-container-id-12 div.sk-dashed-wrapped {border: 1px dashed gray;margin: 0 0.4em 0.5em 0.4em;box-sizing: border-box;padding-bottom: 0.4em;background-color: white;}#sk-container-id-12 div.sk-label label {font-family: monospace;font-weight: bold;display: inline-block;line-height: 1.2em;}#sk-container-id-12 div.sk-label-container {text-align: center;}#sk-container-id-12 div.sk-container {/* jupyter's `normalize.less` sets `[hidden] { display: none; }` but bootstrap.min.css set `[hidden] { display: none !important; }` so we also need the `!important` here to be able to override the default hidden behavior on the sphinx rendered scikit-learn.org. See: https://github.com/scikit-learn/scikit-learn/issues/21755 */display: inline-block !important;position: relative;}#sk-container-id-12 div.sk-text-repr-fallback {display: none;}</style><div id=\"sk-container-id-12\" class=\"sk-top-container\"><div class=\"sk-text-repr-fallback\"><pre>RandomForestClassifier(min_samples_split=4)</pre><b>In a Jupyter environment, please rerun this cell to show the HTML representation or trust the notebook. <br />On GitHub, the HTML representation is unable to render, please try loading this page with nbviewer.org.</b></div><div class=\"sk-container\" hidden><div class=\"sk-item\"><div class=\"sk-estimator sk-toggleable\"><input class=\"sk-toggleable__control sk-hidden--visually\" id=\"sk-estimator-id-12\" type=\"checkbox\" checked><label for=\"sk-estimator-id-12\" class=\"sk-toggleable__label sk-toggleable__label-arrow\">RandomForestClassifier</label><div class=\"sk-toggleable__content\"><pre>RandomForestClassifier(min_samples_split=4)</pre></div></div></div></div></div>"
      ],
      "text/plain": [
       "RandomForestClassifier(min_samples_split=4)"
      ]
     },
     "execution_count": 89,
     "metadata": {},
     "output_type": "execute_result"
    }
   ],
   "source": [
    "model = RandomForestClassifier(min_samples_leaf=1, min_samples_split= 4, n_estimators= 100)\n",
    "model.fit(x_train_mi, y_train)"
   ]
  },
  {
   "cell_type": "code",
   "execution_count": 90,
   "id": "96483741",
   "metadata": {},
   "outputs": [
    {
     "name": "stdout",
     "output_type": "stream",
     "text": [
      "              precision    recall  f1-score   support\n",
      "\n",
      "     class E       1.00      0.98      0.99      5513\n",
      "     class P       0.98      1.00      0.99      6671\n",
      "\n",
      "    accuracy                           0.99     12184\n",
      "   macro avg       0.99      0.99      0.99     12184\n",
      "weighted avg       0.99      0.99      0.99     12184\n",
      "\n"
     ]
    },
    {
     "data": {
      "image/png": "[encoded data removed]",
      "text/plain": [
       "<Figure size 360x288 with 2 Axes>"
      ]
     },
     "metadata": {
      "needs_background": "light"
     },
     "output_type": "display_data"
    }
   ],
   "source": [
    "y_pred = model.predict(x_test_mi)\n",
    "P = model.predict_proba(x_test_mi)\n",
    "\n",
    "F1_RandFor_mi = f1_score(y_test, y_pred, average='macro')\n",
    "AC_RandFor_mi = accuracy_score(y_test, y_pred)\n",
    "RC_RandFor_mi = recall_score(y_test, y_pred,average=None)\n",
    "\n",
    "print(classification_report(y_test, y_pred, target_names=target_names))\n",
    "\n",
    "cm = confusion_matrix(y_test, y_pred)\n",
    "\n",
    "# Stampiamo la matrice di confusione\n",
    "plt.figure(figsize = (5,4))\n",
    "sns.heatmap(cm, annot = True, xticklabels=classes,yticklabels=classes)\n",
    "plt.xlabel('Predicted')\n",
    "plt.ylabel('Truth')\n",
    "plt.show()"
   ]
  },
  {
   "cell_type": "markdown",
   "id": "21ed4af8",
   "metadata": {},
   "source": [
    "### Random Forest con Matrice di Correlazione"
   ]
  },
  {
   "cell_type": "code",
   "execution_count": 91,
   "id": "a0807c06",
   "metadata": {},
   "outputs": [
    {
     "data": {
      "text/html": [
       "<style>#sk-container-id-13 {color: black;background-color: white;}#sk-container-id-13 pre{padding: 0;}#sk-container-id-13 div.sk-toggleable {background-color: white;}#sk-container-id-13 label.sk-toggleable__label {cursor: pointer;display: block;width: 100%;margin-bottom: 0;padding: 0.3em;box-sizing: border-box;text-align: center;}#sk-container-id-13 label.sk-toggleable__label-arrow:before {content: \"▸\";float: left;margin-right: 0.25em;color: #696969;}#sk-container-id-13 label.sk-toggleable__label-arrow:hover:before {color: black;}#sk-container-id-13 div.sk-estimator:hover label.sk-toggleable__label-arrow:before {color: black;}#sk-container-id-13 div.sk-toggleable__content {max-height: 0;max-width: 0;overflow: hidden;text-align: left;background-color: #f0f8ff;}#sk-container-id-13 div.sk-toggleable__content pre {margin: 0.2em;color: black;border-radius: 0.25em;background-color: #f0f8ff;}#sk-container-id-13 input.sk-toggleable__control:checked~div.sk-toggleable__content {max-height: 200px;max-width: 100%;overflow: auto;}#sk-container-id-13 input.sk-toggleable__control:checked~label.sk-toggleable__label-arrow:before {content: \"▾\";}#sk-container-id-13 div.sk-estimator input.sk-toggleable__control:checked~label.sk-toggleable__label {background-color: #d4ebff;}#sk-container-id-13 div.sk-label input.sk-toggleable__control:checked~label.sk-toggleable__label {background-color: #d4ebff;}#sk-container-id-13 input.sk-hidden--visually {border: 0;clip: rect(1px 1px 1px 1px);clip: rect(1px, 1px, 1px, 1px);height: 1px;margin: -1px;overflow: hidden;padding: 0;position: absolute;width: 1px;}#sk-container-id-13 div.sk-estimator {font-family: monospace;background-color: #f0f8ff;border: 1px dotted black;border-radius: 0.25em;box-sizing: border-box;margin-bottom: 0.5em;}#sk-container-id-13 div.sk-estimator:hover {background-color: #d4ebff;}#sk-container-id-13 div.sk-parallel-item::after {content: \"\";width: 100%;border-bottom: 1px solid gray;flex-grow: 1;}#sk-container-id-13 div.sk-label:hover label.sk-toggleable__label {background-color: #d4ebff;}#sk-container-id-13 div.sk-serial::before {content: \"\";position: absolute;border-left: 1px solid gray;box-sizing: border-box;top: 0;bottom: 0;left: 50%;z-index: 0;}#sk-container-id-13 div.sk-serial {display: flex;flex-direction: column;align-items: center;background-color: white;padding-right: 0.2em;padding-left: 0.2em;position: relative;}#sk-container-id-13 div.sk-item {position: relative;z-index: 1;}#sk-container-id-13 div.sk-parallel {display: flex;align-items: stretch;justify-content: center;background-color: white;position: relative;}#sk-container-id-13 div.sk-item::before, #sk-container-id-13 div.sk-parallel-item::before {content: \"\";position: absolute;border-left: 1px solid gray;box-sizing: border-box;top: 0;bottom: 0;left: 50%;z-index: -1;}#sk-container-id-13 div.sk-parallel-item {display: flex;flex-direction: column;z-index: 1;position: relative;background-color: white;}#sk-container-id-13 div.sk-parallel-item:first-child::after {align-self: flex-end;width: 50%;}#sk-container-id-13 div.sk-parallel-item:last-child::after {align-self: flex-start;width: 50%;}#sk-container-id-13 div.sk-parallel-item:only-child::after {width: 0;}#sk-container-id-13 div.sk-dashed-wrapped {border: 1px dashed gray;margin: 0 0.4em 0.5em 0.4em;box-sizing: border-box;padding-bottom: 0.4em;background-color: white;}#sk-container-id-13 div.sk-label label {font-family: monospace;font-weight: bold;display: inline-block;line-height: 1.2em;}#sk-container-id-13 div.sk-label-container {text-align: center;}#sk-container-id-13 div.sk-container {/* jupyter's `normalize.less` sets `[hidden] { display: none; }` but bootstrap.min.css set `[hidden] { display: none !important; }` so we also need the `!important` here to be able to override the default hidden behavior on the sphinx rendered scikit-learn.org. See: https://github.com/scikit-learn/scikit-learn/issues/21755 */display: inline-block !important;position: relative;}#sk-container-id-13 div.sk-text-repr-fallback {display: none;}</style><div id=\"sk-container-id-13\" class=\"sk-top-container\"><div class=\"sk-text-repr-fallback\"><pre>RandomForestClassifier(min_samples_split=4)</pre><b>In a Jupyter environment, please rerun this cell to show the HTML representation or trust the notebook. <br />On GitHub, the HTML representation is unable to render, please try loading this page with nbviewer.org.</b></div><div class=\"sk-container\" hidden><div class=\"sk-item\"><div class=\"sk-estimator sk-toggleable\"><input class=\"sk-toggleable__control sk-hidden--visually\" id=\"sk-estimator-id-13\" type=\"checkbox\" checked><label for=\"sk-estimator-id-13\" class=\"sk-toggleable__label sk-toggleable__label-arrow\">RandomForestClassifier</label><div class=\"sk-toggleable__content\"><pre>RandomForestClassifier(min_samples_split=4)</pre></div></div></div></div></div>"
      ],
      "text/plain": [
       "RandomForestClassifier(min_samples_split=4)"
      ]
     },
     "execution_count": 91,
     "metadata": {},
     "output_type": "execute_result"
    }
   ],
   "source": [
    "model = RandomForestClassifier(min_samples_leaf=1, min_samples_split= 4, n_estimators= 100)\n",
    "model.fit(x_train_mc, y_train)"
   ]
  },
  {
   "cell_type": "code",
   "execution_count": 92,
   "id": "f74ee486",
   "metadata": {},
   "outputs": [
    {
     "name": "stdout",
     "output_type": "stream",
     "text": [
      "              precision    recall  f1-score   support\n",
      "\n",
      "     class E       1.00      0.98      0.99      5513\n",
      "     class P       0.98      1.00      0.99      6671\n",
      "\n",
      "    accuracy                           0.99     12184\n",
      "   macro avg       0.99      0.99      0.99     12184\n",
      "weighted avg       0.99      0.99      0.99     12184\n",
      "\n"
     ]
    },
    {
     "data": {
      "image/png": "[encoded data removed]",
      "text/plain": [
       "<Figure size 360x288 with 2 Axes>"
      ]
     },
     "metadata": {
      "needs_background": "light"
     },
     "output_type": "display_data"
    }
   ],
   "source": [
    "y_pred = model.predict(x_test_mc)\n",
    "P = model.predict_proba(x_test_mc)\n",
    "\n",
    "F1_RandFor_mc = f1_score(y_test, y_pred, average='macro')\n",
    "AC_RandFor_mc = accuracy_score(y_test, y_pred)\n",
    "RC_RandFor_mc = recall_score(y_test, y_pred,average=None)\n",
    "\n",
    "print(classification_report(y_test, y_pred, target_names=target_names))\n",
    "\n",
    "cm = confusion_matrix(y_test, y_pred)\n",
    "\n",
    "# Stampiamo la matrice di confusione\n",
    "plt.figure(figsize = (5,4))\n",
    "sns.heatmap(cm, annot = True, xticklabels=classes,yticklabels=classes)\n",
    "plt.xlabel('Predicted')\n",
    "plt.ylabel('Truth')\n",
    "plt.show()"
   ]
  },
  {
   "cell_type": "markdown",
   "id": "b452ac75",
   "metadata": {},
   "source": [
    "### Random Forest con Decisional Tree"
   ]
  },
  {
   "cell_type": "code",
   "execution_count": 93,
   "id": "b7bddcf2",
   "metadata": {},
   "outputs": [
    {
     "data": {
      "text/html": [
       "<style>#sk-container-id-14 {color: black;background-color: white;}#sk-container-id-14 pre{padding: 0;}#sk-container-id-14 div.sk-toggleable {background-color: white;}#sk-container-id-14 label.sk-toggleable__label {cursor: pointer;display: block;width: 100%;margin-bottom: 0;padding: 0.3em;box-sizing: border-box;text-align: center;}#sk-container-id-14 label.sk-toggleable__label-arrow:before {content: \"▸\";float: left;margin-right: 0.25em;color: #696969;}#sk-container-id-14 label.sk-toggleable__label-arrow:hover:before {color: black;}#sk-container-id-14 div.sk-estimator:hover label.sk-toggleable__label-arrow:before {color: black;}#sk-container-id-14 div.sk-toggleable__content {max-height: 0;max-width: 0;overflow: hidden;text-align: left;background-color: #f0f8ff;}#sk-container-id-14 div.sk-toggleable__content pre {margin: 0.2em;color: black;border-radius: 0.25em;background-color: #f0f8ff;}#sk-container-id-14 input.sk-toggleable__control:checked~div.sk-toggleable__content {max-height: 200px;max-width: 100%;overflow: auto;}#sk-container-id-14 input.sk-toggleable__control:checked~label.sk-toggleable__label-arrow:before {content: \"▾\";}#sk-container-id-14 div.sk-estimator input.sk-toggleable__control:checked~label.sk-toggleable__label {background-color: #d4ebff;}#sk-container-id-14 div.sk-label input.sk-toggleable__control:checked~label.sk-toggleable__label {background-color: #d4ebff;}#sk-container-id-14 input.sk-hidden--visually {border: 0;clip: rect(1px 1px 1px 1px);clip: rect(1px, 1px, 1px, 1px);height: 1px;margin: -1px;overflow: hidden;padding: 0;position: absolute;width: 1px;}#sk-container-id-14 div.sk-estimator {font-family: monospace;background-color: #f0f8ff;border: 1px dotted black;border-radius: 0.25em;box-sizing: border-box;margin-bottom: 0.5em;}#sk-container-id-14 div.sk-estimator:hover {background-color: #d4ebff;}#sk-container-id-14 div.sk-parallel-item::after {content: \"\";width: 100%;border-bottom: 1px solid gray;flex-grow: 1;}#sk-container-id-14 div.sk-label:hover label.sk-toggleable__label {background-color: #d4ebff;}#sk-container-id-14 div.sk-serial::before {content: \"\";position: absolute;border-left: 1px solid gray;box-sizing: border-box;top: 0;bottom: 0;left: 50%;z-index: 0;}#sk-container-id-14 div.sk-serial {display: flex;flex-direction: column;align-items: center;background-color: white;padding-right: 0.2em;padding-left: 0.2em;position: relative;}#sk-container-id-14 div.sk-item {position: relative;z-index: 1;}#sk-container-id-14 div.sk-parallel {display: flex;align-items: stretch;justify-content: center;background-color: white;position: relative;}#sk-container-id-14 div.sk-item::before, #sk-container-id-14 div.sk-parallel-item::before {content: \"\";position: absolute;border-left: 1px solid gray;box-sizing: border-box;top: 0;bottom: 0;left: 50%;z-index: -1;}#sk-container-id-14 div.sk-parallel-item {display: flex;flex-direction: column;z-index: 1;position: relative;background-color: white;}#sk-container-id-14 div.sk-parallel-item:first-child::after {align-self: flex-end;width: 50%;}#sk-container-id-14 div.sk-parallel-item:last-child::after {align-self: flex-start;width: 50%;}#sk-container-id-14 div.sk-parallel-item:only-child::after {width: 0;}#sk-container-id-14 div.sk-dashed-wrapped {border: 1px dashed gray;margin: 0 0.4em 0.5em 0.4em;box-sizing: border-box;padding-bottom: 0.4em;background-color: white;}#sk-container-id-14 div.sk-label label {font-family: monospace;font-weight: bold;display: inline-block;line-height: 1.2em;}#sk-container-id-14 div.sk-label-container {text-align: center;}#sk-container-id-14 div.sk-container {/* jupyter's `normalize.less` sets `[hidden] { display: none; }` but bootstrap.min.css set `[hidden] { display: none !important; }` so we also need the `!important` here to be able to override the default hidden behavior on the sphinx rendered scikit-learn.org. See: https://github.com/scikit-learn/scikit-learn/issues/21755 */display: inline-block !important;position: relative;}#sk-container-id-14 div.sk-text-repr-fallback {display: none;}</style><div id=\"sk-container-id-14\" class=\"sk-top-container\"><div class=\"sk-text-repr-fallback\"><pre>RandomForestClassifier(min_samples_split=4)</pre><b>In a Jupyter environment, please rerun this cell to show the HTML representation or trust the notebook. <br />On GitHub, the HTML representation is unable to render, please try loading this page with nbviewer.org.</b></div><div class=\"sk-container\" hidden><div class=\"sk-item\"><div class=\"sk-estimator sk-toggleable\"><input class=\"sk-toggleable__control sk-hidden--visually\" id=\"sk-estimator-id-14\" type=\"checkbox\" checked><label for=\"sk-estimator-id-14\" class=\"sk-toggleable__label sk-toggleable__label-arrow\">RandomForestClassifier</label><div class=\"sk-toggleable__content\"><pre>RandomForestClassifier(min_samples_split=4)</pre></div></div></div></div></div>"
      ],
      "text/plain": [
       "RandomForestClassifier(min_samples_split=4)"
      ]
     },
     "execution_count": 93,
     "metadata": {},
     "output_type": "execute_result"
    }
   ],
   "source": [
    "model = RandomForestClassifier(min_samples_leaf=1, min_samples_split= 4, n_estimators= 100)\n",
    "model.fit(x_train_dt, y_train)"
   ]
  },
  {
   "cell_type": "code",
   "execution_count": 94,
   "id": "c78045d5",
   "metadata": {},
   "outputs": [
    {
     "name": "stdout",
     "output_type": "stream",
     "text": [
      "              precision    recall  f1-score   support\n",
      "\n",
      "     class E       1.00      0.98      0.99      5513\n",
      "     class P       0.98      1.00      0.99      6671\n",
      "\n",
      "    accuracy                           0.99     12184\n",
      "   macro avg       0.99      0.99      0.99     12184\n",
      "weighted avg       0.99      0.99      0.99     12184\n",
      "\n"
     ]
    },
    {
     "data": {
      "image/png": "[encoded data removed]",
      "text/plain": [
       "<Figure size 360x288 with 2 Axes>"
      ]
     },
     "metadata": {
      "needs_background": "light"
     },
     "output_type": "display_data"
    }
   ],
   "source": [
    "y_pred = model.predict(x_test_dt)\n",
    "P = model.predict_proba(x_test_dt)\n",
    "\n",
    "F1_RandFor_dt = f1_score(y_test, y_pred, average='macro')\n",
    "AC_RandFor_dt = accuracy_score(y_test, y_pred)\n",
    "RC_RandFor_dt = recall_score(y_test, y_pred,average=None)\n",
    "\n",
    "print(classification_report(y_test, y_pred, target_names=target_names))\n",
    "\n",
    "cm = confusion_matrix(y_test, y_pred)\n",
    "\n",
    "# Stampiamo la matrice di confusione\n",
    "plt.figure(figsize = (5,4))\n",
    "sns.heatmap(cm, annot = True, xticklabels=classes,yticklabels=classes)\n",
    "plt.xlabel('Predicted')\n",
    "plt.ylabel('Truth')\n",
    "plt.show()"
   ]
  },
  {
   "cell_type": "markdown",
   "id": "91ab958c",
   "metadata": {},
   "source": [
    "### Random Forest con PCA"
   ]
  },
  {
   "cell_type": "code",
   "execution_count": 95,
   "id": "da0702a0",
   "metadata": {},
   "outputs": [
    {
     "data": {
      "text/html": [
       "<style>#sk-container-id-15 {color: black;background-color: white;}#sk-container-id-15 pre{padding: 0;}#sk-container-id-15 div.sk-toggleable {background-color: white;}#sk-container-id-15 label.sk-toggleable__label {cursor: pointer;display: block;width: 100%;margin-bottom: 0;padding: 0.3em;box-sizing: border-box;text-align: center;}#sk-container-id-15 label.sk-toggleable__label-arrow:before {content: \"▸\";float: left;margin-right: 0.25em;color: #696969;}#sk-container-id-15 label.sk-toggleable__label-arrow:hover:before {color: black;}#sk-container-id-15 div.sk-estimator:hover label.sk-toggleable__label-arrow:before {color: black;}#sk-container-id-15 div.sk-toggleable__content {max-height: 0;max-width: 0;overflow: hidden;text-align: left;background-color: #f0f8ff;}#sk-container-id-15 div.sk-toggleable__content pre {margin: 0.2em;color: black;border-radius: 0.25em;background-color: #f0f8ff;}#sk-container-id-15 input.sk-toggleable__control:checked~div.sk-toggleable__content {max-height: 200px;max-width: 100%;overflow: auto;}#sk-container-id-15 input.sk-toggleable__control:checked~label.sk-toggleable__label-arrow:before {content: \"▾\";}#sk-container-id-15 div.sk-estimator input.sk-toggleable__control:checked~label.sk-toggleable__label {background-color: #d4ebff;}#sk-container-id-15 div.sk-label input.sk-toggleable__control:checked~label.sk-toggleable__label {background-color: #d4ebff;}#sk-container-id-15 input.sk-hidden--visually {border: 0;clip: rect(1px 1px 1px 1px);clip: rect(1px, 1px, 1px, 1px);height: 1px;margin: -1px;overflow: hidden;padding: 0;position: absolute;width: 1px;}#sk-container-id-15 div.sk-estimator {font-family: monospace;background-color: #f0f8ff;border: 1px dotted black;border-radius: 0.25em;box-sizing: border-box;margin-bottom: 0.5em;}#sk-container-id-15 div.sk-estimator:hover {background-color: #d4ebff;}#sk-container-id-15 div.sk-parallel-item::after {content: \"\";width: 100%;border-bottom: 1px solid gray;flex-grow: 1;}#sk-container-id-15 div.sk-label:hover label.sk-toggleable__label {background-color: #d4ebff;}#sk-container-id-15 div.sk-serial::before {content: \"\";position: absolute;border-left: 1px solid gray;box-sizing: border-box;top: 0;bottom: 0;left: 50%;z-index: 0;}#sk-container-id-15 div.sk-serial {display: flex;flex-direction: column;align-items: center;background-color: white;padding-right: 0.2em;padding-left: 0.2em;position: relative;}#sk-container-id-15 div.sk-item {position: relative;z-index: 1;}#sk-container-id-15 div.sk-parallel {display: flex;align-items: stretch;justify-content: center;background-color: white;position: relative;}#sk-container-id-15 div.sk-item::before, #sk-container-id-15 div.sk-parallel-item::before {content: \"\";position: absolute;border-left: 1px solid gray;box-sizing: border-box;top: 0;bottom: 0;left: 50%;z-index: -1;}#sk-container-id-15 div.sk-parallel-item {display: flex;flex-direction: column;z-index: 1;position: relative;background-color: white;}#sk-container-id-15 div.sk-parallel-item:first-child::after {align-self: flex-end;width: 50%;}#sk-container-id-15 div.sk-parallel-item:last-child::after {align-self: flex-start;width: 50%;}#sk-container-id-15 div.sk-parallel-item:only-child::after {width: 0;}#sk-container-id-15 div.sk-dashed-wrapped {border: 1px dashed gray;margin: 0 0.4em 0.5em 0.4em;box-sizing: border-box;padding-bottom: 0.4em;background-color: white;}#sk-container-id-15 div.sk-label label {font-family: monospace;font-weight: bold;display: inline-block;line-height: 1.2em;}#sk-container-id-15 div.sk-label-container {text-align: center;}#sk-container-id-15 div.sk-container {/* jupyter's `normalize.less` sets `[hidden] { display: none; }` but bootstrap.min.css set `[hidden] { display: none !important; }` so we also need the `!important` here to be able to override the default hidden behavior on the sphinx rendered scikit-learn.org. See: https://github.com/scikit-learn/scikit-learn/issues/21755 */display: inline-block !important;position: relative;}#sk-container-id-15 div.sk-text-repr-fallback {display: none;}</style><div id=\"sk-container-id-15\" class=\"sk-top-container\"><div class=\"sk-text-repr-fallback\"><pre>RandomForestClassifier(min_samples_split=4)</pre><b>In a Jupyter environment, please rerun this cell to show the HTML representation or trust the notebook. <br />On GitHub, the HTML representation is unable to render, please try loading this page with nbviewer.org.</b></div><div class=\"sk-container\" hidden><div class=\"sk-item\"><div class=\"sk-estimator sk-toggleable\"><input class=\"sk-toggleable__control sk-hidden--visually\" id=\"sk-estimator-id-15\" type=\"checkbox\" checked><label for=\"sk-estimator-id-15\" class=\"sk-toggleable__label sk-toggleable__label-arrow\">RandomForestClassifier</label><div class=\"sk-toggleable__content\"><pre>RandomForestClassifier(min_samples_split=4)</pre></div></div></div></div></div>"
      ],
      "text/plain": [
       "RandomForestClassifier(min_samples_split=4)"
      ]
     },
     "execution_count": 95,
     "metadata": {},
     "output_type": "execute_result"
    }
   ],
   "source": [
    "model = RandomForestClassifier(min_samples_leaf=1, min_samples_split= 4, n_estimators= 100)\n",
    "model.fit(x_train_pca, y_train)"
   ]
  },
  {
   "cell_type": "code",
   "execution_count": 96,
   "id": "cbe56c79",
   "metadata": {},
   "outputs": [
    {
     "name": "stdout",
     "output_type": "stream",
     "text": [
      "              precision    recall  f1-score   support\n",
      "\n",
      "     class E       1.00      0.99      1.00      5513\n",
      "     class P       1.00      1.00      1.00      6671\n",
      "\n",
      "    accuracy                           1.00     12184\n",
      "   macro avg       1.00      1.00      1.00     12184\n",
      "weighted avg       1.00      1.00      1.00     12184\n",
      "\n"
     ]
    },
    {
     "data": {
      "image/png": "[encoded data removed]",
      "text/plain": [
       "<Figure size 360x288 with 2 Axes>"
      ]
     },
     "metadata": {
      "needs_background": "light"
     },
     "output_type": "display_data"
    }
   ],
   "source": [
    "y_pred = model.predict(x_test_pca)\n",
    "P = model.predict_proba(x_test_pca)\n",
    "\n",
    "F1_RandFor_pca = f1_score(y_test, y_pred, average='macro')\n",
    "AC_RandFor_pca = accuracy_score(y_test, y_pred)\n",
    "RC_RandFor_pca = recall_score(y_test, y_pred,average=None)\n",
    "\n",
    "print(classification_report(y_test, y_pred, target_names=target_names))\n",
    "\n",
    "cm = confusion_matrix(y_test, y_pred)\n",
    "\n",
    "# Stampiamo la matrice di confusione\n",
    "plt.figure(figsize = (5,4))\n",
    "sns.heatmap(cm, annot = True, xticklabels=classes,yticklabels=classes)\n",
    "plt.xlabel('Predicted')\n",
    "plt.ylabel('Truth')\n",
    "plt.show()"
   ]
  },
  {
   "cell_type": "code",
   "execution_count": 97,
   "id": "0158aa9e",
   "metadata": {},
   "outputs": [
    {
     "name": "stdout",
     "output_type": "stream",
     "text": [
      "Modello              Mean Recall Poisonous    Mean F1-score    Mean accuracy score\n",
      "-----------------  -----------------------  ---------------  ---------------------\n",
      "Random Forest                     1                0.98921                0.98933\n",
      "Random Forest_mi                  0.99985          0.98896                0.989084\n",
      "Random Forest_mc                  1                0.989958               0.990069\n",
      "Random Forest_dt                  0.995953         0.987806               0.987935\n",
      "Random Forest_pca                 0.998201         0.996686               0.996717\n"
     ]
    }
   ],
   "source": [
    "rows = [['Modello', 'Mean Recall Poisonous', 'Mean F1-score', 'Mean accuracy score'],\n",
    "        ['Random Forest', RC_RandFor[1], F1_RandFor, AC_RandFor],\n",
    "        ['Random Forest_mi', RC_RandFor_mi[1], F1_RandFor_mi, AC_RandFor_mi],\n",
    "        ['Random Forest_mc', RC_RandFor_mc[1], F1_RandFor_mc, AC_RandFor_mc],\n",
    "        ['Random Forest_dt', RC_RandFor_dt[1], F1_RandFor_dt, AC_RandFor_dt],\n",
    "        ['Random Forest_pca', RC_RandFor_pca[1], F1_RandFor_pca, AC_RandFor_pca],\n",
    "         ]\n",
    "\n",
    "print(tabulate(rows, headers='firstrow'))"
   ]
  },
  {
   "cell_type": "markdown",
   "id": "c9618c3b",
   "metadata": {},
   "source": [
    "# Conclusioni\n",
    "\n",
    "Lo studio sulla classificazione in base all'edibilità dei funghi basato su un dataset di 61069 elementi caratterizzati da 20 features oltre alla classe è iniziato con la fase di pre-processing. In essa si è inizialmente analizzato il dataset, riscontrando la presenza, per la maggior parte delle features, di variabili categoriche.\n",
    "L'utilizzo della LabelEncoder() ha risolto il problema.\n",
    "\n",
    "Si è proceduto con l'applicazione dei metodi di features selection sul dataset al fine di gestire le problematiche relative ai valori Null( le feature composte per oltre l'80% dei valori dall'attributo Null sono state eliminate, mentre le restanti sono state gestitite andando a sostituire il valore con un carattere opportuno). In questa fase risulta rilevante anche la gestione degli outliers seppur limitata per ovvie ragioni alle tre features a valori continui. \n",
    "\n",
    "Essendovi una grande prevalenza di valori discreti, tutti dello stesso ordine di grandezza al quale appertengono anche i pochi valori continui rimasti tra le features, si è concluso che l'utilizzo di uno Scaler sarebbe potuto essere vano se non direttamente controproducente. Tale ipotesi troverà poi conferma nelle successive verifiche in seguito alla scelta del miglior classificatore.\n",
    "\n",
    "Anche per il Resampling si è fatta una considerazione simile, dovuta in questo caso al bilanciamento tra le cardinalità delle due classi e al più che sufficiente numero di elementi del dataset. Anche in questo caso successive verifiche proveranno la veridicità delle affermazione fatte.\n",
    "\n",
    "Nella fase di classificazione, sebbene la natura del dataset rendesse chiara l'idea che classificatori basati su alberi fossero migliori di quelli lineari, ne sono stati testati diversi. Tra tutti il Random Forest è stato eletto il migliore in base ad F1 score, accuracy e soprattutto la Recall dei Poisonous. Pertanto i vari scaler e metodi di resampling sono stati successivamente testati tramite esso, evidenziando il fatto che le supposizioni iniziali fossero corrette.\n",
    "\n",
    "Tra i vari Dataset testati, quello con le migliori prestazioni (seppur di un valore infinitesimo) si è rivelato essere quello ottenuto tramite la matrice di correlazione, con la quale la feature \"stem-widht\" è stata eliminata poiché estremamente correlata con la \" cap-diameter\".\n",
    "\n",
    "Quindi, in conclusione, sebbene non sia stato possibile classificare correttamente ed ottenere il 100% nell'F1-score, lo è stato quantomeno per il raggiungimento del valore massimo per la metrica Recall dei Poisonous, permettendo così di classificare correttamente tutti i funghi appartenenti alla classe P."
   ]
  }
 ],
 "metadata": {
  "kernelspec": {
   "display_name": "Python 3 (ipykernel)",
   "language": "python",
   "name": "python3"
  },
  "language_info": {
   "codemirror_mode": {
    "name": "ipython",
    "version": 3
   },
   "file_extension": ".py",
   "mimetype": "text/x-python",
   "name": "python",
   "nbconvert_exporter": "python",
   "pygments_lexer": "ipython3",
   "version": "3.9.12"
  }
 },
 "nbformat": 4,
 "nbformat_minor": 5
}
